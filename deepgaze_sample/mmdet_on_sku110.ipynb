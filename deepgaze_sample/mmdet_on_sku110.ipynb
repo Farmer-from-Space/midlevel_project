{
 "cells": [
  {
   "cell_type": "markdown",
   "id": "049b33eb",
   "metadata": {},
   "source": [
    "# purpose : New pretrained file for DeepgazeIIE model "
   ]
  },
  {
   "cell_type": "markdown",
   "id": "b1f672b2",
   "metadata": {},
   "source": [
    "## data & frame 준비 "
   ]
  },
  {
   "cell_type": "code",
   "execution_count": 1,
   "id": "fd993430",
   "metadata": {},
   "outputs": [],
   "source": [
    "# data path\n",
    "base_path = '/Users/krc/Documents/retail/'"
   ]
  },
  {
   "cell_type": "code",
   "execution_count": 2,
   "id": "32f05db5",
   "metadata": {},
   "outputs": [
    {
     "data": {
      "text/plain": [
       "'1.13.0.dev20220623'"
      ]
     },
     "execution_count": 2,
     "metadata": {},
     "output_type": "execute_result"
    }
   ],
   "source": [
    "# install check \n",
    "import torch\n",
    "import os\n",
    "import csv\n",
    "torch.__version__"
   ]
  },
  {
   "cell_type": "code",
   "execution_count": 3,
   "id": "fdbe15ea",
   "metadata": {},
   "outputs": [
    {
     "data": {
      "text/plain": [
       "'/Users/krc/Documents/retail/retail_gh/deepgaze_sample'"
      ]
     },
     "execution_count": 3,
     "metadata": {},
     "output_type": "execute_result"
    }
   ],
   "source": [
    "os.getcwd()"
   ]
  },
  {
   "cell_type": "code",
   "execution_count": 4,
   "id": "bc2b330f",
   "metadata": {},
   "outputs": [
    {
     "name": "stdout",
     "output_type": "stream",
     "text": [
      "/Users/krc/Documents/retail\n"
     ]
    }
   ],
   "source": [
    "%cd ../../"
   ]
  },
  {
   "cell_type": "code",
   "execution_count": 5,
   "id": "258cee0b",
   "metadata": {},
   "outputs": [],
   "source": [
    "# #mmdetection installation \n",
    "# !pip install mmcv-full -f https://download.openmmlab.com/mmcv/dist/cu113/torch1.12.0/index.html\n",
    "# !git clone https://github.com/open-mmlab/mmdetection.git\n",
    "# %cd mmdetection\n",
    "# !pip install -r requirements/build.txt\n",
    "# !pip install -v -e .\n",
    "# !pip install mmdet"
   ]
  },
  {
   "cell_type": "code",
   "execution_count": 6,
   "id": "36fcafd4",
   "metadata": {},
   "outputs": [
    {
     "data": {
      "text/plain": [
       "['1조_리테일앤인사이트_기획안발표.pptx',\n",
       " '리테일앤인사이트_RFP.docx',\n",
       " '.DS_Store',\n",
       " 'DeepGazeIIE-1.0.0',\n",
       " 'retail_gh',\n",
       " 'work',\n",
       " 'mmdetection',\n",
       " 'deep_gaze_jup',\n",
       " '1조_리테일앤인사이트_기획안발표_수정1.pptx',\n",
       " 'data',\n",
       " 'reference']"
      ]
     },
     "execution_count": 6,
     "metadata": {},
     "output_type": "execute_result"
    }
   ],
   "source": [
    "os.listdir()"
   ]
  },
  {
   "cell_type": "code",
   "execution_count": 7,
   "id": "e608e542",
   "metadata": {
    "scrolled": true
   },
   "outputs": [
    {
     "name": "stderr",
     "output_type": "stream",
     "text": [
      "IOPub data rate exceeded.\n",
      "The notebook server will temporarily stop sending output\n",
      "to the client in order to avoid crashing it.\n",
      "To change this limit, set the config variable\n",
      "`--NotebookApp.iopub_data_rate_limit`.\n",
      "\n",
      "Current values:\n",
      "NotebookApp.iopub_data_rate_limit=1000000.0 (bytes/sec)\n",
      "NotebookApp.rate_limit_window=3.0 (secs)\n",
      "\n"
     ]
    }
   ],
   "source": [
    "# annotation by csv \n",
    "f =open('/Users/krc/Documents/retail/data/SKU110K_fixed/annotations/annotations_train.csv','r')\n",
    "annotation = csv.reader(f)\n",
    "# image_name,x1,y1,x2,y2,class,image_width,image_height\n",
    "ls_ann = list(annotation)\n",
    "print(ls_ann)\n",
    "f.close()"
   ]
  },
  {
   "cell_type": "code",
   "execution_count": 8,
   "id": "1d7ac6af",
   "metadata": {},
   "outputs": [
    {
     "name": "stdout",
     "output_type": "stream",
     "text": [
      "['image_name', 'x1', 'y1', 'x2', 'y2', 'class', 'image_width', 'image_height']\n",
      "['train_999.jpg', '905', '1589', '1144', '1712', 'object', '2336', '4160']\n",
      "train_999.jpg\n"
     ]
    }
   ],
   "source": [
    "index = ['image_name','x1','y1','x2','y2','class','image_width','image_height']\n",
    "print(index)\n",
    "print(ls_ann[-1])\n",
    "print(ls_ann[-1][0])\n"
   ]
  },
  {
   "cell_type": "code",
   "execution_count": 9,
   "id": "54440a05",
   "metadata": {},
   "outputs": [],
   "source": [
    "# annotation 생성\n",
    "import copy\n",
    "import os.path as osp\n",
    "import cv2\n",
    "import yaml\n",
    "\n",
    "import mmcv\n",
    "import numpy as np\n",
    "\n",
    "from mmdet.datasets.builder import DATASETS\n",
    "from mmdet.datasets.custom import CustomDataset\n",
    "\n",
    "CLASSES = ('object')\n",
    "# cat2label = {k:i for i, k in enumerate(CLASSES)}\n",
    "\n",
    "# 반드시 아래 Decorator 설정 할것.@DATASETS.register_module() 설정 시 force=True를 입력하지 않으면 Dataset 재등록 불가. \n",
    "# @DATASETS.register_module(force=True)\n",
    "# class SKIKU110K(CustomDataset):\n",
    "#   CLASSES = ('object')\n",
    "  \n",
    "  ##### self.data_root: ./kitti_tiny/ self.ann_file: ./kitti_tiny/train.txt self.img_prefix: ./kitti_tiny/training/image_2\n",
    "  #### ann_file: ./kitti_tiny/train.txt\n",
    "  # annotation에 대한 모든 파일명을 가지고 있는 텍스트 파일을 __init__(self, ann_file)로 입력 받고, 이 self.ann_file이 load_annotations()의 인자로 입력\n",
    "def load_annotations(self, ann_file):\n",
    "#     print('##### self.data_root:', self.data_root, 'self.ann_file:', self.ann_file, 'self.img_prefix:', self.img_prefix)\n",
    "#     print('#### ann_file:', ann_file)\n",
    "#    cat2label = {k:i for i, k in enumerate(self.CLASSES)}\n",
    "    # 포맷 중립 데이터를 담을 list 객체\n",
    "    data_infos = []\n",
    "    \n",
    "    for label in ann_file:\n",
    "      filename = label[0]\n",
    "      height, width = label[6],label[7]\n",
    "      # 개별 image의 annotation 정보 저장용 Dict 생성. key값 filename 에는 image의 파일명만 들어감(디렉토리는 제외)\n",
    "      data_info = {'filename': str(filename),\n",
    "                   'width': int(width), 'height': int(height)}\n",
    "\n",
    "      # 오브젝트의 클래스명은 bbox_names로 저장. \n",
    "      bbox_names = label[5]\n",
    "      # bbox 좌표를 저장\n",
    "      bboxes = [int(label[1]),int(label[2]), int(label[3]), int(label[4])]\n",
    "\n",
    "#       # 클래스명이 해당 사항이 없는 대상 Filtering out, 'DontCare'sms ignore로 별도 저장.\n",
    "#       gt_bboxes = []\n",
    "#       gt_labels = []\n",
    "#       gt_bboxes_ignore = []\n",
    "#       gt_labels_ignore = []\n",
    "\n",
    "#       for bbox_name, bbox in zip(bbox_names, bboxes):\n",
    "#         # 만약 bbox_name이 클래스명에 해당 되면, gt_bboxes와 gt_labels에 추가, 그렇지 않으면 gt_bboxes_ignore, gt_labels_ignore에 추가\n",
    "#         if bbox_name in cat2label:\n",
    "#           gt_bboxes.append(bbox)\n",
    "#           # gt_labels에는 class id를 입력\n",
    "#           gt_labels.append(cat2label[bbox_name])\n",
    "#         else:\n",
    "#           gt_bboxes_ignore.append(bbox)\n",
    "#           gt_labels_ignore.append(-1)\n",
    "#       # 개별 image별 annotation 정보를 가지는 Dict 생성. 해당 Dict의 value값은 모두 np.array임. \n",
    "      data_anno = {\n",
    "          'bboxes': [ bboxes ],\n",
    "          'labels': [(0,)], #gt_labels\n",
    "          'bboxes_ignore': np.zeros((1, 4), dtype=np.float32).tolist(),\n",
    "          'labels_ignore': np.zeros((1, 4), dtype=np.float32).tolist()\n",
    "      }\n",
    "      # image에 대한 메타 정보를 가지는 data_info Dict에 'ann' key값으로 data_anno를 value로 저장. \n",
    "      data_info.update(ann=data_anno)\n",
    "      # 전체 annotation 파일들에 대한 정보를 가지는 data_infos에 data_info Dict를 추가\n",
    "      data_infos.append(data_info)\n",
    "\n",
    "    return data_infos"
   ]
  },
  {
   "cell_type": "code",
   "execution_count": 10,
   "id": "879c19da",
   "metadata": {
    "scrolled": true
   },
   "outputs": [],
   "source": [
    "\n",
    "# new_ann = load_annotations(CustomDataset,ann_file=ls_ann)\n",
    "# print(new_ann)"
   ]
  },
  {
   "cell_type": "code",
   "execution_count": 11,
   "id": "2549aad5",
   "metadata": {},
   "outputs": [],
   "source": [
    "# import json\n",
    " \n",
    "# with open('/Users/krc/Documents/retail/data/SKU110K_fixed/annotations/train_ann.json', 'w') as f:\n",
    "#     json.dump(new_ann, f,indent=4)"
   ]
  },
  {
   "cell_type": "code",
   "execution_count": 12,
   "id": "fa0e9a41",
   "metadata": {},
   "outputs": [],
   "source": [
    "# # annotation by csv \n",
    "# f =open('/Users/krc/Documents/retail/data/SKU110K_fixed/annotations/annotations_val.csv','r')\n",
    "# annotation = csv.reader(f)\n",
    "# # image_name,x1,y1,x2,y2,class,image_width,image_height\n",
    "# val_ann = list(annotation)\n",
    "# f.close()\n",
    "\n",
    "# import json\n",
    "# val_ann = load_annotations(CustomDataset,ann_file=val_ann)\n",
    "\n",
    "\n",
    "# with open('/Users/krc/Documents/retail/data/SKU110K_fixed/annotations/val_ann.json', 'w') as f:\n",
    "#     json.dump(val_ann, f,indent=4)"
   ]
  },
  {
   "cell_type": "code",
   "execution_count": 13,
   "id": "18b8124c",
   "metadata": {},
   "outputs": [
    {
     "data": {
      "text/plain": [
       "'/Users/krc/Documents/retail'"
      ]
     },
     "execution_count": 13,
     "metadata": {},
     "output_type": "execute_result"
    }
   ],
   "source": [
    "os.getcwd()"
   ]
  },
  {
   "cell_type": "markdown",
   "id": "62fdca04",
   "metadata": {},
   "source": [
    "## DETR 사전 가중치 다운로드 "
   ]
  },
  {
   "cell_type": "code",
   "execution_count": 14,
   "id": "a0c53e48",
   "metadata": {},
   "outputs": [],
   "source": [
    "os.chdir('/Users/krc/Documents/retail/mmdetection/')\n",
    "if not os.path.isdir(\"checkpoint\"):\n",
    "    os.mkdir(\"checkpoint\")\n",
    "os.chdir('checkpoint')\n",
    "\n",
    "from requests import get \n",
    "\n",
    "def download(url, file_name):\n",
    "    with open(file_name, \"wb\") as file:   \n",
    "        response = get(url)               \n",
    "        file.write(response.content)\n",
    "\n",
    "\n",
    "# url = \"https://github.com/open-mmlab/mmdetection/tree/master/configs/deformable_detr\"\n",
    "# download(url,\"deformable_detr_r50_16x2_50e_coco_20210419_220030-a12b9512.pth.pth\")\n",
    "\n",
    "os.chdir('/Users/krc/Documents/retail/mmdetection/')"
   ]
  },
  {
   "cell_type": "markdown",
   "id": "26001e18",
   "metadata": {},
   "source": [
    "## wand (굳이..) "
   ]
  },
  {
   "cell_type": "code",
   "execution_count": 15,
   "id": "f58cc229",
   "metadata": {},
   "outputs": [],
   "source": [
    "#wandb setting first \n",
    "import wandb"
   ]
  },
  {
   "cell_type": "code",
   "execution_count": 16,
   "id": "95fba40c",
   "metadata": {},
   "outputs": [
    {
     "name": "stderr",
     "output_type": "stream",
     "text": [
      "\u001b[34m\u001b[1mwandb\u001b[0m: Currently logged in as: \u001b[33mrumj\u001b[0m. Use \u001b[1m`wandb login --relogin`\u001b[0m to force relogin\n"
     ]
    },
    {
     "data": {
      "text/plain": [
       "True"
      ]
     },
     "execution_count": 16,
     "metadata": {},
     "output_type": "execute_result"
    }
   ],
   "source": [
    "wandb.login()"
   ]
  },
  {
   "cell_type": "code",
   "execution_count": 23,
   "id": "598bf9e4",
   "metadata": {},
   "outputs": [],
   "source": [
    "#!pip install mmcv-full\n",
    "#!pip install terminaltables\n",
    "#!pip install imagecorruptions\n",
    "#!pip install -q pycocotools\n",
    "\n",
    "import mmcv\n",
    "from mmcv.runner import load_checkpoint\n",
    "from mmdet.apis import inference_detector, show_result_pyplot\n",
    "from mmdet.models import build_detector\n",
    "from mmdet.apis import set_random_seed\n",
    "import os.path as osp\n",
    "\n",
    "def set_config():\n",
    "  # 사용할 모델 초기 py 설정\n",
    "  config = '/Users/krc/Documents/retail/mmdetection/configs/deformable_detr/deformable_detr_r50_16x2_50e_coco.py'\n",
    "\n",
    "  # config 불러오기\n",
    "  cfg = mmcv.Config.fromfile(config)\n",
    "\n",
    "  # config 에 base 기록\n",
    "  cfg.base = '/Users/krc/Documents/retail/mmdetection/configs/detr/detr_r50_8x2_150e_coco.py'\n",
    "\n",
    "  # 데이터셋 지정\n",
    "  cfg.dataset_type = 'CustomDataset'\n",
    "\n",
    "  # data_root는 사용자가 저장한 데이터가 있는 폴더 전까지\n",
    "  data_root = '/Users/krc/Documents/retail/data/SKU110K_fixed/'\n",
    "\n",
    "  # class 설정\n",
    "  cfg.classes = ('object',)\n",
    "\n",
    "  # train, val, test 데이터셋에 대한 type, data_root, ann_file, img_prefix 설정\n",
    "\n",
    "  cfg.data.samples_per_gpu=1\n",
    "  cfg.data.workers_per_gpu=0\n",
    "\n",
    "  cfg.data.train.data_root = data_root\n",
    "  cfg.data.train.ann_file = '/Users/krc/Documents/retail/data/SKU110K_fixed/annotations_train.json/annotations_train.json' \n",
    "  cfg.data.train.img_prefix = 'train/' \n",
    "  cfg.data.train.classes = cfg.classes\n",
    "#  cfg.data.train.type = 'CustomDataset'\n",
    "\n",
    "  cfg.data.val.data_root = data_root \n",
    "  cfg.data.val.ann_file = '/Users/krc/Documents/retail/data/SKU110K_fixed/annotations_val.json/annotations_val.json'\n",
    "  cfg.data.val.img_prefix = 'val/'\n",
    "  cfg.data.val.classes = cfg.classes\n",
    "#  cfg.data.val.type = 'CustomDataset'\n",
    "\n",
    "  cfg.data.test.data_root = data_root \n",
    "  cfg.data.test.ann_file = 'test.json'\n",
    "  cfg.data.test.img_prefix = 'test/'\n",
    "  cfg.data.test.classes = cfg.classes\n",
    "#  cfg.data.test.type = 'CustomDataset'\n",
    "\n",
    "  # 클래스 수 지정\n",
    "  cfg.model.bbox_head.num_classes = 1\n",
    "#  cfg.model.roi_head.mask_head.num_classes = 1\n",
    "\n",
    "\n",
    "  # 사전 훈련 모델 지정\n",
    "  cfg.checkpoint_config = dict(interval=10,out_dir='work/ch_config/')\n",
    "  cfg.load_from = '/Users/krc/Documents/retail/mmdetection/checkpoint/deformable_detr_r50_16x2_50e_coco_20210419_220030-a12b9512.pth'\n",
    "\n",
    "\n",
    "  # 가중치 저장 위치\n",
    "  cfg.work_dir =  './work/weights/'\n",
    "\n",
    "  # 평가 지표로 설정\n",
    "  cfg.evaluation.metric = ['bbox']\n",
    "\n",
    "  # epoch 설정\n",
    "  cfg.runner = dict(type='EpochBasedRunner', max_epochs=40) \n",
    "\n",
    "  # batch size 설정\n",
    "  cfg.auto_scale_lr = dict(enable=False, base_batch_size=32)\n",
    "\n",
    "  # gpu 설정 및 seed 설정\n",
    "  cfg.seed = 42\n",
    "  cfg.gpu_ids = range(1)\n",
    "  cfg.device= 'cpu' # for local\n",
    "\n",
    "  #wandb setting\n",
    "  cfg.log_config.hooks = [\n",
    "        dict(type='TextLoggerHook'),\n",
    "        dict(type='MMDetWandbHook',\n",
    "             init_kwargs={\n",
    "                          'project': 'SKU_DETR',\n",
    "                          'config': {\"optimizer\" : 'AdamW, default',\n",
    "                          \"batch_size\" :32,\n",
    "                          \"epochs\" :40,\n",
    "                          \"lr_config\" : 'CosineAnnealning' }\n",
    "                         },\n",
    "             interval=4,\n",
    "             log_checkpoint=True,\n",
    "             log_checkpoint_metadata=True,\n",
    "             num_eval_images=100,\n",
    "             bbox_score_thr=0.1)]\n",
    "\n",
    "  #learning rate\n",
    "  cfg.lr_config = dict(\n",
    "   policy='CosineAnnealing',\n",
    "   by_epoch=False,\n",
    "   min_lr=0)\n",
    "    \n",
    "    \n",
    "  meta = dict()\n",
    "  meta['exp_name'] = osp.basename(config)\n",
    "  print(meta)\n",
    "\n",
    "\n",
    "  return cfg\n",
    "\n"
   ]
  },
  {
   "cell_type": "code",
   "execution_count": 24,
   "id": "16811da8",
   "metadata": {},
   "outputs": [
    {
     "name": "stdout",
     "output_type": "stream",
     "text": [
      "{'exp_name': 'deformable_detr_r50_16x2_50e_coco.py'}\n"
     ]
    }
   ],
   "source": [
    "cfg = set_config()"
   ]
  },
  {
   "cell_type": "code",
   "execution_count": 25,
   "id": "7a42d5b8",
   "metadata": {},
   "outputs": [
    {
     "name": "stdout",
     "output_type": "stream",
     "text": [
      "dataset_type = 'CustomDataset'\n",
      "data_root = 'data/coco/'\n",
      "img_norm_cfg = dict(\n",
      "    mean=[123.675, 116.28, 103.53], std=[58.395, 57.12, 57.375], to_rgb=True)\n",
      "train_pipeline = [\n",
      "    dict(type='LoadImageFromFile'),\n",
      "    dict(type='LoadAnnotations', with_bbox=True),\n",
      "    dict(type='RandomFlip', flip_ratio=0.5),\n",
      "    dict(\n",
      "        type='AutoAugment',\n",
      "        policies=[[{\n",
      "            'type':\n",
      "            'Resize',\n",
      "            'img_scale': [(480, 1333), (512, 1333), (544, 1333), (576, 1333),\n",
      "                          (608, 1333), (640, 1333), (672, 1333), (704, 1333),\n",
      "                          (736, 1333), (768, 1333), (800, 1333)],\n",
      "            'multiscale_mode':\n",
      "            'value',\n",
      "            'keep_ratio':\n",
      "            True\n",
      "        }],\n",
      "                  [{\n",
      "                      'type': 'Resize',\n",
      "                      'img_scale': [(400, 4200), (500, 4200), (600, 4200)],\n",
      "                      'multiscale_mode': 'value',\n",
      "                      'keep_ratio': True\n",
      "                  }, {\n",
      "                      'type': 'RandomCrop',\n",
      "                      'crop_type': 'absolute_range',\n",
      "                      'crop_size': (384, 600),\n",
      "                      'allow_negative_crop': True\n",
      "                  }, {\n",
      "                      'type':\n",
      "                      'Resize',\n",
      "                      'img_scale': [(480, 1333), (512, 1333), (544, 1333),\n",
      "                                    (576, 1333), (608, 1333), (640, 1333),\n",
      "                                    (672, 1333), (704, 1333), (736, 1333),\n",
      "                                    (768, 1333), (800, 1333)],\n",
      "                      'multiscale_mode':\n",
      "                      'value',\n",
      "                      'override':\n",
      "                      True,\n",
      "                      'keep_ratio':\n",
      "                      True\n",
      "                  }]]),\n",
      "    dict(\n",
      "        type='Normalize',\n",
      "        mean=[123.675, 116.28, 103.53],\n",
      "        std=[58.395, 57.12, 57.375],\n",
      "        to_rgb=True),\n",
      "    dict(type='Pad', size_divisor=1),\n",
      "    dict(type='DefaultFormatBundle'),\n",
      "    dict(type='Collect', keys=['img', 'gt_bboxes', 'gt_labels'])\n",
      "]\n",
      "test_pipeline = [\n",
      "    dict(type='LoadImageFromFile'),\n",
      "    dict(\n",
      "        type='MultiScaleFlipAug',\n",
      "        img_scale=(1333, 800),\n",
      "        flip=False,\n",
      "        transforms=[\n",
      "            dict(type='Resize', keep_ratio=True),\n",
      "            dict(type='RandomFlip'),\n",
      "            dict(\n",
      "                type='Normalize',\n",
      "                mean=[123.675, 116.28, 103.53],\n",
      "                std=[58.395, 57.12, 57.375],\n",
      "                to_rgb=True),\n",
      "            dict(type='Pad', size_divisor=1),\n",
      "            dict(type='ImageToTensor', keys=['img']),\n",
      "            dict(type='Collect', keys=['img'])\n",
      "        ])\n",
      "]\n",
      "data = dict(\n",
      "    samples_per_gpu=1,\n",
      "    workers_per_gpu=0,\n",
      "    train=dict(\n",
      "        type='CocoDataset',\n",
      "        ann_file=\n",
      "        '/Users/krc/Documents/retail/data/SKU110K_fixed/annotations_train.json/annotations_train.json',\n",
      "        img_prefix='train/',\n",
      "        pipeline=[\n",
      "            dict(type='LoadImageFromFile'),\n",
      "            dict(type='LoadAnnotations', with_bbox=True),\n",
      "            dict(type='RandomFlip', flip_ratio=0.5),\n",
      "            dict(\n",
      "                type='AutoAugment',\n",
      "                policies=[[{\n",
      "                    'type':\n",
      "                    'Resize',\n",
      "                    'img_scale': [(480, 1333), (512, 1333), (544, 1333),\n",
      "                                  (576, 1333), (608, 1333), (640, 1333),\n",
      "                                  (672, 1333), (704, 1333), (736, 1333),\n",
      "                                  (768, 1333), (800, 1333)],\n",
      "                    'multiscale_mode':\n",
      "                    'value',\n",
      "                    'keep_ratio':\n",
      "                    True\n",
      "                }],\n",
      "                          [{\n",
      "                              'type': 'Resize',\n",
      "                              'img_scale': [(400, 4200), (500, 4200),\n",
      "                                            (600, 4200)],\n",
      "                              'multiscale_mode': 'value',\n",
      "                              'keep_ratio': True\n",
      "                          }, {\n",
      "                              'type': 'RandomCrop',\n",
      "                              'crop_type': 'absolute_range',\n",
      "                              'crop_size': (384, 600),\n",
      "                              'allow_negative_crop': True\n",
      "                          }, {\n",
      "                              'type':\n",
      "                              'Resize',\n",
      "                              'img_scale': [(480, 1333), (512, 1333),\n",
      "                                            (544, 1333), (576, 1333),\n",
      "                                            (608, 1333), (640, 1333),\n",
      "                                            (672, 1333), (704, 1333),\n",
      "                                            (736, 1333), (768, 1333),\n",
      "                                            (800, 1333)],\n",
      "                              'multiscale_mode':\n",
      "                              'value',\n",
      "                              'override':\n",
      "                              True,\n",
      "                              'keep_ratio':\n",
      "                              True\n",
      "                          }]]),\n",
      "            dict(\n",
      "                type='Normalize',\n",
      "                mean=[123.675, 116.28, 103.53],\n",
      "                std=[58.395, 57.12, 57.375],\n",
      "                to_rgb=True),\n",
      "            dict(type='Pad', size_divisor=1),\n",
      "            dict(type='DefaultFormatBundle'),\n",
      "            dict(type='Collect', keys=['img', 'gt_bboxes', 'gt_labels'])\n",
      "        ],\n",
      "        filter_empty_gt=False,\n",
      "        data_root='/Users/krc/Documents/retail/data/SKU110K_fixed/',\n",
      "        classes=('object', )),\n",
      "    val=dict(\n",
      "        type='CocoDataset',\n",
      "        ann_file=\n",
      "        '/Users/krc/Documents/retail/data/SKU110K_fixed/annotations_val.json/annotations_val.json',\n",
      "        img_prefix='val/',\n",
      "        pipeline=[\n",
      "            dict(type='LoadImageFromFile'),\n",
      "            dict(\n",
      "                type='MultiScaleFlipAug',\n",
      "                img_scale=(1333, 800),\n",
      "                flip=False,\n",
      "                transforms=[\n",
      "                    dict(type='Resize', keep_ratio=True),\n",
      "                    dict(type='RandomFlip'),\n",
      "                    dict(\n",
      "                        type='Normalize',\n",
      "                        mean=[123.675, 116.28, 103.53],\n",
      "                        std=[58.395, 57.12, 57.375],\n",
      "                        to_rgb=True),\n",
      "                    dict(type='Pad', size_divisor=1),\n",
      "                    dict(type='ImageToTensor', keys=['img']),\n",
      "                    dict(type='Collect', keys=['img'])\n",
      "                ])\n",
      "        ],\n",
      "        data_root='/Users/krc/Documents/retail/data/SKU110K_fixed/',\n",
      "        classes=('object', )),\n",
      "    test=dict(\n",
      "        type='CocoDataset',\n",
      "        ann_file='test.json',\n",
      "        img_prefix='test/',\n",
      "        pipeline=[\n",
      "            dict(type='LoadImageFromFile'),\n",
      "            dict(\n",
      "                type='MultiScaleFlipAug',\n",
      "                img_scale=(1333, 800),\n",
      "                flip=False,\n",
      "                transforms=[\n",
      "                    dict(type='Resize', keep_ratio=True),\n",
      "                    dict(type='RandomFlip'),\n",
      "                    dict(\n",
      "                        type='Normalize',\n",
      "                        mean=[123.675, 116.28, 103.53],\n",
      "                        std=[58.395, 57.12, 57.375],\n",
      "                        to_rgb=True),\n",
      "                    dict(type='Pad', size_divisor=1),\n",
      "                    dict(type='ImageToTensor', keys=['img']),\n",
      "                    dict(type='Collect', keys=['img'])\n",
      "                ])\n",
      "        ],\n",
      "        data_root='/Users/krc/Documents/retail/data/SKU110K_fixed/',\n",
      "        classes=('object', )))\n",
      "evaluation = dict(interval=1, metric=['bbox'])\n",
      "checkpoint_config = dict(interval=10, out_dir='work/ch_config/')\n",
      "log_config = dict(\n",
      "    interval=50,\n",
      "    hooks=[\n",
      "        dict(type='TextLoggerHook'),\n",
      "        dict(\n",
      "            type='MMDetWandbHook',\n",
      "            init_kwargs=dict(\n",
      "                project='SKU_DETR',\n",
      "                config=dict(\n",
      "                    optimizer='AdamW, default',\n",
      "                    batch_size=32,\n",
      "                    epochs=40,\n",
      "                    lr_config='CosineAnnealning')),\n",
      "            interval=4,\n",
      "            log_checkpoint=True,\n",
      "            log_checkpoint_metadata=True,\n",
      "            num_eval_images=100,\n",
      "            bbox_score_thr=0.1)\n",
      "    ])\n",
      "custom_hooks = [dict(type='NumClassCheckHook')]\n",
      "dist_params = dict(backend='nccl')\n",
      "log_level = 'INFO'\n",
      "load_from = '/Users/krc/Documents/retail/mmdetection/checkpoint/deformable_detr_r50_16x2_50e_coco_20210419_220030-a12b9512.pth'\n",
      "resume_from = None\n",
      "workflow = [('train', 1)]\n",
      "opencv_num_threads = 0\n",
      "mp_start_method = 'fork'\n",
      "auto_scale_lr = dict(enable=False, base_batch_size=32)\n",
      "model = dict(\n",
      "    type='DeformableDETR',\n",
      "    backbone=dict(\n",
      "        type='ResNet',\n",
      "        depth=50,\n",
      "        num_stages=4,\n",
      "        out_indices=(1, 2, 3),\n",
      "        frozen_stages=1,\n",
      "        norm_cfg=dict(type='BN', requires_grad=False),\n",
      "        norm_eval=True,\n",
      "        style='pytorch',\n",
      "        init_cfg=dict(type='Pretrained', checkpoint='torchvision://resnet50')),\n",
      "    neck=dict(\n",
      "        type='ChannelMapper',\n",
      "        in_channels=[512, 1024, 2048],\n",
      "        kernel_size=1,\n",
      "        out_channels=256,\n",
      "        act_cfg=None,\n",
      "        norm_cfg=dict(type='GN', num_groups=32),\n",
      "        num_outs=4),\n",
      "    bbox_head=dict(\n",
      "        type='DeformableDETRHead',\n",
      "        num_query=300,\n",
      "        num_classes=1,\n",
      "        in_channels=2048,\n",
      "        sync_cls_avg_factor=True,\n",
      "        as_two_stage=False,\n",
      "        transformer=dict(\n",
      "            type='DeformableDetrTransformer',\n",
      "            encoder=dict(\n",
      "                type='DetrTransformerEncoder',\n",
      "                num_layers=6,\n",
      "                transformerlayers=dict(\n",
      "                    type='BaseTransformerLayer',\n",
      "                    attn_cfgs=dict(\n",
      "                        type='MultiScaleDeformableAttention', embed_dims=256),\n",
      "                    feedforward_channels=1024,\n",
      "                    ffn_dropout=0.1,\n",
      "                    operation_order=('self_attn', 'norm', 'ffn', 'norm'))),\n",
      "            decoder=dict(\n",
      "                type='DeformableDetrTransformerDecoder',\n",
      "                num_layers=6,\n",
      "                return_intermediate=True,\n",
      "                transformerlayers=dict(\n",
      "                    type='DetrTransformerDecoderLayer',\n",
      "                    attn_cfgs=[\n",
      "                        dict(\n",
      "                            type='MultiheadAttention',\n",
      "                            embed_dims=256,\n",
      "                            num_heads=8,\n",
      "                            dropout=0.1),\n",
      "                        dict(\n",
      "                            type='MultiScaleDeformableAttention',\n",
      "                            embed_dims=256)\n",
      "                    ],\n",
      "                    feedforward_channels=1024,\n",
      "                    ffn_dropout=0.1,\n",
      "                    operation_order=('self_attn', 'norm', 'cross_attn', 'norm',\n",
      "                                     'ffn', 'norm')))),\n",
      "        positional_encoding=dict(\n",
      "            type='SinePositionalEncoding',\n",
      "            num_feats=128,\n",
      "            normalize=True,\n",
      "            offset=-0.5),\n",
      "        loss_cls=dict(\n",
      "            type='FocalLoss',\n",
      "            use_sigmoid=True,\n",
      "            gamma=2.0,\n",
      "            alpha=0.25,\n",
      "            loss_weight=2.0),\n",
      "        loss_bbox=dict(type='L1Loss', loss_weight=5.0),\n",
      "        loss_iou=dict(type='GIoULoss', loss_weight=2.0)),\n",
      "    train_cfg=dict(\n",
      "        assigner=dict(\n",
      "            type='HungarianAssigner',\n",
      "            cls_cost=dict(type='FocalLossCost', weight=2.0),\n",
      "            reg_cost=dict(type='BBoxL1Cost', weight=5.0, box_format='xywh'),\n",
      "            iou_cost=dict(type='IoUCost', iou_mode='giou', weight=2.0))),\n",
      "    test_cfg=dict(max_per_img=100))\n",
      "optimizer = dict(\n",
      "    type='AdamW',\n",
      "    lr=0.0002,\n",
      "    weight_decay=0.0001,\n",
      "    paramwise_cfg=dict(\n",
      "        custom_keys=dict(\n",
      "            backbone=dict(lr_mult=0.1),\n",
      "            sampling_offsets=dict(lr_mult=0.1),\n",
      "            reference_points=dict(lr_mult=0.1))))\n",
      "optimizer_config = dict(grad_clip=dict(max_norm=0.1, norm_type=2))\n",
      "lr_config = dict(policy='CosineAnnealing', by_epoch=False, min_lr=0)\n",
      "runner = dict(type='EpochBasedRunner', max_epochs=40)\n",
      "base = '/Users/krc/Documents/retail/mmdetection/configs/detr/detr_r50_8x2_150e_coco.py'\n",
      "classes = ('object', )\n",
      "work_dir = './work/weights/'\n",
      "seed = 42\n",
      "gpu_ids = range(0, 1)\n",
      "device = 'cpu'\n",
      "\n"
     ]
    }
   ],
   "source": [
    "print(cfg.pretty_text)"
   ]
  },
  {
   "cell_type": "markdown",
   "id": "5b2ef93d",
   "metadata": {},
   "source": [
    "## train"
   ]
  },
  {
   "cell_type": "code",
   "execution_count": 26,
   "id": "f0c58f41",
   "metadata": {},
   "outputs": [
    {
     "name": "stdout",
     "output_type": "stream",
     "text": [
      "loading annotations into memory...\n",
      "Done (t=3.57s)\n",
      "creating index...\n",
      "index created!\n"
     ]
    },
    {
     "name": "stderr",
     "output_type": "stream",
     "text": [
      "2022-10-12 13:42:02,973 - mmdet - INFO - Automatic scaling of learning rate (LR) has been disabled.\n",
      "2022-10-12 13:42:03,177 - mmdet - INFO - load checkpoint from local path: /Users/krc/Documents/retail/mmdetection/checkpoint/deformable_detr_r50_16x2_50e_coco_20210419_220030-a12b9512.pth\n"
     ]
    },
    {
     "name": "stdout",
     "output_type": "stream",
     "text": [
      "loading annotations into memory...\n",
      "Done (t=0.10s)\n",
      "creating index...\n",
      "index created!\n"
     ]
    },
    {
     "name": "stderr",
     "output_type": "stream",
     "text": [
      "2022-10-12 13:42:03,288 - mmdet - WARNING - The model and loaded state dict do not match exactly\n",
      "\n",
      "size mismatch for bbox_head.cls_branches.0.weight: copying a param with shape torch.Size([80, 256]) from checkpoint, the shape in current model is torch.Size([1, 256]).\n",
      "size mismatch for bbox_head.cls_branches.0.bias: copying a param with shape torch.Size([80]) from checkpoint, the shape in current model is torch.Size([1]).\n",
      "size mismatch for bbox_head.cls_branches.1.weight: copying a param with shape torch.Size([80, 256]) from checkpoint, the shape in current model is torch.Size([1, 256]).\n",
      "size mismatch for bbox_head.cls_branches.1.bias: copying a param with shape torch.Size([80]) from checkpoint, the shape in current model is torch.Size([1]).\n",
      "size mismatch for bbox_head.cls_branches.2.weight: copying a param with shape torch.Size([80, 256]) from checkpoint, the shape in current model is torch.Size([1, 256]).\n",
      "size mismatch for bbox_head.cls_branches.2.bias: copying a param with shape torch.Size([80]) from checkpoint, the shape in current model is torch.Size([1]).\n",
      "size mismatch for bbox_head.cls_branches.3.weight: copying a param with shape torch.Size([80, 256]) from checkpoint, the shape in current model is torch.Size([1, 256]).\n",
      "size mismatch for bbox_head.cls_branches.3.bias: copying a param with shape torch.Size([80]) from checkpoint, the shape in current model is torch.Size([1]).\n",
      "size mismatch for bbox_head.cls_branches.4.weight: copying a param with shape torch.Size([80, 256]) from checkpoint, the shape in current model is torch.Size([1, 256]).\n",
      "size mismatch for bbox_head.cls_branches.4.bias: copying a param with shape torch.Size([80]) from checkpoint, the shape in current model is torch.Size([1]).\n",
      "size mismatch for bbox_head.cls_branches.5.weight: copying a param with shape torch.Size([80, 256]) from checkpoint, the shape in current model is torch.Size([1, 256]).\n",
      "size mismatch for bbox_head.cls_branches.5.bias: copying a param with shape torch.Size([80]) from checkpoint, the shape in current model is torch.Size([1]).\n",
      "2022-10-12 13:42:03,292 - mmdet - INFO - Start running, host: krc@krcui-iMac-3.local, work_dir: /Users/krc/Documents/retail/mmdetection/work/weights\n",
      "2022-10-12 13:42:03,293 - mmdet - INFO - Hooks will be executed in the following order:\n",
      "before_run:\n",
      "(VERY_HIGH   ) CosineAnnealingLrUpdaterHook       \n",
      "(NORMAL      ) CheckpointHook                     \n",
      "(LOW         ) EvalHook                           \n",
      "(VERY_LOW    ) TextLoggerHook                     \n",
      "(VERY_LOW    ) MMDetWandbHook                     \n",
      " -------------------- \n",
      "before_train_epoch:\n",
      "(VERY_HIGH   ) CosineAnnealingLrUpdaterHook       \n",
      "(NORMAL      ) NumClassCheckHook                  \n",
      "(LOW         ) IterTimerHook                      \n",
      "(LOW         ) EvalHook                           \n",
      "(VERY_LOW    ) TextLoggerHook                     \n",
      "(VERY_LOW    ) MMDetWandbHook                     \n",
      " -------------------- \n",
      "before_train_iter:\n",
      "(VERY_HIGH   ) CosineAnnealingLrUpdaterHook       \n",
      "(LOW         ) IterTimerHook                      \n",
      "(LOW         ) EvalHook                           \n",
      " -------------------- \n",
      "after_train_iter:\n",
      "(ABOVE_NORMAL) OptimizerHook                      \n",
      "(NORMAL      ) CheckpointHook                     \n",
      "(LOW         ) IterTimerHook                      \n",
      "(LOW         ) EvalHook                           \n",
      "(VERY_LOW    ) TextLoggerHook                     \n",
      "(VERY_LOW    ) MMDetWandbHook                     \n",
      " -------------------- \n",
      "after_train_epoch:\n",
      "(NORMAL      ) CheckpointHook                     \n",
      "(LOW         ) EvalHook                           \n",
      "(VERY_LOW    ) TextLoggerHook                     \n",
      "(VERY_LOW    ) MMDetWandbHook                     \n",
      " -------------------- \n",
      "before_val_epoch:\n",
      "(NORMAL      ) NumClassCheckHook                  \n",
      "(LOW         ) IterTimerHook                      \n",
      "(VERY_LOW    ) TextLoggerHook                     \n",
      "(VERY_LOW    ) MMDetWandbHook                     \n",
      " -------------------- \n",
      "before_val_iter:\n",
      "(LOW         ) IterTimerHook                      \n",
      " -------------------- \n",
      "after_val_iter:\n",
      "(LOW         ) IterTimerHook                      \n",
      " -------------------- \n",
      "after_val_epoch:\n",
      "(VERY_LOW    ) TextLoggerHook                     \n",
      "(VERY_LOW    ) MMDetWandbHook                     \n",
      " -------------------- \n",
      "after_run:\n",
      "(VERY_LOW    ) TextLoggerHook                     \n",
      "(VERY_LOW    ) MMDetWandbHook                     \n",
      " -------------------- \n",
      "2022-10-12 13:42:03,293 - mmdet - INFO - workflow: [('train', 1)], max: 40 epochs\n",
      "2022-10-12 13:42:03,293 - mmdet - INFO - Checkpoints will be saved to work/ch_config/weights by HardDiskBackend.\n"
     ]
    },
    {
     "data": {
      "text/html": [
       "Tracking run with wandb version 0.13.4"
      ],
      "text/plain": [
       "<IPython.core.display.HTML object>"
      ]
     },
     "metadata": {},
     "output_type": "display_data"
    },
    {
     "data": {
      "text/html": [
       "Run data is saved locally in <code>/Users/krc/Documents/retail/mmdetection/wandb/run-20221012_134203-2ncumrnl</code>"
      ],
      "text/plain": [
       "<IPython.core.display.HTML object>"
      ]
     },
     "metadata": {},
     "output_type": "display_data"
    },
    {
     "data": {
      "text/html": [
       "Syncing run <strong><a href=\"https://wandb.ai/rumj/SKU_DETR/runs/2ncumrnl\" target=\"_blank\">iconic-resonance-2</a></strong> to <a href=\"https://wandb.ai/rumj/SKU_DETR\" target=\"_blank\">Weights & Biases</a> (<a href=\"https://wandb.me/run\" target=\"_blank\">docs</a>)<br/>"
      ],
      "text/plain": [
       "<IPython.core.display.HTML object>"
      ]
     },
     "metadata": {},
     "output_type": "display_data"
    },
    {
     "name": "stderr",
     "output_type": "stream",
     "text": [
      "2022-10-12 13:42:06,257 - mmdet - WARNING - No meta information found in the runner. \n",
      "Corrupt JPEG data: 305 extraneous bytes before marker 0xd9\n",
      "\u001b[34m\u001b[1mwandb\u001b[0m: Downloading large artifact val:v0, 853.41MB. 102 files... \n",
      "\u001b[34m\u001b[1mwandb\u001b[0m:   102 of 102 files downloaded.  \n",
      "Done. 0:0:0.5\n",
      "Corrupt JPEG data: premature end of data segment\n",
      "2022-10-12 13:50:29,385 - mmdet - INFO - Epoch [1][50/8219]\tlr: 2.000e-04, eta: 19 days, 0:35:13, time: 5.000, data_time: 0.107, loss_cls: 0.9752, loss_bbox: 0.0000, loss_iou: 0.0000, d0.loss_cls: 3.7520, d0.loss_bbox: 0.0000, d0.loss_iou: 0.0000, d1.loss_cls: 2.8813, d1.loss_bbox: 0.0000, d1.loss_iou: 0.0000, d2.loss_cls: 1.8678, d2.loss_bbox: 0.0000, d2.loss_iou: 0.0000, d3.loss_cls: 1.4603, d3.loss_bbox: 0.0000, d3.loss_iou: 0.0000, d4.loss_cls: 1.2569, d4.loss_bbox: 0.0000, d4.loss_iou: 0.0000, loss: 12.1935, grad_norm: 313.0049\n",
      "2022-10-12 13:56:22,361 - mmdet - INFO - Epoch [1][100/8219]\tlr: 2.000e-04, eta: 22 days, 22:30:21, time: 7.060, data_time: 0.086, loss_cls: 0.0000, loss_bbox: 0.0000, loss_iou: 0.0000, d0.loss_cls: 0.0000, d0.loss_bbox: 0.0000, d0.loss_iou: 0.0000, d1.loss_cls: 0.0000, d1.loss_bbox: 0.0000, d1.loss_iou: 0.0000, d2.loss_cls: 0.0000, d2.loss_bbox: 0.0000, d2.loss_iou: 0.0000, d3.loss_cls: 0.0000, d3.loss_bbox: 0.0000, d3.loss_iou: 0.0000, d4.loss_cls: 0.0000, d4.loss_bbox: 0.0000, d4.loss_iou: 0.0000, loss: 0.0000, grad_norm: 0.0001\n",
      "2022-10-12 14:01:48,716 - mmdet - INFO - Epoch [1][150/8219]\tlr: 2.000e-04, eta: 23 days, 13:32:49, time: 6.527, data_time: 0.080, loss_cls: 0.0000, loss_bbox: 0.0000, loss_iou: 0.0000, d0.loss_cls: 0.0000, d0.loss_bbox: 0.0000, d0.loss_iou: 0.0000, d1.loss_cls: 0.0000, d1.loss_bbox: 0.0000, d1.loss_iou: 0.0000, d2.loss_cls: 0.0000, d2.loss_bbox: 0.0000, d2.loss_iou: 0.0000, d3.loss_cls: 0.0000, d3.loss_bbox: 0.0000, d3.loss_iou: 0.0000, d4.loss_cls: 0.0000, d4.loss_bbox: 0.0000, d4.loss_iou: 0.0000, loss: 0.0000, grad_norm: 0.0001\n",
      "2022-10-12 14:06:55,544 - mmdet - INFO - Epoch [1][200/8219]\tlr: 2.000e-04, eta: 23 days, 12:06:41, time: 6.137, data_time: 0.076, loss_cls: 0.0000, loss_bbox: 0.0000, loss_iou: 0.0000, d0.loss_cls: 0.0000, d0.loss_bbox: 0.0000, d0.loss_iou: 0.0000, d1.loss_cls: 0.0000, d1.loss_bbox: 0.0000, d1.loss_iou: 0.0000, d2.loss_cls: 0.0000, d2.loss_bbox: 0.0000, d2.loss_iou: 0.0000, d3.loss_cls: 0.0000, d3.loss_bbox: 0.0000, d3.loss_iou: 0.0000, d4.loss_cls: 0.0000, d4.loss_bbox: 0.0000, d4.loss_iou: 0.0000, loss: 0.0000, grad_norm: 0.0000\n",
      "2022-10-12 14:11:57,220 - mmdet - INFO - Epoch [1][250/8219]\tlr: 2.000e-04, eta: 23 days, 9:20:07, time: 6.034, data_time: 0.075, loss_cls: 0.0000, loss_bbox: 0.0000, loss_iou: 0.0000, d0.loss_cls: 0.0000, d0.loss_bbox: 0.0000, d0.loss_iou: 0.0000, d1.loss_cls: 0.0000, d1.loss_bbox: 0.0000, d1.loss_iou: 0.0000, d2.loss_cls: 0.0000, d2.loss_bbox: 0.0000, d2.loss_iou: 0.0000, d3.loss_cls: 0.0000, d3.loss_bbox: 0.0000, d3.loss_iou: 0.0000, d4.loss_cls: 0.0000, d4.loss_bbox: 0.0000, d4.loss_iou: 0.0000, loss: 0.0000, grad_norm: 0.0000\n",
      "2022-10-12 14:16:49,083 - mmdet - INFO - Epoch [1][300/8219]\tlr: 2.000e-04, eta: 23 days, 4:28:21, time: 5.837, data_time: 0.074, loss_cls: 0.0000, loss_bbox: 0.0000, loss_iou: 0.0000, d0.loss_cls: 0.0000, d0.loss_bbox: 0.0000, d0.loss_iou: 0.0000, d1.loss_cls: 0.0000, d1.loss_bbox: 0.0000, d1.loss_iou: 0.0000, d2.loss_cls: 0.0000, d2.loss_bbox: 0.0000, d2.loss_iou: 0.0000, d3.loss_cls: 0.0000, d3.loss_bbox: 0.0000, d3.loss_iou: 0.0000, d4.loss_cls: 0.0000, d4.loss_bbox: 0.0000, d4.loss_iou: 0.0000, loss: 0.0000, grad_norm: 0.0000\n",
      "2022-10-12 14:22:11,432 - mmdet - INFO - Epoch [1][350/8219]\tlr: 2.000e-04, eta: 23 days, 8:55:18, time: 6.447, data_time: 0.078, loss_cls: 0.0000, loss_bbox: 0.0000, loss_iou: 0.0000, d0.loss_cls: 0.0000, d0.loss_bbox: 0.0000, d0.loss_iou: 0.0000, d1.loss_cls: 0.0000, d1.loss_bbox: 0.0000, d1.loss_iou: 0.0000, d2.loss_cls: 0.0000, d2.loss_bbox: 0.0000, d2.loss_iou: 0.0000, d3.loss_cls: 0.0000, d3.loss_bbox: 0.0000, d3.loss_iou: 0.0000, d4.loss_cls: 0.0000, d4.loss_bbox: 0.0000, d4.loss_iou: 0.0000, loss: 0.0000, grad_norm: 0.0000\n",
      "2022-10-12 14:27:17,770 - mmdet - INFO - Epoch [1][400/8219]\tlr: 2.000e-04, eta: 23 days, 8:35:07, time: 6.127, data_time: 0.075, loss_cls: 0.0000, loss_bbox: 0.0000, loss_iou: 0.0000, d0.loss_cls: 0.0000, d0.loss_bbox: 0.0000, d0.loss_iou: 0.0000, d1.loss_cls: 0.0000, d1.loss_bbox: 0.0000, d1.loss_iou: 0.0000, d2.loss_cls: 0.0000, d2.loss_bbox: 0.0000, d2.loss_iou: 0.0000, d3.loss_cls: 0.0000, d3.loss_bbox: 0.0000, d3.loss_iou: 0.0000, d4.loss_cls: 0.0000, d4.loss_bbox: 0.0000, d4.loss_iou: 0.0000, loss: 0.0000, grad_norm: 0.0000\n",
      "2022-10-12 14:31:43,347 - mmdet - INFO - Epoch [1][450/8219]\tlr: 2.000e-04, eta: 23 days, 0:02:39, time: 5.312, data_time: 0.080, loss_cls: 0.0000, loss_bbox: 0.0000, loss_iou: 0.0000, d0.loss_cls: 0.0000, d0.loss_bbox: 0.0000, d0.loss_iou: 0.0000, d1.loss_cls: 0.0000, d1.loss_bbox: 0.0000, d1.loss_iou: 0.0000, d2.loss_cls: 0.0000, d2.loss_bbox: 0.0000, d2.loss_iou: 0.0000, d3.loss_cls: 0.0000, d3.loss_bbox: 0.0000, d3.loss_iou: 0.0000, d4.loss_cls: 0.0000, d4.loss_bbox: 0.0000, d4.loss_iou: 0.0000, loss: 0.0000, grad_norm: 0.0000\n",
      "Corrupt JPEG data: premature end of data segment\n",
      "Corrupt JPEG data: 520 extraneous bytes before marker 0xd9\n",
      "2022-10-12 14:36:03,582 - mmdet - INFO - Epoch [1][500/8219]\tlr: 2.000e-04, eta: 22 days, 16:13:19, time: 5.205, data_time: 0.078, loss_cls: 0.0000, loss_bbox: 0.0000, loss_iou: 0.0000, d0.loss_cls: 0.0000, d0.loss_bbox: 0.0000, d0.loss_iou: 0.0000, d1.loss_cls: 0.0000, d1.loss_bbox: 0.0000, d1.loss_iou: 0.0000, d2.loss_cls: 0.0000, d2.loss_bbox: 0.0000, d2.loss_iou: 0.0000, d3.loss_cls: 0.0000, d3.loss_bbox: 0.0000, d3.loss_iou: 0.0000, d4.loss_cls: 0.0000, d4.loss_bbox: 0.0000, d4.loss_iou: 0.0000, loss: 0.0000, grad_norm: 0.0000\n",
      "2022-10-12 14:40:34,893 - mmdet - INFO - Epoch [1][550/8219]\tlr: 2.000e-04, eta: 22 days, 11:38:43, time: 5.426, data_time: 0.077, loss_cls: 0.0000, loss_bbox: 0.0000, loss_iou: 0.0000, d0.loss_cls: 0.0000, d0.loss_bbox: 0.0000, d0.loss_iou: 0.0000, d1.loss_cls: 0.0000, d1.loss_bbox: 0.0000, d1.loss_iou: 0.0000, d2.loss_cls: 0.0000, d2.loss_bbox: 0.0000, d2.loss_iou: 0.0000, d3.loss_cls: 0.0000, d3.loss_bbox: 0.0000, d3.loss_iou: 0.0000, d4.loss_cls: 0.0000, d4.loss_bbox: 0.0000, d4.loss_iou: 0.0000, loss: 0.0000, grad_norm: 0.0000\n",
      "2022-10-12 14:45:09,655 - mmdet - INFO - Epoch [1][600/8219]\tlr: 2.000e-04, eta: 22 days, 8:20:34, time: 5.495, data_time: 0.070, loss_cls: 0.0000, loss_bbox: 0.0000, loss_iou: 0.0000, d0.loss_cls: 0.0000, d0.loss_bbox: 0.0000, d0.loss_iou: 0.0000, d1.loss_cls: 0.0000, d1.loss_bbox: 0.0000, d1.loss_iou: 0.0000, d2.loss_cls: 0.0000, d2.loss_bbox: 0.0000, d2.loss_iou: 0.0000, d3.loss_cls: 0.0000, d3.loss_bbox: 0.0000, d3.loss_iou: 0.0000, d4.loss_cls: 0.0000, d4.loss_bbox: 0.0000, d4.loss_iou: 0.0000, loss: 0.0000, grad_norm: 0.0000\n",
      "Corrupt JPEG data: premature end of data segment\n",
      "2022-10-12 14:49:39,514 - mmdet - INFO - Epoch [1][650/8219]\tlr: 2.000e-04, eta: 22 days, 4:50:57, time: 5.397, data_time: 0.072, loss_cls: 0.0000, loss_bbox: 0.0000, loss_iou: 0.0000, d0.loss_cls: 0.0000, d0.loss_bbox: 0.0000, d0.loss_iou: 0.0000, d1.loss_cls: 0.0000, d1.loss_bbox: 0.0000, d1.loss_iou: 0.0000, d2.loss_cls: 0.0000, d2.loss_bbox: 0.0000, d2.loss_iou: 0.0000, d3.loss_cls: 0.0000, d3.loss_bbox: 0.0000, d3.loss_iou: 0.0000, d4.loss_cls: 0.0000, d4.loss_bbox: 0.0000, d4.loss_iou: 0.0000, loss: 0.0000, grad_norm: 0.0000\n",
      "2022-10-12 14:54:14,148 - mmdet - INFO - Epoch [1][700/8219]\tlr: 2.000e-04, eta: 22 days, 2:27:57, time: 5.493, data_time: 0.074, loss_cls: 0.0000, loss_bbox: 0.0000, loss_iou: 0.0000, d0.loss_cls: 0.0000, d0.loss_bbox: 0.0000, d0.loss_iou: 0.0000, d1.loss_cls: 0.0000, d1.loss_bbox: 0.0000, d1.loss_iou: 0.0000, d2.loss_cls: 0.0000, d2.loss_bbox: 0.0000, d2.loss_iou: 0.0000, d3.loss_cls: 0.0000, d3.loss_bbox: 0.0000, d3.loss_iou: 0.0000, d4.loss_cls: 0.0000, d4.loss_bbox: 0.0000, d4.loss_iou: 0.0000, loss: 0.0000, grad_norm: 0.0000\n",
      "2022-10-12 14:58:32,103 - mmdet - INFO - Epoch [1][750/8219]\tlr: 2.000e-04, eta: 21 days, 22:21:49, time: 5.159, data_time: 0.071, loss_cls: 0.0000, loss_bbox: 0.0000, loss_iou: 0.0000, d0.loss_cls: 0.0000, d0.loss_bbox: 0.0000, d0.loss_iou: 0.0000, d1.loss_cls: 0.0000, d1.loss_bbox: 0.0000, d1.loss_iou: 0.0000, d2.loss_cls: 0.0000, d2.loss_bbox: 0.0000, d2.loss_iou: 0.0000, d3.loss_cls: 0.0000, d3.loss_bbox: 0.0000, d3.loss_iou: 0.0000, d4.loss_cls: 0.0000, d4.loss_bbox: 0.0000, d4.loss_iou: 0.0000, loss: 0.0000, grad_norm: 0.0000\n"
     ]
    },
    {
     "name": "stderr",
     "output_type": "stream",
     "text": [
      "2022-10-12 15:03:07,223 - mmdet - INFO - Epoch [1][800/8219]\tlr: 2.000e-04, eta: 21 days, 20:43:12, time: 5.502, data_time: 0.077, loss_cls: 0.0000, loss_bbox: 0.0000, loss_iou: 0.0000, d0.loss_cls: 0.0000, d0.loss_bbox: 0.0000, d0.loss_iou: 0.0000, d1.loss_cls: 0.0000, d1.loss_bbox: 0.0000, d1.loss_iou: 0.0000, d2.loss_cls: 0.0000, d2.loss_bbox: 0.0000, d2.loss_iou: 0.0000, d3.loss_cls: 0.0000, d3.loss_bbox: 0.0000, d3.loss_iou: 0.0000, d4.loss_cls: 0.0000, d4.loss_bbox: 0.0000, d4.loss_iou: 0.0000, loss: 0.0000, grad_norm: 0.0000\n",
      "Corrupt JPEG data: premature end of data segment\n",
      "2022-10-12 15:07:12,521 - mmdet - INFO - Epoch [1][850/8219]\tlr: 2.000e-04, eta: 21 days, 16:03:54, time: 4.906, data_time: 0.076, loss_cls: 0.0000, loss_bbox: 0.0000, loss_iou: 0.0000, d0.loss_cls: 0.0000, d0.loss_bbox: 0.0000, d0.loss_iou: 0.0000, d1.loss_cls: 0.0000, d1.loss_bbox: 0.0000, d1.loss_iou: 0.0000, d2.loss_cls: 0.0000, d2.loss_bbox: 0.0000, d2.loss_iou: 0.0000, d3.loss_cls: 0.0000, d3.loss_bbox: 0.0000, d3.loss_iou: 0.0000, d4.loss_cls: 0.0000, d4.loss_bbox: 0.0000, d4.loss_iou: 0.0000, loss: 0.0000, grad_norm: 0.0000\n",
      "2022-10-12 15:11:58,002 - mmdet - INFO - Epoch [1][900/8219]\tlr: 2.000e-04, eta: 21 days, 15:59:08, time: 5.710, data_time: 0.072, loss_cls: 0.0000, loss_bbox: 0.0000, loss_iou: 0.0000, d0.loss_cls: 0.0000, d0.loss_bbox: 0.0000, d0.loss_iou: 0.0000, d1.loss_cls: 0.0000, d1.loss_bbox: 0.0000, d1.loss_iou: 0.0000, d2.loss_cls: 0.0000, d2.loss_bbox: 0.0000, d2.loss_iou: 0.0000, d3.loss_cls: 0.0000, d3.loss_bbox: 0.0000, d3.loss_iou: 0.0000, d4.loss_cls: 0.0000, d4.loss_bbox: 0.0000, d4.loss_iou: 0.0000, loss: 0.0000, grad_norm: 0.0000\n",
      "Corrupt JPEG data: 12658 extraneous bytes before marker 0xd2\n",
      "2022-10-12 15:16:51,104 - mmdet - INFO - Epoch [1][950/8219]\tlr: 2.000e-04, eta: 21 days, 16:38:13, time: 5.862, data_time: 0.072, loss_cls: 0.0000, loss_bbox: 0.0000, loss_iou: 0.0000, d0.loss_cls: 0.0000, d0.loss_bbox: 0.0000, d0.loss_iou: 0.0000, d1.loss_cls: 0.0000, d1.loss_bbox: 0.0000, d1.loss_iou: 0.0000, d2.loss_cls: 0.0000, d2.loss_bbox: 0.0000, d2.loss_iou: 0.0000, d3.loss_cls: 0.0000, d3.loss_bbox: 0.0000, d3.loss_iou: 0.0000, d4.loss_cls: 0.0000, d4.loss_bbox: 0.0000, d4.loss_iou: 0.0000, loss: 0.0000, grad_norm: 0.0000\n",
      "2022-10-12 15:21:08,228 - mmdet - INFO - Epoch [1][1000/8219]\tlr: 2.000e-04, eta: 21 days, 13:56:22, time: 5.142, data_time: 0.084, loss_cls: 0.0000, loss_bbox: 0.0000, loss_iou: 0.0000, d0.loss_cls: 0.0000, d0.loss_bbox: 0.0000, d0.loss_iou: 0.0000, d1.loss_cls: 0.0000, d1.loss_bbox: 0.0000, d1.loss_iou: 0.0000, d2.loss_cls: 0.0000, d2.loss_bbox: 0.0000, d2.loss_iou: 0.0000, d3.loss_cls: 0.0000, d3.loss_bbox: 0.0000, d3.loss_iou: 0.0000, d4.loss_cls: 0.0000, d4.loss_bbox: 0.0000, d4.loss_iou: 0.0000, loss: 0.0000, grad_norm: 0.0000\n",
      "2022-10-12 15:25:10,721 - mmdet - INFO - Epoch [1][1050/8219]\tlr: 2.000e-04, eta: 21 days, 10:13:24, time: 4.850, data_time: 0.065, loss_cls: 0.0000, loss_bbox: 0.0000, loss_iou: 0.0000, d0.loss_cls: 0.0000, d0.loss_bbox: 0.0000, d0.loss_iou: 0.0000, d1.loss_cls: 0.0000, d1.loss_bbox: 0.0000, d1.loss_iou: 0.0000, d2.loss_cls: 0.0000, d2.loss_bbox: 0.0000, d2.loss_iou: 0.0000, d3.loss_cls: 0.0000, d3.loss_bbox: 0.0000, d3.loss_iou: 0.0000, d4.loss_cls: 0.0000, d4.loss_bbox: 0.0000, d4.loss_iou: 0.0000, loss: 0.0000, grad_norm: 0.0000\n",
      "2022-10-12 15:29:46,988 - mmdet - INFO - Epoch [1][1100/8219]\tlr: 2.000e-04, eta: 21 days, 9:38:01, time: 5.525, data_time: 0.081, loss_cls: 0.0000, loss_bbox: 0.0000, loss_iou: 0.0000, d0.loss_cls: 0.0000, d0.loss_bbox: 0.0000, d0.loss_iou: 0.0000, d1.loss_cls: 0.0000, d1.loss_bbox: 0.0000, d1.loss_iou: 0.0000, d2.loss_cls: 0.0000, d2.loss_bbox: 0.0000, d2.loss_iou: 0.0000, d3.loss_cls: 0.0000, d3.loss_bbox: 0.0000, d3.loss_iou: 0.0000, d4.loss_cls: 0.0000, d4.loss_bbox: 0.0000, d4.loss_iou: 0.0000, loss: 0.0000, grad_norm: 0.0000\n",
      "2022-10-12 15:34:30,684 - mmdet - INFO - Epoch [1][1150/8219]\tlr: 2.000e-04, eta: 21 days, 9:40:35, time: 5.674, data_time: 0.080, loss_cls: 0.0000, loss_bbox: 0.0000, loss_iou: 0.0000, d0.loss_cls: 0.0000, d0.loss_bbox: 0.0000, d0.loss_iou: 0.0000, d1.loss_cls: 0.0000, d1.loss_bbox: 0.0000, d1.loss_iou: 0.0000, d2.loss_cls: 0.0000, d2.loss_bbox: 0.0000, d2.loss_iou: 0.0000, d3.loss_cls: 0.0000, d3.loss_bbox: 0.0000, d3.loss_iou: 0.0000, d4.loss_cls: 0.0000, d4.loss_bbox: 0.0000, d4.loss_iou: 0.0000, loss: 0.0000, grad_norm: 0.0000\n",
      "2022-10-12 15:39:24,047 - mmdet - INFO - Epoch [1][1200/8219]\tlr: 2.000e-04, eta: 21 days, 10:26:31, time: 5.867, data_time: 0.078, loss_cls: 0.0000, loss_bbox: 0.0000, loss_iou: 0.0000, d0.loss_cls: 0.0000, d0.loss_bbox: 0.0000, d0.loss_iou: 0.0000, d1.loss_cls: 0.0000, d1.loss_bbox: 0.0000, d1.loss_iou: 0.0000, d2.loss_cls: 0.0000, d2.loss_bbox: 0.0000, d2.loss_iou: 0.0000, d3.loss_cls: 0.0000, d3.loss_bbox: 0.0000, d3.loss_iou: 0.0000, d4.loss_cls: 0.0000, d4.loss_bbox: 0.0000, d4.loss_iou: 0.0000, loss: 0.0000, grad_norm: 0.0000\n",
      "2022-10-12 15:43:58,598 - mmdet - INFO - Epoch [1][1250/8219]\tlr: 2.000e-04, eta: 21 days, 9:46:15, time: 5.491, data_time: 0.066, loss_cls: 0.0000, loss_bbox: 0.0000, loss_iou: 0.0000, d0.loss_cls: 0.0000, d0.loss_bbox: 0.0000, d0.loss_iou: 0.0000, d1.loss_cls: 0.0000, d1.loss_bbox: 0.0000, d1.loss_iou: 0.0000, d2.loss_cls: 0.0000, d2.loss_bbox: 0.0000, d2.loss_iou: 0.0000, d3.loss_cls: 0.0000, d3.loss_bbox: 0.0000, d3.loss_iou: 0.0000, d4.loss_cls: 0.0000, d4.loss_bbox: 0.0000, d4.loss_iou: 0.0000, loss: 0.0000, grad_norm: 0.0000\n",
      "2022-10-12 15:48:35,653 - mmdet - INFO - Epoch [1][1300/8219]\tlr: 2.000e-04, eta: 21 days, 9:19:14, time: 5.541, data_time: 0.065, loss_cls: 0.0000, loss_bbox: 0.0000, loss_iou: 0.0000, d0.loss_cls: 0.0000, d0.loss_bbox: 0.0000, d0.loss_iou: 0.0000, d1.loss_cls: 0.0000, d1.loss_bbox: 0.0000, d1.loss_iou: 0.0000, d2.loss_cls: 0.0000, d2.loss_bbox: 0.0000, d2.loss_iou: 0.0000, d3.loss_cls: 0.0000, d3.loss_bbox: 0.0000, d3.loss_iou: 0.0000, d4.loss_cls: 0.0000, d4.loss_bbox: 0.0000, d4.loss_iou: 0.0000, loss: 0.0000, grad_norm: 0.0000\n",
      "2022-10-12 15:52:55,711 - mmdet - INFO - Epoch [1][1350/8219]\tlr: 2.000e-04, eta: 21 days, 7:45:10, time: 5.201, data_time: 0.073, loss_cls: 0.0000, loss_bbox: 0.0000, loss_iou: 0.0000, d0.loss_cls: 0.0000, d0.loss_bbox: 0.0000, d0.loss_iou: 0.0000, d1.loss_cls: 0.0000, d1.loss_bbox: 0.0000, d1.loss_iou: 0.0000, d2.loss_cls: 0.0000, d2.loss_bbox: 0.0000, d2.loss_iou: 0.0000, d3.loss_cls: 0.0000, d3.loss_bbox: 0.0000, d3.loss_iou: 0.0000, d4.loss_cls: 0.0000, d4.loss_bbox: 0.0000, d4.loss_iou: 0.0000, loss: 0.0000, grad_norm: 0.0000\n",
      "2022-10-12 15:57:14,038 - mmdet - INFO - Epoch [1][1400/8219]\tlr: 2.000e-04, eta: 21 days, 6:10:46, time: 5.167, data_time: 0.071, loss_cls: 0.0000, loss_bbox: 0.0000, loss_iou: 0.0000, d0.loss_cls: 0.0000, d0.loss_bbox: 0.0000, d0.loss_iou: 0.0000, d1.loss_cls: 0.0000, d1.loss_bbox: 0.0000, d1.loss_iou: 0.0000, d2.loss_cls: 0.0000, d2.loss_bbox: 0.0000, d2.loss_iou: 0.0000, d3.loss_cls: 0.0000, d3.loss_bbox: 0.0000, d3.loss_iou: 0.0000, d4.loss_cls: 0.0000, d4.loss_bbox: 0.0000, d4.loss_iou: 0.0000, loss: 0.0000, grad_norm: 0.0000\n",
      "Corrupt JPEG data: premature end of data segment\n",
      "2022-10-12 16:01:52,400 - mmdet - INFO - Epoch [1][1450/8219]\tlr: 2.000e-04, eta: 21 days, 5:57:58, time: 5.567, data_time: 0.078, loss_cls: 0.0000, loss_bbox: 0.0000, loss_iou: 0.0000, d0.loss_cls: 0.0000, d0.loss_bbox: 0.0000, d0.loss_iou: 0.0000, d1.loss_cls: 0.0000, d1.loss_bbox: 0.0000, d1.loss_iou: 0.0000, d2.loss_cls: 0.0000, d2.loss_bbox: 0.0000, d2.loss_iou: 0.0000, d3.loss_cls: 0.0000, d3.loss_bbox: 0.0000, d3.loss_iou: 0.0000, d4.loss_cls: 0.0000, d4.loss_bbox: 0.0000, d4.loss_iou: 0.0000, loss: 0.0000, grad_norm: 0.0000\n",
      "2022-10-12 16:05:47,120 - mmdet - INFO - Epoch [1][1500/8219]\tlr: 2.000e-04, eta: 21 days, 3:07:00, time: 4.694, data_time: 0.067, loss_cls: 0.0000, loss_bbox: 0.0000, loss_iou: 0.0000, d0.loss_cls: 0.0000, d0.loss_bbox: 0.0000, d0.loss_iou: 0.0000, d1.loss_cls: 0.0000, d1.loss_bbox: 0.0000, d1.loss_iou: 0.0000, d2.loss_cls: 0.0000, d2.loss_bbox: 0.0000, d2.loss_iou: 0.0000, d3.loss_cls: 0.0000, d3.loss_bbox: 0.0000, d3.loss_iou: 0.0000, d4.loss_cls: 0.0000, d4.loss_bbox: 0.0000, d4.loss_iou: 0.0000, loss: 0.0000, grad_norm: 0.0000\n"
     ]
    },
    {
     "name": "stderr",
     "output_type": "stream",
     "text": [
      "2022-10-12 16:10:10,605 - mmdet - INFO - Epoch [1][1550/8219]\tlr: 2.000e-04, eta: 21 days, 2:08:02, time: 5.270, data_time: 0.075, loss_cls: 0.0000, loss_bbox: 0.0000, loss_iou: 0.0000, d0.loss_cls: 0.0000, d0.loss_bbox: 0.0000, d0.loss_iou: 0.0000, d1.loss_cls: 0.0000, d1.loss_bbox: 0.0000, d1.loss_iou: 0.0000, d2.loss_cls: 0.0000, d2.loss_bbox: 0.0000, d2.loss_iou: 0.0000, d3.loss_cls: 0.0000, d3.loss_bbox: 0.0000, d3.loss_iou: 0.0000, d4.loss_cls: 0.0000, d4.loss_bbox: 0.0000, d4.loss_iou: 0.0000, loss: 0.0000, grad_norm: 0.0000\n",
      "2022-10-12 16:14:40,719 - mmdet - INFO - Epoch [1][1600/8219]\tlr: 2.000e-04, eta: 21 days, 1:35:04, time: 5.402, data_time: 0.070, loss_cls: 0.0000, loss_bbox: 0.0000, loss_iou: 0.0000, d0.loss_cls: 0.0000, d0.loss_bbox: 0.0000, d0.loss_iou: 0.0000, d1.loss_cls: 0.0000, d1.loss_bbox: 0.0000, d1.loss_iou: 0.0000, d2.loss_cls: 0.0000, d2.loss_bbox: 0.0000, d2.loss_iou: 0.0000, d3.loss_cls: 0.0000, d3.loss_bbox: 0.0000, d3.loss_iou: 0.0000, d4.loss_cls: 0.0000, d4.loss_bbox: 0.0000, d4.loss_iou: 0.0000, loss: 0.0000, grad_norm: 0.0000\n",
      "Corrupt JPEG data: premature end of data segment\n",
      "2022-10-12 16:18:41,990 - mmdet - INFO - Epoch [1][1650/8219]\tlr: 2.000e-04, eta: 20 days, 23:28:31, time: 4.825, data_time: 0.070, loss_cls: 0.0000, loss_bbox: 0.0000, loss_iou: 0.0000, d0.loss_cls: 0.0000, d0.loss_bbox: 0.0000, d0.loss_iou: 0.0000, d1.loss_cls: 0.0000, d1.loss_bbox: 0.0000, d1.loss_iou: 0.0000, d2.loss_cls: 0.0000, d2.loss_bbox: 0.0000, d2.loss_iou: 0.0000, d3.loss_cls: 0.0000, d3.loss_bbox: 0.0000, d3.loss_iou: 0.0000, d4.loss_cls: 0.0000, d4.loss_bbox: 0.0000, d4.loss_iou: 0.0000, loss: 0.0000, grad_norm: 0.0000\n",
      "2022-10-12 16:23:00,563 - mmdet - INFO - Epoch [1][1700/8219]\tlr: 2.000e-04, eta: 20 days, 22:24:39, time: 5.171, data_time: 0.068, loss_cls: 0.0000, loss_bbox: 0.0000, loss_iou: 0.0000, d0.loss_cls: 0.0000, d0.loss_bbox: 0.0000, d0.loss_iou: 0.0000, d1.loss_cls: 0.0000, d1.loss_bbox: 0.0000, d1.loss_iou: 0.0000, d2.loss_cls: 0.0000, d2.loss_bbox: 0.0000, d2.loss_iou: 0.0000, d3.loss_cls: 0.0000, d3.loss_bbox: 0.0000, d3.loss_iou: 0.0000, d4.loss_cls: 0.0000, d4.loss_bbox: 0.0000, d4.loss_iou: 0.0000, loss: 0.0000, grad_norm: 0.0000\n",
      "2022-10-12 16:27:36,313 - mmdet - INFO - Epoch [1][1750/8219]\tlr: 2.000e-04, eta: 20 days, 22:17:41, time: 5.515, data_time: 0.068, loss_cls: 0.0000, loss_bbox: 0.0000, loss_iou: 0.0000, d0.loss_cls: 0.0000, d0.loss_bbox: 0.0000, d0.loss_iou: 0.0000, d1.loss_cls: 0.0000, d1.loss_bbox: 0.0000, d1.loss_iou: 0.0000, d2.loss_cls: 0.0000, d2.loss_bbox: 0.0000, d2.loss_iou: 0.0000, d3.loss_cls: 0.0000, d3.loss_bbox: 0.0000, d3.loss_iou: 0.0000, d4.loss_cls: 0.0000, d4.loss_bbox: 0.0000, d4.loss_iou: 0.0000, loss: 0.0000, grad_norm: 0.0000\n",
      "2022-10-12 16:31:54,137 - mmdet - INFO - Epoch [1][1800/8219]\tlr: 2.000e-04, eta: 20 days, 21:16:35, time: 5.156, data_time: 0.073, loss_cls: 0.0000, loss_bbox: 0.0000, loss_iou: 0.0000, d0.loss_cls: 0.0000, d0.loss_bbox: 0.0000, d0.loss_iou: 0.0000, d1.loss_cls: 0.0000, d1.loss_bbox: 0.0000, d1.loss_iou: 0.0000, d2.loss_cls: 0.0000, d2.loss_bbox: 0.0000, d2.loss_iou: 0.0000, d3.loss_cls: 0.0000, d3.loss_bbox: 0.0000, d3.loss_iou: 0.0000, d4.loss_cls: 0.0000, d4.loss_bbox: 0.0000, d4.loss_iou: 0.0000, loss: 0.0000, grad_norm: 0.0000\n",
      "2022-10-12 16:36:54,588 - mmdet - INFO - Epoch [1][1850/8219]\tlr: 2.000e-04, eta: 20 days, 22:24:06, time: 6.009, data_time: 0.074, loss_cls: 0.0000, loss_bbox: 0.0000, loss_iou: 0.0000, d0.loss_cls: 0.0000, d0.loss_bbox: 0.0000, d0.loss_iou: 0.0000, d1.loss_cls: 0.0000, d1.loss_bbox: 0.0000, d1.loss_iou: 0.0000, d2.loss_cls: 0.0000, d2.loss_bbox: 0.0000, d2.loss_iou: 0.0000, d3.loss_cls: 0.0000, d3.loss_bbox: 0.0000, d3.loss_iou: 0.0000, d4.loss_cls: 0.0000, d4.loss_bbox: 0.0000, d4.loss_iou: 0.0000, loss: 0.0000, grad_norm: 0.0000\n",
      "2022-10-12 16:41:27,334 - mmdet - INFO - Epoch [1][1900/8219]\tlr: 2.000e-04, eta: 20 days, 22:08:22, time: 5.455, data_time: 0.075, loss_cls: 0.0000, loss_bbox: 0.0000, loss_iou: 0.0000, d0.loss_cls: 0.0000, d0.loss_bbox: 0.0000, d0.loss_iou: 0.0000, d1.loss_cls: 0.0000, d1.loss_bbox: 0.0000, d1.loss_iou: 0.0000, d2.loss_cls: 0.0000, d2.loss_bbox: 0.0000, d2.loss_iou: 0.0000, d3.loss_cls: 0.0000, d3.loss_bbox: 0.0000, d3.loss_iou: 0.0000, d4.loss_cls: 0.0000, d4.loss_bbox: 0.0000, d4.loss_iou: 0.0000, loss: 0.0000, grad_norm: 0.0000\n",
      "2022-10-12 16:46:13,731 - mmdet - INFO - Epoch [1][1950/8219]\tlr: 2.000e-04, eta: 20 days, 22:31:19, time: 5.728, data_time: 0.072, loss_cls: 0.0000, loss_bbox: 0.0000, loss_iou: 0.0000, d0.loss_cls: 0.0000, d0.loss_bbox: 0.0000, d0.loss_iou: 0.0000, d1.loss_cls: 0.0000, d1.loss_bbox: 0.0000, d1.loss_iou: 0.0000, d2.loss_cls: 0.0000, d2.loss_bbox: 0.0000, d2.loss_iou: 0.0000, d3.loss_cls: 0.0000, d3.loss_bbox: 0.0000, d3.loss_iou: 0.0000, d4.loss_cls: 0.0000, d4.loss_bbox: 0.0000, d4.loss_iou: 0.0000, loss: 0.0000, grad_norm: 0.0000\n",
      "2022-10-12 16:50:58,176 - mmdet - INFO - Epoch [1][2000/8219]\tlr: 2.000e-04, eta: 20 days, 22:47:35, time: 5.689, data_time: 0.070, loss_cls: 0.0000, loss_bbox: 0.0000, loss_iou: 0.0000, d0.loss_cls: 0.0000, d0.loss_bbox: 0.0000, d0.loss_iou: 0.0000, d1.loss_cls: 0.0000, d1.loss_bbox: 0.0000, d1.loss_iou: 0.0000, d2.loss_cls: 0.0000, d2.loss_bbox: 0.0000, d2.loss_iou: 0.0000, d3.loss_cls: 0.0000, d3.loss_bbox: 0.0000, d3.loss_iou: 0.0000, d4.loss_cls: 0.0000, d4.loss_bbox: 0.0000, d4.loss_iou: 0.0000, loss: 0.0000, grad_norm: 0.0000\n",
      "2022-10-12 16:55:30,742 - mmdet - INFO - Epoch [1][2050/8219]\tlr: 2.000e-04, eta: 20 days, 22:31:16, time: 5.451, data_time: 0.068, loss_cls: 0.0000, loss_bbox: 0.0000, loss_iou: 0.0000, d0.loss_cls: 0.0000, d0.loss_bbox: 0.0000, d0.loss_iou: 0.0000, d1.loss_cls: 0.0000, d1.loss_bbox: 0.0000, d1.loss_iou: 0.0000, d2.loss_cls: 0.0000, d2.loss_bbox: 0.0000, d2.loss_iou: 0.0000, d3.loss_cls: 0.0000, d3.loss_bbox: 0.0000, d3.loss_iou: 0.0000, d4.loss_cls: 0.0000, d4.loss_bbox: 0.0000, d4.loss_iou: 0.0000, loss: 0.0000, grad_norm: 0.0000\n",
      "2022-10-12 17:00:28,705 - mmdet - INFO - Epoch [1][2100/8219]\tlr: 2.000e-04, eta: 20 days, 23:21:21, time: 5.959, data_time: 0.076, loss_cls: 0.0000, loss_bbox: 0.0000, loss_iou: 0.0000, d0.loss_cls: 0.0000, d0.loss_bbox: 0.0000, d0.loss_iou: 0.0000, d1.loss_cls: 0.0000, d1.loss_bbox: 0.0000, d1.loss_iou: 0.0000, d2.loss_cls: 0.0000, d2.loss_bbox: 0.0000, d2.loss_iou: 0.0000, d3.loss_cls: 0.0000, d3.loss_bbox: 0.0000, d3.loss_iou: 0.0000, d4.loss_cls: 0.0000, d4.loss_bbox: 0.0000, d4.loss_iou: 0.0000, loss: 0.0000, grad_norm: 0.0000\n",
      "2022-10-12 17:05:07,463 - mmdet - INFO - Epoch [1][2150/8219]\tlr: 2.000e-04, eta: 20 days, 23:20:16, time: 5.575, data_time: 0.079, loss_cls: 0.0000, loss_bbox: 0.0000, loss_iou: 0.0000, d0.loss_cls: 0.0000, d0.loss_bbox: 0.0000, d0.loss_iou: 0.0000, d1.loss_cls: 0.0000, d1.loss_bbox: 0.0000, d1.loss_iou: 0.0000, d2.loss_cls: 0.0000, d2.loss_bbox: 0.0000, d2.loss_iou: 0.0000, d3.loss_cls: 0.0000, d3.loss_bbox: 0.0000, d3.loss_iou: 0.0000, d4.loss_cls: 0.0000, d4.loss_bbox: 0.0000, d4.loss_iou: 0.0000, loss: 0.0000, grad_norm: 0.0000\n",
      "Corrupt JPEG data: 405 extraneous bytes before marker 0xd9\n",
      "2022-10-12 17:09:41,444 - mmdet - INFO - Epoch [1][2200/8219]\tlr: 2.000e-04, eta: 20 days, 23:07:11, time: 5.480, data_time: 0.071, loss_cls: 0.0000, loss_bbox: 0.0000, loss_iou: 0.0000, d0.loss_cls: 0.0000, d0.loss_bbox: 0.0000, d0.loss_iou: 0.0000, d1.loss_cls: 0.0000, d1.loss_bbox: 0.0000, d1.loss_iou: 0.0000, d2.loss_cls: 0.0000, d2.loss_bbox: 0.0000, d2.loss_iou: 0.0000, d3.loss_cls: 0.0000, d3.loss_bbox: 0.0000, d3.loss_iou: 0.0000, d4.loss_cls: 0.0000, d4.loss_bbox: 0.0000, d4.loss_iou: 0.0000, loss: 0.0000, grad_norm: 0.0000\n",
      "Corrupt JPEG data: premature end of data segment\n",
      "2022-10-12 17:13:55,786 - mmdet - INFO - Epoch [1][2250/8219]\tlr: 2.000e-04, eta: 20 days, 22:06:59, time: 5.087, data_time: 0.073, loss_cls: 0.0000, loss_bbox: 0.0000, loss_iou: 0.0000, d0.loss_cls: 0.0000, d0.loss_bbox: 0.0000, d0.loss_iou: 0.0000, d1.loss_cls: 0.0000, d1.loss_bbox: 0.0000, d1.loss_iou: 0.0000, d2.loss_cls: 0.0000, d2.loss_bbox: 0.0000, d2.loss_iou: 0.0000, d3.loss_cls: 0.0000, d3.loss_bbox: 0.0000, d3.loss_iou: 0.0000, d4.loss_cls: 0.0000, d4.loss_bbox: 0.0000, d4.loss_iou: 0.0000, loss: 0.0000, grad_norm: 0.0000\n"
     ]
    },
    {
     "name": "stderr",
     "output_type": "stream",
     "text": [
      "2022-10-12 17:18:33,473 - mmdet - INFO - Epoch [1][2300/8219]\tlr: 2.000e-04, eta: 20 days, 22:04:27, time: 5.554, data_time: 0.075, loss_cls: 0.0000, loss_bbox: 0.0000, loss_iou: 0.0000, d0.loss_cls: 0.0000, d0.loss_bbox: 0.0000, d0.loss_iou: 0.0000, d1.loss_cls: 0.0000, d1.loss_bbox: 0.0000, d1.loss_iou: 0.0000, d2.loss_cls: 0.0000, d2.loss_bbox: 0.0000, d2.loss_iou: 0.0000, d3.loss_cls: 0.0000, d3.loss_bbox: 0.0000, d3.loss_iou: 0.0000, d4.loss_cls: 0.0000, d4.loss_bbox: 0.0000, d4.loss_iou: 0.0000, loss: 0.0000, grad_norm: 0.0000\n",
      "2022-10-12 17:23:24,875 - mmdet - INFO - Epoch [1][2350/8219]\tlr: 2.000e-04, eta: 20 days, 22:33:35, time: 5.828, data_time: 0.077, loss_cls: 0.0000, loss_bbox: 0.0000, loss_iou: 0.0000, d0.loss_cls: 0.0000, d0.loss_bbox: 0.0000, d0.loss_iou: 0.0000, d1.loss_cls: 0.0000, d1.loss_bbox: 0.0000, d1.loss_iou: 0.0000, d2.loss_cls: 0.0000, d2.loss_bbox: 0.0000, d2.loss_iou: 0.0000, d3.loss_cls: 0.0000, d3.loss_bbox: 0.0000, d3.loss_iou: 0.0000, d4.loss_cls: 0.0000, d4.loss_bbox: 0.0000, d4.loss_iou: 0.0000, loss: 0.0000, grad_norm: 0.0000\n",
      "2022-10-12 17:27:29,872 - mmdet - INFO - Epoch [1][2400/8219]\tlr: 2.000e-04, eta: 20 days, 21:16:07, time: 4.900, data_time: 0.071, loss_cls: 0.0000, loss_bbox: 0.0000, loss_iou: 0.0000, d0.loss_cls: 0.0000, d0.loss_bbox: 0.0000, d0.loss_iou: 0.0000, d1.loss_cls: 0.0000, d1.loss_bbox: 0.0000, d1.loss_iou: 0.0000, d2.loss_cls: 0.0000, d2.loss_bbox: 0.0000, d2.loss_iou: 0.0000, d3.loss_cls: 0.0000, d3.loss_bbox: 0.0000, d3.loss_iou: 0.0000, d4.loss_cls: 0.0000, d4.loss_bbox: 0.0000, d4.loss_iou: 0.0000, loss: 0.0000, grad_norm: 0.0000\n",
      "2022-10-12 17:32:13,329 - mmdet - INFO - Epoch [1][2450/8219]\tlr: 2.000e-04, eta: 20 days, 21:27:01, time: 5.669, data_time: 0.078, loss_cls: 0.0000, loss_bbox: 0.0000, loss_iou: 0.0000, d0.loss_cls: 0.0000, d0.loss_bbox: 0.0000, d0.loss_iou: 0.0000, d1.loss_cls: 0.0000, d1.loss_bbox: 0.0000, d1.loss_iou: 0.0000, d2.loss_cls: 0.0000, d2.loss_bbox: 0.0000, d2.loss_iou: 0.0000, d3.loss_cls: 0.0000, d3.loss_bbox: 0.0000, d3.loss_iou: 0.0000, d4.loss_cls: 0.0000, d4.loss_bbox: 0.0000, d4.loss_iou: 0.0000, loss: 0.0000, grad_norm: 0.0000\n",
      "2022-10-12 17:36:27,510 - mmdet - INFO - Epoch [1][2500/8219]\tlr: 2.000e-04, eta: 20 days, 20:33:37, time: 5.084, data_time: 0.074, loss_cls: 0.0000, loss_bbox: 0.0000, loss_iou: 0.0000, d0.loss_cls: 0.0000, d0.loss_bbox: 0.0000, d0.loss_iou: 0.0000, d1.loss_cls: 0.0000, d1.loss_bbox: 0.0000, d1.loss_iou: 0.0000, d2.loss_cls: 0.0000, d2.loss_bbox: 0.0000, d2.loss_iou: 0.0000, d3.loss_cls: 0.0000, d3.loss_bbox: 0.0000, d3.loss_iou: 0.0000, d4.loss_cls: 0.0000, d4.loss_bbox: 0.0000, d4.loss_iou: 0.0000, loss: 0.0000, grad_norm: 0.0000\n",
      "2022-10-12 17:40:43,968 - mmdet - INFO - Epoch [1][2550/8219]\tlr: 2.000e-04, eta: 20 days, 19:47:00, time: 5.129, data_time: 0.075, loss_cls: 0.0000, loss_bbox: 0.0000, loss_iou: 0.0000, d0.loss_cls: 0.0000, d0.loss_bbox: 0.0000, d0.loss_iou: 0.0000, d1.loss_cls: 0.0000, d1.loss_bbox: 0.0000, d1.loss_iou: 0.0000, d2.loss_cls: 0.0000, d2.loss_bbox: 0.0000, d2.loss_iou: 0.0000, d3.loss_cls: 0.0000, d3.loss_bbox: 0.0000, d3.loss_iou: 0.0000, d4.loss_cls: 0.0000, d4.loss_bbox: 0.0000, d4.loss_iou: 0.0000, loss: 0.0000, grad_norm: 0.0000\n",
      "Corrupt JPEG data: premature end of data segment\n",
      "2022-10-12 17:45:13,805 - mmdet - INFO - Epoch [1][2600/8219]\tlr: 2.000e-04, eta: 20 days, 19:29:59, time: 5.397, data_time: 0.073, loss_cls: 0.0000, loss_bbox: 0.0000, loss_iou: 0.0000, d0.loss_cls: 0.0000, d0.loss_bbox: 0.0000, d0.loss_iou: 0.0000, d1.loss_cls: 0.0000, d1.loss_bbox: 0.0000, d1.loss_iou: 0.0000, d2.loss_cls: 0.0000, d2.loss_bbox: 0.0000, d2.loss_iou: 0.0000, d3.loss_cls: 0.0000, d3.loss_bbox: 0.0000, d3.loss_iou: 0.0000, d4.loss_cls: 0.0000, d4.loss_bbox: 0.0000, d4.loss_iou: 0.0000, loss: 0.0000, grad_norm: 0.0000\n",
      "2022-10-12 17:49:42,909 - mmdet - INFO - Epoch [1][2650/8219]\tlr: 2.000e-04, eta: 20 days, 19:11:56, time: 5.382, data_time: 0.072, loss_cls: 0.0000, loss_bbox: 0.0000, loss_iou: 0.0000, d0.loss_cls: 0.0000, d0.loss_bbox: 0.0000, d0.loss_iou: 0.0000, d1.loss_cls: 0.0000, d1.loss_bbox: 0.0000, d1.loss_iou: 0.0000, d2.loss_cls: 0.0000, d2.loss_bbox: 0.0000, d2.loss_iou: 0.0000, d3.loss_cls: 0.0000, d3.loss_bbox: 0.0000, d3.loss_iou: 0.0000, d4.loss_cls: 0.0000, d4.loss_bbox: 0.0000, d4.loss_iou: 0.0000, loss: 0.0000, grad_norm: 0.0000\n",
      "2022-10-12 17:54:01,264 - mmdet - INFO - Epoch [1][2700/8219]\tlr: 2.000e-04, eta: 20 days, 18:32:46, time: 5.167, data_time: 0.074, loss_cls: 0.0000, loss_bbox: 0.0000, loss_iou: 0.0000, d0.loss_cls: 0.0000, d0.loss_bbox: 0.0000, d0.loss_iou: 0.0000, d1.loss_cls: 0.0000, d1.loss_bbox: 0.0000, d1.loss_iou: 0.0000, d2.loss_cls: 0.0000, d2.loss_bbox: 0.0000, d2.loss_iou: 0.0000, d3.loss_cls: 0.0000, d3.loss_bbox: 0.0000, d3.loss_iou: 0.0000, d4.loss_cls: 0.0000, d4.loss_bbox: 0.0000, d4.loss_iou: 0.0000, loss: 0.0000, grad_norm: 0.0000\n",
      "2022-10-12 17:58:43,066 - mmdet - INFO - Epoch [1][2750/8219]\tlr: 2.000e-04, eta: 20 days, 18:41:11, time: 5.636, data_time: 0.080, loss_cls: 0.0000, loss_bbox: 0.0000, loss_iou: 0.0000, d0.loss_cls: 0.0000, d0.loss_bbox: 0.0000, d0.loss_iou: 0.0000, d1.loss_cls: 0.0000, d1.loss_bbox: 0.0000, d1.loss_iou: 0.0000, d2.loss_cls: 0.0000, d2.loss_bbox: 0.0000, d2.loss_iou: 0.0000, d3.loss_cls: 0.0000, d3.loss_bbox: 0.0000, d3.loss_iou: 0.0000, d4.loss_cls: 0.0000, d4.loss_bbox: 0.0000, d4.loss_iou: 0.0000, loss: 0.0000, grad_norm: 0.0000\n",
      "2022-10-12 18:03:31,399 - mmdet - INFO - Epoch [1][2800/8219]\tlr: 2.000e-04, eta: 20 days, 19:01:48, time: 5.767, data_time: 0.075, loss_cls: 0.0000, loss_bbox: 0.0000, loss_iou: 0.0000, d0.loss_cls: 0.0000, d0.loss_bbox: 0.0000, d0.loss_iou: 0.0000, d1.loss_cls: 0.0000, d1.loss_bbox: 0.0000, d1.loss_iou: 0.0000, d2.loss_cls: 0.0000, d2.loss_bbox: 0.0000, d2.loss_iou: 0.0000, d3.loss_cls: 0.0000, d3.loss_bbox: 0.0000, d3.loss_iou: 0.0000, d4.loss_cls: 0.0000, d4.loss_bbox: 0.0000, d4.loss_iou: 0.0000, loss: 0.0000, grad_norm: 0.0000\n",
      "2022-10-12 18:08:11,772 - mmdet - INFO - Epoch [1][2850/8219]\tlr: 2.000e-04, eta: 20 days, 19:06:21, time: 5.607, data_time: 0.076, loss_cls: 0.0000, loss_bbox: 0.0000, loss_iou: 0.0000, d0.loss_cls: 0.0000, d0.loss_bbox: 0.0000, d0.loss_iou: 0.0000, d1.loss_cls: 0.0000, d1.loss_bbox: 0.0000, d1.loss_iou: 0.0000, d2.loss_cls: 0.0000, d2.loss_bbox: 0.0000, d2.loss_iou: 0.0000, d3.loss_cls: 0.0000, d3.loss_bbox: 0.0000, d3.loss_iou: 0.0000, d4.loss_cls: 0.0000, d4.loss_bbox: 0.0000, d4.loss_iou: 0.0000, loss: 0.0000, grad_norm: 0.0000\n",
      "2022-10-12 18:13:23,497 - mmdet - INFO - Epoch [1][2900/8219]\tlr: 2.000e-04, eta: 20 days, 20:09:19, time: 6.234, data_time: 0.078, loss_cls: 0.0000, loss_bbox: 0.0000, loss_iou: 0.0000, d0.loss_cls: 0.0000, d0.loss_bbox: 0.0000, d0.loss_iou: 0.0000, d1.loss_cls: 0.0000, d1.loss_bbox: 0.0000, d1.loss_iou: 0.0000, d2.loss_cls: 0.0000, d2.loss_bbox: 0.0000, d2.loss_iou: 0.0000, d3.loss_cls: 0.0000, d3.loss_bbox: 0.0000, d3.loss_iou: 0.0000, d4.loss_cls: 0.0000, d4.loss_bbox: 0.0000, d4.loss_iou: 0.0000, loss: 0.0000, grad_norm: 0.0000\n",
      "2022-10-12 18:17:41,098 - mmdet - INFO - Epoch [1][2950/8219]\tlr: 2.000e-04, eta: 20 days, 19:30:20, time: 5.152, data_time: 0.067, loss_cls: 0.0000, loss_bbox: 0.0000, loss_iou: 0.0000, d0.loss_cls: 0.0000, d0.loss_bbox: 0.0000, d0.loss_iou: 0.0000, d1.loss_cls: 0.0000, d1.loss_bbox: 0.0000, d1.loss_iou: 0.0000, d2.loss_cls: 0.0000, d2.loss_bbox: 0.0000, d2.loss_iou: 0.0000, d3.loss_cls: 0.0000, d3.loss_bbox: 0.0000, d3.loss_iou: 0.0000, d4.loss_cls: 0.0000, d4.loss_bbox: 0.0000, d4.loss_iou: 0.0000, loss: 0.0000, grad_norm: 0.0000\n",
      "Corrupt JPEG data: 572 extraneous bytes before marker 0xd9\n",
      "2022-10-12 18:21:58,766 - mmdet - INFO - Epoch [1][3000/8219]\tlr: 2.000e-04, eta: 20 days, 18:52:37, time: 5.153, data_time: 0.071, loss_cls: 0.0000, loss_bbox: 0.0000, loss_iou: 0.0000, d0.loss_cls: 0.0000, d0.loss_bbox: 0.0000, d0.loss_iou: 0.0000, d1.loss_cls: 0.0000, d1.loss_bbox: 0.0000, d1.loss_iou: 0.0000, d2.loss_cls: 0.0000, d2.loss_bbox: 0.0000, d2.loss_iou: 0.0000, d3.loss_cls: 0.0000, d3.loss_bbox: 0.0000, d3.loss_iou: 0.0000, d4.loss_cls: 0.0000, d4.loss_bbox: 0.0000, d4.loss_iou: 0.0000, loss: 0.0000, grad_norm: 0.0000\n"
     ]
    },
    {
     "name": "stderr",
     "output_type": "stream",
     "text": [
      "2022-10-12 18:26:51,335 - mmdet - INFO - Epoch [1][3050/8219]\tlr: 2.000e-04, eta: 20 days, 19:18:08, time: 5.851, data_time: 0.068, loss_cls: 0.0000, loss_bbox: 0.0000, loss_iou: 0.0000, d0.loss_cls: 0.0000, d0.loss_bbox: 0.0000, d0.loss_iou: 0.0000, d1.loss_cls: 0.0000, d1.loss_bbox: 0.0000, d1.loss_iou: 0.0000, d2.loss_cls: 0.0000, d2.loss_bbox: 0.0000, d2.loss_iou: 0.0000, d3.loss_cls: 0.0000, d3.loss_bbox: 0.0000, d3.loss_iou: 0.0000, d4.loss_cls: 0.0000, d4.loss_bbox: 0.0000, d4.loss_iou: 0.0000, loss: 0.0000, grad_norm: 0.0000\n",
      "2022-10-12 18:31:20,582 - mmdet - INFO - Epoch [1][3100/8219]\tlr: 2.000e-04, eta: 20 days, 19:01:49, time: 5.385, data_time: 0.114, loss_cls: 0.0000, loss_bbox: 0.0000, loss_iou: 0.0000, d0.loss_cls: 0.0000, d0.loss_bbox: 0.0000, d0.loss_iou: 0.0000, d1.loss_cls: 0.0000, d1.loss_bbox: 0.0000, d1.loss_iou: 0.0000, d2.loss_cls: 0.0000, d2.loss_bbox: 0.0000, d2.loss_iou: 0.0000, d3.loss_cls: 0.0000, d3.loss_bbox: 0.0000, d3.loss_iou: 0.0000, d4.loss_cls: 0.0000, d4.loss_bbox: 0.0000, d4.loss_iou: 0.0000, loss: 0.0000, grad_norm: 0.0000\n",
      "2022-10-12 18:35:54,952 - mmdet - INFO - Epoch [1][3150/8219]\tlr: 2.000e-04, eta: 20 days, 18:54:43, time: 5.487, data_time: 0.068, loss_cls: 0.0000, loss_bbox: 0.0000, loss_iou: 0.0000, d0.loss_cls: 0.0000, d0.loss_bbox: 0.0000, d0.loss_iou: 0.0000, d1.loss_cls: 0.0000, d1.loss_bbox: 0.0000, d1.loss_iou: 0.0000, d2.loss_cls: 0.0000, d2.loss_bbox: 0.0000, d2.loss_iou: 0.0000, d3.loss_cls: 0.0000, d3.loss_bbox: 0.0000, d3.loss_iou: 0.0000, d4.loss_cls: 0.0000, d4.loss_bbox: 0.0000, d4.loss_iou: 0.0000, loss: 0.0000, grad_norm: 0.0000\n",
      "2022-10-12 18:40:15,732 - mmdet - INFO - Epoch [1][3200/8219]\tlr: 2.000e-04, eta: 20 days, 18:24:39, time: 5.216, data_time: 0.070, loss_cls: 0.0000, loss_bbox: 0.0000, loss_iou: 0.0000, d0.loss_cls: 0.0000, d0.loss_bbox: 0.0000, d0.loss_iou: 0.0000, d1.loss_cls: 0.0000, d1.loss_bbox: 0.0000, d1.loss_iou: 0.0000, d2.loss_cls: 0.0000, d2.loss_bbox: 0.0000, d2.loss_iou: 0.0000, d3.loss_cls: 0.0000, d3.loss_bbox: 0.0000, d3.loss_iou: 0.0000, d4.loss_cls: 0.0000, d4.loss_bbox: 0.0000, d4.loss_iou: 0.0000, loss: 0.0000, grad_norm: 0.0000\n",
      "2022-10-12 18:44:44,675 - mmdet - INFO - Epoch [1][3250/8219]\tlr: 2.000e-04, eta: 20 days, 18:08:59, time: 5.379, data_time: 0.075, loss_cls: 0.0000, loss_bbox: 0.0000, loss_iou: 0.0000, d0.loss_cls: 0.0000, d0.loss_bbox: 0.0000, d0.loss_iou: 0.0000, d1.loss_cls: 0.0000, d1.loss_bbox: 0.0000, d1.loss_iou: 0.0000, d2.loss_cls: 0.0000, d2.loss_bbox: 0.0000, d2.loss_iou: 0.0000, d3.loss_cls: 0.0000, d3.loss_bbox: 0.0000, d3.loss_iou: 0.0000, d4.loss_cls: 0.0000, d4.loss_bbox: 0.0000, d4.loss_iou: 0.0000, loss: 0.0000, grad_norm: 0.0000\n",
      "2022-10-12 18:49:30,289 - mmdet - INFO - Epoch [1][3300/8219]\tlr: 2.000e-04, eta: 20 days, 18:21:05, time: 5.712, data_time: 0.069, loss_cls: 0.0000, loss_bbox: 0.0000, loss_iou: 0.0000, d0.loss_cls: 0.0000, d0.loss_bbox: 0.0000, d0.loss_iou: 0.0000, d1.loss_cls: 0.0000, d1.loss_bbox: 0.0000, d1.loss_iou: 0.0000, d2.loss_cls: 0.0000, d2.loss_bbox: 0.0000, d2.loss_iou: 0.0000, d3.loss_cls: 0.0000, d3.loss_bbox: 0.0000, d3.loss_iou: 0.0000, d4.loss_cls: 0.0000, d4.loss_bbox: 0.0000, d4.loss_iou: 0.0000, loss: 0.0000, grad_norm: 0.0000\n",
      "2022-10-12 18:53:42,769 - mmdet - INFO - Epoch [1][3350/8219]\tlr: 1.999e-04, eta: 20 days, 17:39:01, time: 5.050, data_time: 0.067, loss_cls: 0.0000, loss_bbox: 0.0000, loss_iou: 0.0000, d0.loss_cls: 0.0000, d0.loss_bbox: 0.0000, d0.loss_iou: 0.0000, d1.loss_cls: 0.0000, d1.loss_bbox: 0.0000, d1.loss_iou: 0.0000, d2.loss_cls: 0.0000, d2.loss_bbox: 0.0000, d2.loss_iou: 0.0000, d3.loss_cls: 0.0000, d3.loss_bbox: 0.0000, d3.loss_iou: 0.0000, d4.loss_cls: 0.0000, d4.loss_bbox: 0.0000, d4.loss_iou: 0.0000, loss: 0.0000, grad_norm: 0.0000\n",
      "2022-10-12 18:58:07,467 - mmdet - INFO - Epoch [1][3400/8219]\tlr: 1.999e-04, eta: 20 days, 17:17:34, time: 5.294, data_time: 0.071, loss_cls: 0.0000, loss_bbox: 0.0000, loss_iou: 0.0000, d0.loss_cls: 0.0000, d0.loss_bbox: 0.0000, d0.loss_iou: 0.0000, d1.loss_cls: 0.0000, d1.loss_bbox: 0.0000, d1.loss_iou: 0.0000, d2.loss_cls: 0.0000, d2.loss_bbox: 0.0000, d2.loss_iou: 0.0000, d3.loss_cls: 0.0000, d3.loss_bbox: 0.0000, d3.loss_iou: 0.0000, d4.loss_cls: 0.0000, d4.loss_bbox: 0.0000, d4.loss_iou: 0.0000, loss: 0.0000, grad_norm: 0.0000\n",
      "Corrupt JPEG data: premature end of data segment\n",
      "2022-10-12 19:02:33,657 - mmdet - INFO - Epoch [1][3450/8219]\tlr: 1.999e-04, eta: 20 days, 16:58:57, time: 5.324, data_time: 0.079, loss_cls: 0.0000, loss_bbox: 0.0000, loss_iou: 0.0000, d0.loss_cls: 0.0000, d0.loss_bbox: 0.0000, d0.loss_iou: 0.0000, d1.loss_cls: 0.0000, d1.loss_bbox: 0.0000, d1.loss_iou: 0.0000, d2.loss_cls: 0.0000, d2.loss_bbox: 0.0000, d2.loss_iou: 0.0000, d3.loss_cls: 0.0000, d3.loss_bbox: 0.0000, d3.loss_iou: 0.0000, d4.loss_cls: 0.0000, d4.loss_bbox: 0.0000, d4.loss_iou: 0.0000, loss: 0.0000, grad_norm: 0.0000\n",
      "2022-10-12 19:07:06,552 - mmdet - INFO - Epoch [1][3500/8219]\tlr: 1.999e-04, eta: 20 days, 16:51:07, time: 5.458, data_time: 0.075, loss_cls: 0.0000, loss_bbox: 0.0000, loss_iou: 0.0000, d0.loss_cls: 0.0000, d0.loss_bbox: 0.0000, d0.loss_iou: 0.0000, d1.loss_cls: 0.0000, d1.loss_bbox: 0.0000, d1.loss_iou: 0.0000, d2.loss_cls: 0.0000, d2.loss_bbox: 0.0000, d2.loss_iou: 0.0000, d3.loss_cls: 0.0000, d3.loss_bbox: 0.0000, d3.loss_iou: 0.0000, d4.loss_cls: 0.0000, d4.loss_bbox: 0.0000, d4.loss_iou: 0.0000, loss: 0.0000, grad_norm: 0.0000\n",
      "Corrupt JPEG data: 2464 extraneous bytes before marker 0xd9\n",
      "2022-10-12 19:11:30,995 - mmdet - INFO - Epoch [1][3550/8219]\tlr: 1.999e-04, eta: 20 days, 16:30:29, time: 5.289, data_time: 0.071, loss_cls: 0.0000, loss_bbox: 0.0000, loss_iou: 0.0000, d0.loss_cls: 0.0000, d0.loss_bbox: 0.0000, d0.loss_iou: 0.0000, d1.loss_cls: 0.0000, d1.loss_bbox: 0.0000, d1.loss_iou: 0.0000, d2.loss_cls: 0.0000, d2.loss_bbox: 0.0000, d2.loss_iou: 0.0000, d3.loss_cls: 0.0000, d3.loss_bbox: 0.0000, d3.loss_iou: 0.0000, d4.loss_cls: 0.0000, d4.loss_bbox: 0.0000, d4.loss_iou: 0.0000, loss: 0.0000, grad_norm: 0.0000\n",
      "2022-10-12 19:15:57,026 - mmdet - INFO - Epoch [1][3600/8219]\tlr: 1.999e-04, eta: 20 days, 16:12:41, time: 5.321, data_time: 0.072, loss_cls: 0.0000, loss_bbox: 0.0000, loss_iou: 0.0000, d0.loss_cls: 0.0000, d0.loss_bbox: 0.0000, d0.loss_iou: 0.0000, d1.loss_cls: 0.0000, d1.loss_bbox: 0.0000, d1.loss_iou: 0.0000, d2.loss_cls: 0.0000, d2.loss_bbox: 0.0000, d2.loss_iou: 0.0000, d3.loss_cls: 0.0000, d3.loss_bbox: 0.0000, d3.loss_iou: 0.0000, d4.loss_cls: 0.0000, d4.loss_bbox: 0.0000, d4.loss_iou: 0.0000, loss: 0.0000, grad_norm: 0.0000\n",
      "Corrupt JPEG data: premature end of data segment\n",
      "Corrupt JPEG data: 102 extraneous bytes before marker 0xd9\n",
      "2022-10-12 19:20:41,365 - mmdet - INFO - Epoch [1][3650/8219]\tlr: 1.999e-04, eta: 20 days, 16:22:26, time: 5.687, data_time: 0.072, loss_cls: 0.0000, loss_bbox: 0.0000, loss_iou: 0.0000, d0.loss_cls: 0.0000, d0.loss_bbox: 0.0000, d0.loss_iou: 0.0000, d1.loss_cls: 0.0000, d1.loss_bbox: 0.0000, d1.loss_iou: 0.0000, d2.loss_cls: 0.0000, d2.loss_bbox: 0.0000, d2.loss_iou: 0.0000, d3.loss_cls: 0.0000, d3.loss_bbox: 0.0000, d3.loss_iou: 0.0000, d4.loss_cls: 0.0000, d4.loss_bbox: 0.0000, d4.loss_iou: 0.0000, loss: 0.0000, grad_norm: 0.0000\n",
      "2022-10-12 19:25:15,967 - mmdet - INFO - Epoch [1][3700/8219]\tlr: 1.999e-04, eta: 20 days, 16:17:32, time: 5.492, data_time: 0.076, loss_cls: 0.0000, loss_bbox: 0.0000, loss_iou: 0.0000, d0.loss_cls: 0.0000, d0.loss_bbox: 0.0000, d0.loss_iou: 0.0000, d1.loss_cls: 0.0000, d1.loss_bbox: 0.0000, d1.loss_iou: 0.0000, d2.loss_cls: 0.0000, d2.loss_bbox: 0.0000, d2.loss_iou: 0.0000, d3.loss_cls: 0.0000, d3.loss_bbox: 0.0000, d3.loss_iou: 0.0000, d4.loss_cls: 0.0000, d4.loss_bbox: 0.0000, d4.loss_iou: 0.0000, loss: 0.0000, grad_norm: 0.0000\n",
      "Corrupt JPEG data: 562 extraneous bytes before marker 0xd9\n",
      "2022-10-12 19:29:32,301 - mmdet - INFO - Epoch [1][3750/8219]\tlr: 1.999e-04, eta: 20 days, 15:46:15, time: 5.127, data_time: 0.069, loss_cls: 0.0000, loss_bbox: 0.0000, loss_iou: 0.0000, d0.loss_cls: 0.0000, d0.loss_bbox: 0.0000, d0.loss_iou: 0.0000, d1.loss_cls: 0.0000, d1.loss_bbox: 0.0000, d1.loss_iou: 0.0000, d2.loss_cls: 0.0000, d2.loss_bbox: 0.0000, d2.loss_iou: 0.0000, d3.loss_cls: 0.0000, d3.loss_bbox: 0.0000, d3.loss_iou: 0.0000, d4.loss_cls: 0.0000, d4.loss_bbox: 0.0000, d4.loss_iou: 0.0000, loss: 0.0000, grad_norm: 0.0000\n"
     ]
    },
    {
     "name": "stderr",
     "output_type": "stream",
     "text": [
      "2022-10-12 19:33:58,514 - mmdet - INFO - Epoch [1][3800/8219]\tlr: 1.999e-04, eta: 20 days, 15:29:45, time: 5.324, data_time: 0.068, loss_cls: 0.0000, loss_bbox: 0.0000, loss_iou: 0.0000, d0.loss_cls: 0.0000, d0.loss_bbox: 0.0000, d0.loss_iou: 0.0000, d1.loss_cls: 0.0000, d1.loss_bbox: 0.0000, d1.loss_iou: 0.0000, d2.loss_cls: 0.0000, d2.loss_bbox: 0.0000, d2.loss_iou: 0.0000, d3.loss_cls: 0.0000, d3.loss_bbox: 0.0000, d3.loss_iou: 0.0000, d4.loss_cls: 0.0000, d4.loss_bbox: 0.0000, d4.loss_iou: 0.0000, loss: 0.0000, grad_norm: 0.0000\n",
      "2022-10-12 19:38:11,630 - mmdet - INFO - Epoch [1][3850/8219]\tlr: 1.999e-04, eta: 20 days, 14:55:09, time: 5.062, data_time: 0.071, loss_cls: 0.0000, loss_bbox: 0.0000, loss_iou: 0.0000, d0.loss_cls: 0.0000, d0.loss_bbox: 0.0000, d0.loss_iou: 0.0000, d1.loss_cls: 0.0000, d1.loss_bbox: 0.0000, d1.loss_iou: 0.0000, d2.loss_cls: 0.0000, d2.loss_bbox: 0.0000, d2.loss_iou: 0.0000, d3.loss_cls: 0.0000, d3.loss_bbox: 0.0000, d3.loss_iou: 0.0000, d4.loss_cls: 0.0000, d4.loss_bbox: 0.0000, d4.loss_iou: 0.0000, loss: 0.0000, grad_norm: 0.0000\n",
      "2022-10-12 19:42:34,854 - mmdet - INFO - Epoch [1][3900/8219]\tlr: 1.999e-04, eta: 20 days, 14:35:22, time: 5.264, data_time: 0.078, loss_cls: 0.0000, loss_bbox: 0.0000, loss_iou: 0.0000, d0.loss_cls: 0.0000, d0.loss_bbox: 0.0000, d0.loss_iou: 0.0000, d1.loss_cls: 0.0000, d1.loss_bbox: 0.0000, d1.loss_iou: 0.0000, d2.loss_cls: 0.0000, d2.loss_bbox: 0.0000, d2.loss_iou: 0.0000, d3.loss_cls: 0.0000, d3.loss_bbox: 0.0000, d3.loss_iou: 0.0000, d4.loss_cls: 0.0000, d4.loss_bbox: 0.0000, d4.loss_iou: 0.0000, loss: 0.0000, grad_norm: 0.0000\n",
      "2022-10-12 19:46:44,116 - mmdet - INFO - Epoch [1][3950/8219]\tlr: 1.999e-04, eta: 20 days, 13:56:50, time: 4.985, data_time: 0.076, loss_cls: 0.0000, loss_bbox: 0.0000, loss_iou: 0.0000, d0.loss_cls: 0.0000, d0.loss_bbox: 0.0000, d0.loss_iou: 0.0000, d1.loss_cls: 0.0000, d1.loss_bbox: 0.0000, d1.loss_iou: 0.0000, d2.loss_cls: 0.0000, d2.loss_bbox: 0.0000, d2.loss_iou: 0.0000, d3.loss_cls: 0.0000, d3.loss_bbox: 0.0000, d3.loss_iou: 0.0000, d4.loss_cls: 0.0000, d4.loss_bbox: 0.0000, d4.loss_iou: 0.0000, loss: 0.0000, grad_norm: 0.0000\n",
      "2022-10-12 19:51:32,850 - mmdet - INFO - Epoch [1][4000/8219]\tlr: 1.999e-04, eta: 20 days, 14:12:34, time: 5.775, data_time: 0.077, loss_cls: 0.0000, loss_bbox: 0.0000, loss_iou: 0.0000, d0.loss_cls: 0.0000, d0.loss_bbox: 0.0000, d0.loss_iou: 0.0000, d1.loss_cls: 0.0000, d1.loss_bbox: 0.0000, d1.loss_iou: 0.0000, d2.loss_cls: 0.0000, d2.loss_bbox: 0.0000, d2.loss_iou: 0.0000, d3.loss_cls: 0.0000, d3.loss_bbox: 0.0000, d3.loss_iou: 0.0000, d4.loss_cls: 0.0000, d4.loss_bbox: 0.0000, d4.loss_iou: 0.0000, loss: 0.0000, grad_norm: 0.0000\n",
      "Corrupt JPEG data: premature end of data segment\n",
      "2022-10-12 19:56:30,536 - mmdet - INFO - Epoch [1][4050/8219]\tlr: 1.999e-04, eta: 20 days, 14:39:46, time: 5.954, data_time: 0.072, loss_cls: 0.0000, loss_bbox: 0.0000, loss_iou: 0.0000, d0.loss_cls: 0.0000, d0.loss_bbox: 0.0000, d0.loss_iou: 0.0000, d1.loss_cls: 0.0000, d1.loss_bbox: 0.0000, d1.loss_iou: 0.0000, d2.loss_cls: 0.0000, d2.loss_bbox: 0.0000, d2.loss_iou: 0.0000, d3.loss_cls: 0.0000, d3.loss_bbox: 0.0000, d3.loss_iou: 0.0000, d4.loss_cls: 0.0000, d4.loss_bbox: 0.0000, d4.loss_iou: 0.0000, loss: 0.0000, grad_norm: 0.0000\n",
      "2022-10-12 20:00:58,971 - mmdet - INFO - Epoch [1][4100/8219]\tlr: 1.999e-04, eta: 20 days, 14:27:34, time: 5.369, data_time: 0.072, loss_cls: 0.0000, loss_bbox: 0.0000, loss_iou: 0.0000, d0.loss_cls: 0.0000, d0.loss_bbox: 0.0000, d0.loss_iou: 0.0000, d1.loss_cls: 0.0000, d1.loss_bbox: 0.0000, d1.loss_iou: 0.0000, d2.loss_cls: 0.0000, d2.loss_bbox: 0.0000, d2.loss_iou: 0.0000, d3.loss_cls: 0.0000, d3.loss_bbox: 0.0000, d3.loss_iou: 0.0000, d4.loss_cls: 0.0000, d4.loss_bbox: 0.0000, d4.loss_iou: 0.0000, loss: 0.0000, grad_norm: 0.0000\n",
      "2022-10-12 20:05:15,283 - mmdet - INFO - Epoch [1][4150/8219]\tlr: 1.999e-04, eta: 20 days, 13:59:46, time: 5.126, data_time: 0.065, loss_cls: 0.0000, loss_bbox: 0.0000, loss_iou: 0.0000, d0.loss_cls: 0.0000, d0.loss_bbox: 0.0000, d0.loss_iou: 0.0000, d1.loss_cls: 0.0000, d1.loss_bbox: 0.0000, d1.loss_iou: 0.0000, d2.loss_cls: 0.0000, d2.loss_bbox: 0.0000, d2.loss_iou: 0.0000, d3.loss_cls: 0.0000, d3.loss_bbox: 0.0000, d3.loss_iou: 0.0000, d4.loss_cls: 0.0000, d4.loss_bbox: 0.0000, d4.loss_iou: 0.0000, loss: 0.0000, grad_norm: 0.0000\n",
      "2022-10-12 20:09:31,577 - mmdet - INFO - Epoch [1][4200/8219]\tlr: 1.999e-04, eta: 20 days, 13:32:29, time: 5.126, data_time: 0.078, loss_cls: 0.0000, loss_bbox: 0.0000, loss_iou: 0.0000, d0.loss_cls: 0.0000, d0.loss_bbox: 0.0000, d0.loss_iou: 0.0000, d1.loss_cls: 0.0000, d1.loss_bbox: 0.0000, d1.loss_iou: 0.0000, d2.loss_cls: 0.0000, d2.loss_bbox: 0.0000, d2.loss_iou: 0.0000, d3.loss_cls: 0.0000, d3.loss_bbox: 0.0000, d3.loss_iou: 0.0000, d4.loss_cls: 0.0000, d4.loss_bbox: 0.0000, d4.loss_iou: 0.0000, loss: 0.0000, grad_norm: 0.0000\n",
      "Corrupt JPEG data: 1260 extraneous bytes before marker 0xd9\n",
      "wandb: Network error (ConnectionError), entering retry loop.\n",
      "2022-10-12 20:14:08,941 - mmdet - INFO - Epoch [1][4250/8219]\tlr: 1.999e-04, eta: 20 days, 13:32:34, time: 5.547, data_time: 0.073, loss_cls: 0.0000, loss_bbox: 0.0000, loss_iou: 0.0000, d0.loss_cls: 0.0000, d0.loss_bbox: 0.0000, d0.loss_iou: 0.0000, d1.loss_cls: 0.0000, d1.loss_bbox: 0.0000, d1.loss_iou: 0.0000, d2.loss_cls: 0.0000, d2.loss_bbox: 0.0000, d2.loss_iou: 0.0000, d3.loss_cls: 0.0000, d3.loss_bbox: 0.0000, d3.loss_iou: 0.0000, d4.loss_cls: 0.0000, d4.loss_bbox: 0.0000, d4.loss_iou: 0.0000, loss: 0.0000, grad_norm: 0.0000\n",
      "2022-10-12 20:18:30,028 - mmdet - INFO - Epoch [1][4300/8219]\tlr: 1.999e-04, eta: 20 days, 13:12:04, time: 5.222, data_time: 0.071, loss_cls: 0.0000, loss_bbox: 0.0000, loss_iou: 0.0000, d0.loss_cls: 0.0000, d0.loss_bbox: 0.0000, d0.loss_iou: 0.0000, d1.loss_cls: 0.0000, d1.loss_bbox: 0.0000, d1.loss_iou: 0.0000, d2.loss_cls: 0.0000, d2.loss_bbox: 0.0000, d2.loss_iou: 0.0000, d3.loss_cls: 0.0000, d3.loss_bbox: 0.0000, d3.loss_iou: 0.0000, d4.loss_cls: 0.0000, d4.loss_bbox: 0.0000, d4.loss_iou: 0.0000, loss: 0.0000, grad_norm: 0.0000\n",
      "2022-10-12 20:22:46,648 - mmdet - INFO - Epoch [1][4350/8219]\tlr: 1.999e-04, eta: 20 days, 12:46:23, time: 5.132, data_time: 0.068, loss_cls: 0.0000, loss_bbox: 0.0000, loss_iou: 0.0000, d0.loss_cls: 0.0000, d0.loss_bbox: 0.0000, d0.loss_iou: 0.0000, d1.loss_cls: 0.0000, d1.loss_bbox: 0.0000, d1.loss_iou: 0.0000, d2.loss_cls: 0.0000, d2.loss_bbox: 0.0000, d2.loss_iou: 0.0000, d3.loss_cls: 0.0000, d3.loss_bbox: 0.0000, d3.loss_iou: 0.0000, d4.loss_cls: 0.0000, d4.loss_bbox: 0.0000, d4.loss_iou: 0.0000, loss: 0.0000, grad_norm: 0.0000\n",
      "2022-10-12 20:27:29,669 - mmdet - INFO - Epoch [1][4400/8219]\tlr: 1.999e-04, eta: 20 days, 12:53:38, time: 5.660, data_time: 0.075, loss_cls: 0.0000, loss_bbox: 0.0000, loss_iou: 0.0000, d0.loss_cls: 0.0000, d0.loss_bbox: 0.0000, d0.loss_iou: 0.0000, d1.loss_cls: 0.0000, d1.loss_bbox: 0.0000, d1.loss_iou: 0.0000, d2.loss_cls: 0.0000, d2.loss_bbox: 0.0000, d2.loss_iou: 0.0000, d3.loss_cls: 0.0000, d3.loss_bbox: 0.0000, d3.loss_iou: 0.0000, d4.loss_cls: 0.0000, d4.loss_bbox: 0.0000, d4.loss_iou: 0.0000, loss: 0.0000, grad_norm: 0.0000\n",
      "2022-10-12 20:32:21,903 - mmdet - INFO - Epoch [1][4450/8219]\tlr: 1.999e-04, eta: 20 days, 13:11:47, time: 5.845, data_time: 0.073, loss_cls: 0.0000, loss_bbox: 0.0000, loss_iou: 0.0000, d0.loss_cls: 0.0000, d0.loss_bbox: 0.0000, d0.loss_iou: 0.0000, d1.loss_cls: 0.0000, d1.loss_bbox: 0.0000, d1.loss_iou: 0.0000, d2.loss_cls: 0.0000, d2.loss_bbox: 0.0000, d2.loss_iou: 0.0000, d3.loss_cls: 0.0000, d3.loss_bbox: 0.0000, d3.loss_iou: 0.0000, d4.loss_cls: 0.0000, d4.loss_bbox: 0.0000, d4.loss_iou: 0.0000, loss: 0.0000, grad_norm: 0.0000\n",
      "2022-10-12 20:36:56,830 - mmdet - INFO - Epoch [1][4500/8219]\tlr: 1.999e-04, eta: 20 days, 13:08:40, time: 5.499, data_time: 0.072, loss_cls: 0.0000, loss_bbox: 0.0000, loss_iou: 0.0000, d0.loss_cls: 0.0000, d0.loss_bbox: 0.0000, d0.loss_iou: 0.0000, d1.loss_cls: 0.0000, d1.loss_bbox: 0.0000, d1.loss_iou: 0.0000, d2.loss_cls: 0.0000, d2.loss_bbox: 0.0000, d2.loss_iou: 0.0000, d3.loss_cls: 0.0000, d3.loss_bbox: 0.0000, d3.loss_iou: 0.0000, d4.loss_cls: 0.0000, d4.loss_bbox: 0.0000, d4.loss_iou: 0.0000, loss: 0.0000, grad_norm: 0.0000\n"
     ]
    },
    {
     "name": "stderr",
     "output_type": "stream",
     "text": [
      "2022-10-12 20:41:39,948 - mmdet - INFO - Epoch [1][4550/8219]\tlr: 1.999e-04, eta: 20 days, 13:15:13, time: 5.662, data_time: 0.081, loss_cls: 0.0000, loss_bbox: 0.0000, loss_iou: 0.0000, d0.loss_cls: 0.0000, d0.loss_bbox: 0.0000, d0.loss_iou: 0.0000, d1.loss_cls: 0.0000, d1.loss_bbox: 0.0000, d1.loss_iou: 0.0000, d2.loss_cls: 0.0000, d2.loss_bbox: 0.0000, d2.loss_iou: 0.0000, d3.loss_cls: 0.0000, d3.loss_bbox: 0.0000, d3.loss_iou: 0.0000, d4.loss_cls: 0.0000, d4.loss_bbox: 0.0000, d4.loss_iou: 0.0000, loss: 0.0000, grad_norm: 0.0000\n",
      "2022-10-12 20:46:27,578 - mmdet - INFO - Epoch [1][4600/8219]\tlr: 1.999e-04, eta: 20 days, 13:26:50, time: 5.753, data_time: 0.077, loss_cls: 0.0000, loss_bbox: 0.0000, loss_iou: 0.0000, d0.loss_cls: 0.0000, d0.loss_bbox: 0.0000, d0.loss_iou: 0.0000, d1.loss_cls: 0.0000, d1.loss_bbox: 0.0000, d1.loss_iou: 0.0000, d2.loss_cls: 0.0000, d2.loss_bbox: 0.0000, d2.loss_iou: 0.0000, d3.loss_cls: 0.0000, d3.loss_bbox: 0.0000, d3.loss_iou: 0.0000, d4.loss_cls: 0.0000, d4.loss_bbox: 0.0000, d4.loss_iou: 0.0000, loss: 0.0000, grad_norm: 0.0000\n",
      "2022-10-12 20:50:46,735 - mmdet - INFO - Epoch [1][4650/8219]\tlr: 1.999e-04, eta: 20 days, 13:05:02, time: 5.183, data_time: 0.082, loss_cls: 0.0000, loss_bbox: 0.0000, loss_iou: 0.0000, d0.loss_cls: 0.0000, d0.loss_bbox: 0.0000, d0.loss_iou: 0.0000, d1.loss_cls: 0.0000, d1.loss_bbox: 0.0000, d1.loss_iou: 0.0000, d2.loss_cls: 0.0000, d2.loss_bbox: 0.0000, d2.loss_iou: 0.0000, d3.loss_cls: 0.0000, d3.loss_bbox: 0.0000, d3.loss_iou: 0.0000, d4.loss_cls: 0.0000, d4.loss_bbox: 0.0000, d4.loss_iou: 0.0000, loss: 0.0000, grad_norm: 0.0000\n",
      "2022-10-12 20:55:30,218 - mmdet - INFO - Epoch [1][4700/8219]\tlr: 1.999e-04, eta: 20 days, 13:11:32, time: 5.670, data_time: 0.073, loss_cls: 0.0000, loss_bbox: 0.0000, loss_iou: 0.0000, d0.loss_cls: 0.0000, d0.loss_bbox: 0.0000, d0.loss_iou: 0.0000, d1.loss_cls: 0.0000, d1.loss_bbox: 0.0000, d1.loss_iou: 0.0000, d2.loss_cls: 0.0000, d2.loss_bbox: 0.0000, d2.loss_iou: 0.0000, d3.loss_cls: 0.0000, d3.loss_bbox: 0.0000, d3.loss_iou: 0.0000, d4.loss_cls: 0.0000, d4.loss_bbox: 0.0000, d4.loss_iou: 0.0000, loss: 0.0000, grad_norm: 0.0000\n",
      "2022-10-12 21:00:02,181 - mmdet - INFO - Epoch [1][4750/8219]\tlr: 1.999e-04, eta: 20 days, 13:04:43, time: 5.439, data_time: 0.076, loss_cls: 0.0000, loss_bbox: 0.0000, loss_iou: 0.0000, d0.loss_cls: 0.0000, d0.loss_bbox: 0.0000, d0.loss_iou: 0.0000, d1.loss_cls: 0.0000, d1.loss_bbox: 0.0000, d1.loss_iou: 0.0000, d2.loss_cls: 0.0000, d2.loss_bbox: 0.0000, d2.loss_iou: 0.0000, d3.loss_cls: 0.0000, d3.loss_bbox: 0.0000, d3.loss_iou: 0.0000, d4.loss_cls: 0.0000, d4.loss_bbox: 0.0000, d4.loss_iou: 0.0000, loss: 0.0000, grad_norm: 0.0000\n",
      "2022-10-12 21:04:20,530 - mmdet - INFO - Epoch [1][4800/8219]\tlr: 1.999e-04, eta: 20 days, 12:42:38, time: 5.167, data_time: 0.069, loss_cls: 0.0000, loss_bbox: 0.0000, loss_iou: 0.0000, d0.loss_cls: 0.0000, d0.loss_bbox: 0.0000, d0.loss_iou: 0.0000, d1.loss_cls: 0.0000, d1.loss_bbox: 0.0000, d1.loss_iou: 0.0000, d2.loss_cls: 0.0000, d2.loss_bbox: 0.0000, d2.loss_iou: 0.0000, d3.loss_cls: 0.0000, d3.loss_bbox: 0.0000, d3.loss_iou: 0.0000, d4.loss_cls: 0.0000, d4.loss_bbox: 0.0000, d4.loss_iou: 0.0000, loss: 0.0000, grad_norm: 0.0000\n",
      "2022-10-12 21:09:13,382 - mmdet - INFO - Epoch [1][4850/8219]\tlr: 1.999e-04, eta: 20 days, 12:59:19, time: 5.857, data_time: 0.077, loss_cls: 0.0000, loss_bbox: 0.0000, loss_iou: 0.0000, d0.loss_cls: 0.0000, d0.loss_bbox: 0.0000, d0.loss_iou: 0.0000, d1.loss_cls: 0.0000, d1.loss_bbox: 0.0000, d1.loss_iou: 0.0000, d2.loss_cls: 0.0000, d2.loss_bbox: 0.0000, d2.loss_iou: 0.0000, d3.loss_cls: 0.0000, d3.loss_bbox: 0.0000, d3.loss_iou: 0.0000, d4.loss_cls: 0.0000, d4.loss_bbox: 0.0000, d4.loss_iou: 0.0000, loss: 0.0000, grad_norm: 0.0000\n",
      "2022-10-12 21:14:12,328 - mmdet - INFO - Epoch [1][4900/8219]\tlr: 1.999e-04, eta: 20 days, 13:22:17, time: 5.979, data_time: 0.077, loss_cls: 0.0000, loss_bbox: 0.0000, loss_iou: 0.0000, d0.loss_cls: 0.0000, d0.loss_bbox: 0.0000, d0.loss_iou: 0.0000, d1.loss_cls: 0.0000, d1.loss_bbox: 0.0000, d1.loss_iou: 0.0000, d2.loss_cls: 0.0000, d2.loss_bbox: 0.0000, d2.loss_iou: 0.0000, d3.loss_cls: 0.0000, d3.loss_bbox: 0.0000, d3.loss_iou: 0.0000, d4.loss_cls: 0.0000, d4.loss_bbox: 0.0000, d4.loss_iou: 0.0000, loss: 0.0000, grad_norm: 0.0000\n",
      "2022-10-12 21:18:33,250 - mmdet - INFO - Epoch [1][4950/8219]\tlr: 1.999e-04, eta: 20 days, 13:03:13, time: 5.218, data_time: 0.082, loss_cls: 0.0000, loss_bbox: 0.0000, loss_iou: 0.0000, d0.loss_cls: 0.0000, d0.loss_bbox: 0.0000, d0.loss_iou: 0.0000, d1.loss_cls: 0.0000, d1.loss_bbox: 0.0000, d1.loss_iou: 0.0000, d2.loss_cls: 0.0000, d2.loss_bbox: 0.0000, d2.loss_iou: 0.0000, d3.loss_cls: 0.0000, d3.loss_bbox: 0.0000, d3.loss_iou: 0.0000, d4.loss_cls: 0.0000, d4.loss_bbox: 0.0000, d4.loss_iou: 0.0000, loss: 0.0000, grad_norm: 0.0000\n",
      "2022-10-12 21:23:01,791 - mmdet - INFO - Epoch [1][5000/8219]\tlr: 1.999e-04, eta: 20 days, 12:52:40, time: 5.371, data_time: 0.082, loss_cls: 0.0000, loss_bbox: 0.0000, loss_iou: 0.0000, d0.loss_cls: 0.0000, d0.loss_bbox: 0.0000, d0.loss_iou: 0.0000, d1.loss_cls: 0.0000, d1.loss_bbox: 0.0000, d1.loss_iou: 0.0000, d2.loss_cls: 0.0000, d2.loss_bbox: 0.0000, d2.loss_iou: 0.0000, d3.loss_cls: 0.0000, d3.loss_bbox: 0.0000, d3.loss_iou: 0.0000, d4.loss_cls: 0.0000, d4.loss_bbox: 0.0000, d4.loss_iou: 0.0000, loss: 0.0000, grad_norm: 0.0000\n",
      "2022-10-12 21:27:50,756 - mmdet - INFO - Epoch [1][5050/8219]\tlr: 1.999e-04, eta: 20 days, 13:04:04, time: 5.779, data_time: 0.081, loss_cls: 0.0000, loss_bbox: 0.0000, loss_iou: 0.0000, d0.loss_cls: 0.0000, d0.loss_bbox: 0.0000, d0.loss_iou: 0.0000, d1.loss_cls: 0.0000, d1.loss_bbox: 0.0000, d1.loss_iou: 0.0000, d2.loss_cls: 0.0000, d2.loss_bbox: 0.0000, d2.loss_iou: 0.0000, d3.loss_cls: 0.0000, d3.loss_bbox: 0.0000, d3.loss_iou: 0.0000, d4.loss_cls: 0.0000, d4.loss_bbox: 0.0000, d4.loss_iou: 0.0000, loss: 0.0000, grad_norm: 0.0000\n",
      "2022-10-12 21:32:19,057 - mmdet - INFO - Epoch [1][5100/8219]\tlr: 1.999e-04, eta: 20 days, 12:53:17, time: 5.366, data_time: 0.072, loss_cls: 0.0000, loss_bbox: 0.0000, loss_iou: 0.0000, d0.loss_cls: 0.0000, d0.loss_bbox: 0.0000, d0.loss_iou: 0.0000, d1.loss_cls: 0.0000, d1.loss_bbox: 0.0000, d1.loss_iou: 0.0000, d2.loss_cls: 0.0000, d2.loss_bbox: 0.0000, d2.loss_iou: 0.0000, d3.loss_cls: 0.0000, d3.loss_bbox: 0.0000, d3.loss_iou: 0.0000, d4.loss_cls: 0.0000, d4.loss_bbox: 0.0000, d4.loss_iou: 0.0000, loss: 0.0000, grad_norm: 0.0000\n",
      "2022-10-12 21:36:44,662 - mmdet - INFO - Epoch [1][5150/8219]\tlr: 1.999e-04, eta: 20 days, 12:39:48, time: 5.312, data_time: 0.075, loss_cls: 0.0000, loss_bbox: 0.0000, loss_iou: 0.0000, d0.loss_cls: 0.0000, d0.loss_bbox: 0.0000, d0.loss_iou: 0.0000, d1.loss_cls: 0.0000, d1.loss_bbox: 0.0000, d1.loss_iou: 0.0000, d2.loss_cls: 0.0000, d2.loss_bbox: 0.0000, d2.loss_iou: 0.0000, d3.loss_cls: 0.0000, d3.loss_bbox: 0.0000, d3.loss_iou: 0.0000, d4.loss_cls: 0.0000, d4.loss_bbox: 0.0000, d4.loss_iou: 0.0000, loss: 0.0000, grad_norm: 0.0000\n",
      "2022-10-12 21:41:00,435 - mmdet - INFO - Epoch [1][5200/8219]\tlr: 1.999e-04, eta: 20 days, 12:16:18, time: 5.115, data_time: 0.078, loss_cls: 0.0000, loss_bbox: 0.0000, loss_iou: 0.0000, d0.loss_cls: 0.0000, d0.loss_bbox: 0.0000, d0.loss_iou: 0.0000, d1.loss_cls: 0.0000, d1.loss_bbox: 0.0000, d1.loss_iou: 0.0000, d2.loss_cls: 0.0000, d2.loss_bbox: 0.0000, d2.loss_iou: 0.0000, d3.loss_cls: 0.0000, d3.loss_bbox: 0.0000, d3.loss_iou: 0.0000, d4.loss_cls: 0.0000, d4.loss_bbox: 0.0000, d4.loss_iou: 0.0000, loss: 0.0000, grad_norm: 0.0000\n",
      "2022-10-12 21:45:48,280 - mmdet - INFO - Epoch [1][5250/8219]\tlr: 1.999e-04, eta: 20 days, 12:26:06, time: 5.757, data_time: 0.077, loss_cls: 0.0000, loss_bbox: 0.0000, loss_iou: 0.0000, d0.loss_cls: 0.0000, d0.loss_bbox: 0.0000, d0.loss_iou: 0.0000, d1.loss_cls: 0.0000, d1.loss_bbox: 0.0000, d1.loss_iou: 0.0000, d2.loss_cls: 0.0000, d2.loss_bbox: 0.0000, d2.loss_iou: 0.0000, d3.loss_cls: 0.0000, d3.loss_bbox: 0.0000, d3.loss_iou: 0.0000, d4.loss_cls: 0.0000, d4.loss_bbox: 0.0000, d4.loss_iou: 0.0000, loss: 0.0000, grad_norm: 0.0000\n",
      "2022-10-12 21:50:04,785 - mmdet - INFO - Epoch [1][5300/8219]\tlr: 1.999e-04, eta: 20 days, 12:03:45, time: 5.130, data_time: 0.074, loss_cls: 0.0000, loss_bbox: 0.0000, loss_iou: 0.0000, d0.loss_cls: 0.0000, d0.loss_bbox: 0.0000, d0.loss_iou: 0.0000, d1.loss_cls: 0.0000, d1.loss_bbox: 0.0000, d1.loss_iou: 0.0000, d2.loss_cls: 0.0000, d2.loss_bbox: 0.0000, d2.loss_iou: 0.0000, d3.loss_cls: 0.0000, d3.loss_bbox: 0.0000, d3.loss_iou: 0.0000, d4.loss_cls: 0.0000, d4.loss_bbox: 0.0000, d4.loss_iou: 0.0000, loss: 0.0000, grad_norm: 0.0000\n"
     ]
    },
    {
     "name": "stderr",
     "output_type": "stream",
     "text": [
      "2022-10-12 21:54:44,551 - mmdet - INFO - Epoch [1][5350/8219]\tlr: 1.999e-04, eta: 20 days, 12:05:11, time: 5.595, data_time: 0.074, loss_cls: 0.0000, loss_bbox: 0.0000, loss_iou: 0.0000, d0.loss_cls: 0.0000, d0.loss_bbox: 0.0000, d0.loss_iou: 0.0000, d1.loss_cls: 0.0000, d1.loss_bbox: 0.0000, d1.loss_iou: 0.0000, d2.loss_cls: 0.0000, d2.loss_bbox: 0.0000, d2.loss_iou: 0.0000, d3.loss_cls: 0.0000, d3.loss_bbox: 0.0000, d3.loss_iou: 0.0000, d4.loss_cls: 0.0000, d4.loss_bbox: 0.0000, d4.loss_iou: 0.0000, loss: 0.0000, grad_norm: 0.0000\n",
      "2022-10-12 21:58:43,423 - mmdet - INFO - Epoch [1][5400/8219]\tlr: 1.999e-04, eta: 20 days, 11:25:40, time: 4.777, data_time: 0.072, loss_cls: 0.0000, loss_bbox: 0.0000, loss_iou: 0.0000, d0.loss_cls: 0.0000, d0.loss_bbox: 0.0000, d0.loss_iou: 0.0000, d1.loss_cls: 0.0000, d1.loss_bbox: 0.0000, d1.loss_iou: 0.0000, d2.loss_cls: 0.0000, d2.loss_bbox: 0.0000, d2.loss_iou: 0.0000, d3.loss_cls: 0.0000, d3.loss_bbox: 0.0000, d3.loss_iou: 0.0000, d4.loss_cls: 0.0000, d4.loss_bbox: 0.0000, d4.loss_iou: 0.0000, loss: 0.0000, grad_norm: 0.0000\n",
      "2022-10-12 22:38:29,434 - mmdet - INFO - Epoch [1][5450/8219]\tlr: 1.999e-04, eta: 21 days, 22:09:44, time: 47.720, data_time: 0.072, loss_cls: 0.0000, loss_bbox: 0.0000, loss_iou: 0.0000, d0.loss_cls: 0.0000, d0.loss_bbox: 0.0000, d0.loss_iou: 0.0000, d1.loss_cls: 0.0000, d1.loss_bbox: 0.0000, d1.loss_iou: 0.0000, d2.loss_cls: 0.0000, d2.loss_bbox: 0.0000, d2.loss_iou: 0.0000, d3.loss_cls: 0.0000, d3.loss_bbox: 0.0000, d3.loss_iou: 0.0000, d4.loss_cls: 0.0000, d4.loss_bbox: 0.0000, d4.loss_iou: 0.0000, loss: 0.0000, grad_norm: 0.0000\n",
      "2022-10-12 22:49:59,950 - mmdet - INFO - Epoch [1][5500/8219]\tlr: 1.999e-04, eta: 22 days, 4:34:18, time: 13.810, data_time: 0.065, loss_cls: 0.0000, loss_bbox: 0.0000, loss_iou: 0.0000, d0.loss_cls: 0.0000, d0.loss_bbox: 0.0000, d0.loss_iou: 0.0000, d1.loss_cls: 0.0000, d1.loss_bbox: 0.0000, d1.loss_iou: 0.0000, d2.loss_cls: 0.0000, d2.loss_bbox: 0.0000, d2.loss_iou: 0.0000, d3.loss_cls: 0.0000, d3.loss_bbox: 0.0000, d3.loss_iou: 0.0000, d4.loss_cls: 0.0000, d4.loss_bbox: 0.0000, d4.loss_iou: 0.0000, loss: 0.0000, grad_norm: 0.0000\n",
      "2022-10-12 23:31:05,833 - mmdet - INFO - Epoch [1][5550/8219]\tlr: 1.999e-04, eta: 23 days, 15:34:55, time: 49.318, data_time: 0.072, loss_cls: 0.0000, loss_bbox: 0.0000, loss_iou: 0.0000, d0.loss_cls: 0.0000, d0.loss_bbox: 0.0000, d0.loss_iou: 0.0000, d1.loss_cls: 0.0000, d1.loss_bbox: 0.0000, d1.loss_iou: 0.0000, d2.loss_cls: 0.0000, d2.loss_bbox: 0.0000, d2.loss_iou: 0.0000, d3.loss_cls: 0.0000, d3.loss_bbox: 0.0000, d3.loss_iou: 0.0000, d4.loss_cls: 0.0000, d4.loss_bbox: 0.0000, d4.loss_iou: 0.0000, loss: 0.0000, grad_norm: 0.0000\n",
      "2022-10-13 00:07:57,200 - mmdet - INFO - Epoch [1][5600/8219]\tlr: 1.999e-04, eta: 24 days, 21:52:30, time: 44.227, data_time: 0.071, loss_cls: 0.0000, loss_bbox: 0.0000, loss_iou: 0.0000, d0.loss_cls: 0.0000, d0.loss_bbox: 0.0000, d0.loss_iou: 0.0000, d1.loss_cls: 0.0000, d1.loss_bbox: 0.0000, d1.loss_iou: 0.0000, d2.loss_cls: 0.0000, d2.loss_bbox: 0.0000, d2.loss_iou: 0.0000, d3.loss_cls: 0.0000, d3.loss_bbox: 0.0000, d3.loss_iou: 0.0000, d4.loss_cls: 0.0000, d4.loss_bbox: 0.0000, d4.loss_iou: 0.0000, loss: 0.0000, grad_norm: 0.0000\n",
      "2022-10-13 01:17:07,078 - mmdet - INFO - Epoch [1][5650/8219]\tlr: 1.999e-04, eta: 27 days, 10:24:54, time: 82.998, data_time: 0.070, loss_cls: 0.0000, loss_bbox: 0.0000, loss_iou: 0.0000, d0.loss_cls: 0.0000, d0.loss_bbox: 0.0000, d0.loss_iou: 0.0000, d1.loss_cls: 0.0000, d1.loss_bbox: 0.0000, d1.loss_iou: 0.0000, d2.loss_cls: 0.0000, d2.loss_bbox: 0.0000, d2.loss_iou: 0.0000, d3.loss_cls: 0.0000, d3.loss_bbox: 0.0000, d3.loss_iou: 0.0000, d4.loss_cls: 0.0000, d4.loss_bbox: 0.0000, d4.loss_iou: 0.0000, loss: 0.0000, grad_norm: 0.0000\n",
      "2022-10-13 01:21:14,639 - mmdet - INFO - Epoch [1][5700/8219]\tlr: 1.999e-04, eta: 27 days, 8:26:10, time: 4.951, data_time: 0.074, loss_cls: 0.0000, loss_bbox: 0.0000, loss_iou: 0.0000, d0.loss_cls: 0.0000, d0.loss_bbox: 0.0000, d0.loss_iou: 0.0000, d1.loss_cls: 0.0000, d1.loss_bbox: 0.0000, d1.loss_iou: 0.0000, d2.loss_cls: 0.0000, d2.loss_bbox: 0.0000, d2.loss_iou: 0.0000, d3.loss_cls: 0.0000, d3.loss_bbox: 0.0000, d3.loss_iou: 0.0000, d4.loss_cls: 0.0000, d4.loss_bbox: 0.0000, d4.loss_iou: 0.0000, loss: 0.0000, grad_norm: 0.0000\n",
      "2022-10-13 01:26:15,294 - mmdet - INFO - Epoch [1][5750/8219]\tlr: 1.998e-04, eta: 27 days, 7:19:07, time: 6.013, data_time: 0.097, loss_cls: 0.0000, loss_bbox: 0.0000, loss_iou: 0.0000, d0.loss_cls: 0.0000, d0.loss_bbox: 0.0000, d0.loss_iou: 0.0000, d1.loss_cls: 0.0000, d1.loss_bbox: 0.0000, d1.loss_iou: 0.0000, d2.loss_cls: 0.0000, d2.loss_bbox: 0.0000, d2.loss_iou: 0.0000, d3.loss_cls: 0.0000, d3.loss_bbox: 0.0000, d3.loss_iou: 0.0000, d4.loss_cls: 0.0000, d4.loss_bbox: 0.0000, d4.loss_iou: 0.0000, loss: 0.0000, grad_norm: 0.0000\n",
      "2022-10-13 01:30:45,566 - mmdet - INFO - Epoch [1][5800/8219]\tlr: 1.998e-04, eta: 27 days, 5:44:57, time: 5.405, data_time: 0.070, loss_cls: 0.0000, loss_bbox: 0.0000, loss_iou: 0.0000, d0.loss_cls: 0.0000, d0.loss_bbox: 0.0000, d0.loss_iou: 0.0000, d1.loss_cls: 0.0000, d1.loss_bbox: 0.0000, d1.loss_iou: 0.0000, d2.loss_cls: 0.0000, d2.loss_bbox: 0.0000, d2.loss_iou: 0.0000, d3.loss_cls: 0.0000, d3.loss_bbox: 0.0000, d3.loss_iou: 0.0000, d4.loss_cls: 0.0000, d4.loss_bbox: 0.0000, d4.loss_iou: 0.0000, loss: 0.0000, grad_norm: 0.0000\n",
      "Corrupt JPEG data: 41 extraneous bytes before marker 0xd9\n",
      "Corrupt JPEG data: 96 extraneous bytes before marker 0xd9\n",
      "2022-10-13 01:35:31,863 - mmdet - INFO - Epoch [1][5850/8219]\tlr: 1.998e-04, eta: 27 days, 4:27:04, time: 5.726, data_time: 0.075, loss_cls: 0.0000, loss_bbox: 0.0000, loss_iou: 0.0000, d0.loss_cls: 0.0000, d0.loss_bbox: 0.0000, d0.loss_iou: 0.0000, d1.loss_cls: 0.0000, d1.loss_bbox: 0.0000, d1.loss_iou: 0.0000, d2.loss_cls: 0.0000, d2.loss_bbox: 0.0000, d2.loss_iou: 0.0000, d3.loss_cls: 0.0000, d3.loss_bbox: 0.0000, d3.loss_iou: 0.0000, d4.loss_cls: 0.0000, d4.loss_bbox: 0.0000, d4.loss_iou: 0.0000, loss: 0.0000, grad_norm: 0.0000\n",
      "2022-10-13 01:40:15,324 - mmdet - INFO - Epoch [1][5900/8219]\tlr: 1.998e-04, eta: 27 days, 3:07:49, time: 5.669, data_time: 0.080, loss_cls: 0.0000, loss_bbox: 0.0000, loss_iou: 0.0000, d0.loss_cls: 0.0000, d0.loss_bbox: 0.0000, d0.loss_iou: 0.0000, d1.loss_cls: 0.0000, d1.loss_bbox: 0.0000, d1.loss_iou: 0.0000, d2.loss_cls: 0.0000, d2.loss_bbox: 0.0000, d2.loss_iou: 0.0000, d3.loss_cls: 0.0000, d3.loss_bbox: 0.0000, d3.loss_iou: 0.0000, d4.loss_cls: 0.0000, d4.loss_bbox: 0.0000, d4.loss_iou: 0.0000, loss: 0.0000, grad_norm: 0.0000\n",
      "2022-10-13 01:44:59,500 - mmdet - INFO - Epoch [1][5950/8219]\tlr: 1.998e-04, eta: 27 days, 1:50:29, time: 5.684, data_time: 0.071, loss_cls: 0.0000, loss_bbox: 0.0000, loss_iou: 0.0000, d0.loss_cls: 0.0000, d0.loss_bbox: 0.0000, d0.loss_iou: 0.0000, d1.loss_cls: 0.0000, d1.loss_bbox: 0.0000, d1.loss_iou: 0.0000, d2.loss_cls: 0.0000, d2.loss_bbox: 0.0000, d2.loss_iou: 0.0000, d3.loss_cls: 0.0000, d3.loss_bbox: 0.0000, d3.loss_iou: 0.0000, d4.loss_cls: 0.0000, d4.loss_bbox: 0.0000, d4.loss_iou: 0.0000, loss: 0.0000, grad_norm: 0.0000\n",
      "2022-10-13 01:50:03,131 - mmdet - INFO - Epoch [1][6000/8219]\tlr: 1.998e-04, eta: 27 days, 0:51:48, time: 6.073, data_time: 0.071, loss_cls: 0.0000, loss_bbox: 0.0000, loss_iou: 0.0000, d0.loss_cls: 0.0000, d0.loss_bbox: 0.0000, d0.loss_iou: 0.0000, d1.loss_cls: 0.0000, d1.loss_bbox: 0.0000, d1.loss_iou: 0.0000, d2.loss_cls: 0.0000, d2.loss_bbox: 0.0000, d2.loss_iou: 0.0000, d3.loss_cls: 0.0000, d3.loss_bbox: 0.0000, d3.loss_iou: 0.0000, d4.loss_cls: 0.0000, d4.loss_bbox: 0.0000, d4.loss_iou: 0.0000, loss: 0.0000, grad_norm: 0.0000\n",
      "2022-10-13 01:55:06,369 - mmdet - INFO - Epoch [1][6050/8219]\tlr: 1.998e-04, eta: 26 days, 23:53:38, time: 6.065, data_time: 0.076, loss_cls: 0.0000, loss_bbox: 0.0000, loss_iou: 0.0000, d0.loss_cls: 0.0000, d0.loss_bbox: 0.0000, d0.loss_iou: 0.0000, d1.loss_cls: 0.0000, d1.loss_bbox: 0.0000, d1.loss_iou: 0.0000, d2.loss_cls: 0.0000, d2.loss_bbox: 0.0000, d2.loss_iou: 0.0000, d3.loss_cls: 0.0000, d3.loss_bbox: 0.0000, d3.loss_iou: 0.0000, d4.loss_cls: 0.0000, d4.loss_bbox: 0.0000, d4.loss_iou: 0.0000, loss: 0.0000, grad_norm: 0.0000\n"
     ]
    },
    {
     "name": "stderr",
     "output_type": "stream",
     "text": [
      "2022-10-13 02:00:00,686 - mmdet - INFO - Epoch [1][6100/8219]\tlr: 1.998e-04, eta: 26 days, 22:48:30, time: 5.886, data_time: 0.071, loss_cls: 0.0000, loss_bbox: 0.0000, loss_iou: 0.0000, d0.loss_cls: 0.0000, d0.loss_bbox: 0.0000, d0.loss_iou: 0.0000, d1.loss_cls: 0.0000, d1.loss_bbox: 0.0000, d1.loss_iou: 0.0000, d2.loss_cls: 0.0000, d2.loss_bbox: 0.0000, d2.loss_iou: 0.0000, d3.loss_cls: 0.0000, d3.loss_bbox: 0.0000, d3.loss_iou: 0.0000, d4.loss_cls: 0.0000, d4.loss_bbox: 0.0000, d4.loss_iou: 0.0000, loss: 0.0000, grad_norm: 0.0000\n",
      "2022-10-13 02:04:43,313 - mmdet - INFO - Epoch [1][6150/8219]\tlr: 1.998e-04, eta: 26 days, 21:34:07, time: 5.653, data_time: 0.069, loss_cls: 0.0000, loss_bbox: 0.0000, loss_iou: 0.0000, d0.loss_cls: 0.0000, d0.loss_bbox: 0.0000, d0.loss_iou: 0.0000, d1.loss_cls: 0.0000, d1.loss_bbox: 0.0000, d1.loss_iou: 0.0000, d2.loss_cls: 0.0000, d2.loss_bbox: 0.0000, d2.loss_iou: 0.0000, d3.loss_cls: 0.0000, d3.loss_bbox: 0.0000, d3.loss_iou: 0.0000, d4.loss_cls: 0.0000, d4.loss_bbox: 0.0000, d4.loss_iou: 0.0000, loss: 0.0000, grad_norm: 0.0000\n",
      "2022-10-13 02:09:33,856 - mmdet - INFO - Epoch [1][6200/8219]\tlr: 1.998e-04, eta: 26 days, 20:27:43, time: 5.811, data_time: 0.071, loss_cls: 0.0000, loss_bbox: 0.0000, loss_iou: 0.0000, d0.loss_cls: 0.0000, d0.loss_bbox: 0.0000, d0.loss_iou: 0.0000, d1.loss_cls: 0.0000, d1.loss_bbox: 0.0000, d1.loss_iou: 0.0000, d2.loss_cls: 0.0000, d2.loss_bbox: 0.0000, d2.loss_iou: 0.0000, d3.loss_cls: 0.0000, d3.loss_bbox: 0.0000, d3.loss_iou: 0.0000, d4.loss_cls: 0.0000, d4.loss_bbox: 0.0000, d4.loss_iou: 0.0000, loss: 0.0000, grad_norm: 0.0000\n",
      "Corrupt JPEG data: 784 extraneous bytes before marker 0xd9\n",
      "2022-10-13 02:14:33,403 - mmdet - INFO - Epoch [1][6250/8219]\tlr: 1.998e-04, eta: 26 days, 19:30:03, time: 5.991, data_time: 0.072, loss_cls: 0.0000, loss_bbox: 0.0000, loss_iou: 0.0000, d0.loss_cls: 0.0000, d0.loss_bbox: 0.0000, d0.loss_iou: 0.0000, d1.loss_cls: 0.0000, d1.loss_bbox: 0.0000, d1.loss_iou: 0.0000, d2.loss_cls: 0.0000, d2.loss_bbox: 0.0000, d2.loss_iou: 0.0000, d3.loss_cls: 0.0000, d3.loss_bbox: 0.0000, d3.loss_iou: 0.0000, d4.loss_cls: 0.0000, d4.loss_bbox: 0.0000, d4.loss_iou: 0.0000, loss: 0.0000, grad_norm: 0.0000\n",
      "Corrupt JPEG data: 270 extraneous bytes before marker 0xd9\n",
      "2022-10-13 03:06:09,230 - mmdet - INFO - Epoch [1][6300/8219]\tlr: 1.998e-04, eta: 28 days, 10:18:38, time: 61.917, data_time: 0.076, loss_cls: 0.0000, loss_bbox: 0.0000, loss_iou: 0.0000, d0.loss_cls: 0.0000, d0.loss_bbox: 0.0000, d0.loss_iou: 0.0000, d1.loss_cls: 0.0000, d1.loss_bbox: 0.0000, d1.loss_iou: 0.0000, d2.loss_cls: 0.0000, d2.loss_bbox: 0.0000, d2.loss_iou: 0.0000, d3.loss_cls: 0.0000, d3.loss_bbox: 0.0000, d3.loss_iou: 0.0000, d4.loss_cls: 0.0000, d4.loss_bbox: 0.0000, d4.loss_iou: 0.0000, loss: 0.0000, grad_norm: 0.0000\n",
      "Corrupt JPEG data: 4085 extraneous bytes before marker 0xd9\n",
      "2022-10-13 03:27:24,325 - mmdet - INFO - Epoch [1][6350/8219]\tlr: 1.998e-04, eta: 28 days, 22:48:59, time: 25.502, data_time: 0.072, loss_cls: 0.0000, loss_bbox: 0.0000, loss_iou: 0.0000, d0.loss_cls: 0.0000, d0.loss_bbox: 0.0000, d0.loss_iou: 0.0000, d1.loss_cls: 0.0000, d1.loss_bbox: 0.0000, d1.loss_iou: 0.0000, d2.loss_cls: 0.0000, d2.loss_bbox: 0.0000, d2.loss_iou: 0.0000, d3.loss_cls: 0.0000, d3.loss_bbox: 0.0000, d3.loss_iou: 0.0000, d4.loss_cls: 0.0000, d4.loss_bbox: 0.0000, d4.loss_iou: 0.0000, loss: 0.0000, grad_norm: 0.0000\n",
      "2022-10-13 03:32:09,303 - mmdet - INFO - Epoch [1][6400/8219]\tlr: 1.998e-04, eta: 28 days, 21:16:07, time: 5.700, data_time: 0.080, loss_cls: 0.0000, loss_bbox: 0.0000, loss_iou: 0.0000, d0.loss_cls: 0.0000, d0.loss_bbox: 0.0000, d0.loss_iou: 0.0000, d1.loss_cls: 0.0000, d1.loss_bbox: 0.0000, d1.loss_iou: 0.0000, d2.loss_cls: 0.0000, d2.loss_bbox: 0.0000, d2.loss_iou: 0.0000, d3.loss_cls: 0.0000, d3.loss_bbox: 0.0000, d3.loss_iou: 0.0000, d4.loss_cls: 0.0000, d4.loss_bbox: 0.0000, d4.loss_iou: 0.0000, loss: 0.0000, grad_norm: 0.0000\n",
      "2022-10-13 03:36:52,034 - mmdet - INFO - Epoch [1][6450/8219]\tlr: 1.998e-04, eta: 28 days, 19:42:44, time: 5.655, data_time: 0.079, loss_cls: 0.0000, loss_bbox: 0.0000, loss_iou: 0.0000, d0.loss_cls: 0.0000, d0.loss_bbox: 0.0000, d0.loss_iou: 0.0000, d1.loss_cls: 0.0000, d1.loss_bbox: 0.0000, d1.loss_iou: 0.0000, d2.loss_cls: 0.0000, d2.loss_bbox: 0.0000, d2.loss_iou: 0.0000, d3.loss_cls: 0.0000, d3.loss_bbox: 0.0000, d3.loss_iou: 0.0000, d4.loss_cls: 0.0000, d4.loss_bbox: 0.0000, d4.loss_iou: 0.0000, loss: 0.0000, grad_norm: 0.0000\n",
      "2022-10-13 03:41:33,111 - mmdet - INFO - Epoch [1][6500/8219]\tlr: 1.998e-04, eta: 28 days, 18:09:21, time: 5.622, data_time: 0.072, loss_cls: 0.0000, loss_bbox: 0.0000, loss_iou: 0.0000, d0.loss_cls: 0.0000, d0.loss_bbox: 0.0000, d0.loss_iou: 0.0000, d1.loss_cls: 0.0000, d1.loss_bbox: 0.0000, d1.loss_iou: 0.0000, d2.loss_cls: 0.0000, d2.loss_bbox: 0.0000, d2.loss_iou: 0.0000, d3.loss_cls: 0.0000, d3.loss_bbox: 0.0000, d3.loss_iou: 0.0000, d4.loss_cls: 0.0000, d4.loss_bbox: 0.0000, d4.loss_iou: 0.0000, loss: 0.0000, grad_norm: 0.0000\n",
      "2022-10-13 03:46:07,517 - mmdet - INFO - Epoch [1][6550/8219]\tlr: 1.998e-04, eta: 28 days, 16:31:51, time: 5.488, data_time: 0.073, loss_cls: 0.0000, loss_bbox: 0.0000, loss_iou: 0.0000, d0.loss_cls: 0.0000, d0.loss_bbox: 0.0000, d0.loss_iou: 0.0000, d1.loss_cls: 0.0000, d1.loss_bbox: 0.0000, d1.loss_iou: 0.0000, d2.loss_cls: 0.0000, d2.loss_bbox: 0.0000, d2.loss_iou: 0.0000, d3.loss_cls: 0.0000, d3.loss_bbox: 0.0000, d3.loss_iou: 0.0000, d4.loss_cls: 0.0000, d4.loss_bbox: 0.0000, d4.loss_iou: 0.0000, loss: 0.0000, grad_norm: 0.0000\n",
      "2022-10-13 03:50:52,265 - mmdet - INFO - Epoch [1][6600/8219]\tlr: 1.998e-04, eta: 28 days, 15:04:10, time: 5.695, data_time: 0.073, loss_cls: 0.0000, loss_bbox: 0.0000, loss_iou: 0.0000, d0.loss_cls: 0.0000, d0.loss_bbox: 0.0000, d0.loss_iou: 0.0000, d1.loss_cls: 0.0000, d1.loss_bbox: 0.0000, d1.loss_iou: 0.0000, d2.loss_cls: 0.0000, d2.loss_bbox: 0.0000, d2.loss_iou: 0.0000, d3.loss_cls: 0.0000, d3.loss_bbox: 0.0000, d3.loss_iou: 0.0000, d4.loss_cls: 0.0000, d4.loss_bbox: 0.0000, d4.loss_iou: 0.0000, loss: 0.0000, grad_norm: 0.0000\n",
      "2022-10-13 03:55:32,389 - mmdet - INFO - Epoch [1][6650/8219]\tlr: 1.998e-04, eta: 28 days, 13:34:00, time: 5.602, data_time: 0.074, loss_cls: 0.0000, loss_bbox: 0.0000, loss_iou: 0.0000, d0.loss_cls: 0.0000, d0.loss_bbox: 0.0000, d0.loss_iou: 0.0000, d1.loss_cls: 0.0000, d1.loss_bbox: 0.0000, d1.loss_iou: 0.0000, d2.loss_cls: 0.0000, d2.loss_bbox: 0.0000, d2.loss_iou: 0.0000, d3.loss_cls: 0.0000, d3.loss_bbox: 0.0000, d3.loss_iou: 0.0000, d4.loss_cls: 0.0000, d4.loss_bbox: 0.0000, d4.loss_iou: 0.0000, loss: 0.0000, grad_norm: 0.0000\n",
      "2022-10-13 04:00:13,022 - mmdet - INFO - Epoch [1][6700/8219]\tlr: 1.998e-04, eta: 28 days, 12:05:31, time: 5.613, data_time: 0.074, loss_cls: 0.0000, loss_bbox: 0.0000, loss_iou: 0.0000, d0.loss_cls: 0.0000, d0.loss_bbox: 0.0000, d0.loss_iou: 0.0000, d1.loss_cls: 0.0000, d1.loss_bbox: 0.0000, d1.loss_iou: 0.0000, d2.loss_cls: 0.0000, d2.loss_bbox: 0.0000, d2.loss_iou: 0.0000, d3.loss_cls: 0.0000, d3.loss_bbox: 0.0000, d3.loss_iou: 0.0000, d4.loss_cls: 0.0000, d4.loss_bbox: 0.0000, d4.loss_iou: 0.0000, loss: 0.0000, grad_norm: 0.0000\n",
      "2022-10-13 04:05:23,224 - mmdet - INFO - Epoch [1][6750/8219]\tlr: 1.998e-04, eta: 28 days, 11:01:48, time: 6.204, data_time: 0.074, loss_cls: 0.0000, loss_bbox: 0.0000, loss_iou: 0.0000, d0.loss_cls: 0.0000, d0.loss_bbox: 0.0000, d0.loss_iou: 0.0000, d1.loss_cls: 0.0000, d1.loss_bbox: 0.0000, d1.loss_iou: 0.0000, d2.loss_cls: 0.0000, d2.loss_bbox: 0.0000, d2.loss_iou: 0.0000, d3.loss_cls: 0.0000, d3.loss_bbox: 0.0000, d3.loss_iou: 0.0000, d4.loss_cls: 0.0000, d4.loss_bbox: 0.0000, d4.loss_iou: 0.0000, loss: 0.0000, grad_norm: 0.0000\n",
      "2022-10-13 04:09:52,764 - mmdet - INFO - Epoch [1][6800/8219]\tlr: 1.998e-04, eta: 28 days, 9:26:50, time: 5.391, data_time: 0.074, loss_cls: 0.0000, loss_bbox: 0.0000, loss_iou: 0.0000, d0.loss_cls: 0.0000, d0.loss_bbox: 0.0000, d0.loss_iou: 0.0000, d1.loss_cls: 0.0000, d1.loss_bbox: 0.0000, d1.loss_iou: 0.0000, d2.loss_cls: 0.0000, d2.loss_bbox: 0.0000, d2.loss_iou: 0.0000, d3.loss_cls: 0.0000, d3.loss_bbox: 0.0000, d3.loss_iou: 0.0000, d4.loss_cls: 0.0000, d4.loss_bbox: 0.0000, d4.loss_iou: 0.0000, loss: 0.0000, grad_norm: 0.0000\n"
     ]
    },
    {
     "name": "stderr",
     "output_type": "stream",
     "text": [
      "Corrupt JPEG data: premature end of data segment\n",
      "2022-10-13 04:14:33,355 - mmdet - INFO - Epoch [1][6850/8219]\tlr: 1.998e-04, eta: 28 days, 8:01:52, time: 5.612, data_time: 0.067, loss_cls: 0.0000, loss_bbox: 0.0000, loss_iou: 0.0000, d0.loss_cls: 0.0000, d0.loss_bbox: 0.0000, d0.loss_iou: 0.0000, d1.loss_cls: 0.0000, d1.loss_bbox: 0.0000, d1.loss_iou: 0.0000, d2.loss_cls: 0.0000, d2.loss_bbox: 0.0000, d2.loss_iou: 0.0000, d3.loss_cls: 0.0000, d3.loss_bbox: 0.0000, d3.loss_iou: 0.0000, d4.loss_cls: 0.0000, d4.loss_bbox: 0.0000, d4.loss_iou: 0.0000, loss: 0.0000, grad_norm: 0.0000\n",
      "2022-10-13 04:19:36,474 - mmdet - INFO - Epoch [1][6900/8219]\tlr: 1.998e-04, eta: 28 days, 6:55:34, time: 6.062, data_time: 0.077, loss_cls: 0.0000, loss_bbox: 0.0000, loss_iou: 0.0000, d0.loss_cls: 0.0000, d0.loss_bbox: 0.0000, d0.loss_iou: 0.0000, d1.loss_cls: 0.0000, d1.loss_bbox: 0.0000, d1.loss_iou: 0.0000, d2.loss_cls: 0.0000, d2.loss_bbox: 0.0000, d2.loss_iou: 0.0000, d3.loss_cls: 0.0000, d3.loss_bbox: 0.0000, d3.loss_iou: 0.0000, d4.loss_cls: 0.0000, d4.loss_bbox: 0.0000, d4.loss_iou: 0.0000, loss: 0.0000, grad_norm: 0.0000\n",
      "Corrupt JPEG data: premature end of data segment\n",
      "2022-10-13 04:39:29,952 - mmdet - INFO - Epoch [1][6950/8219]\tlr: 1.998e-04, eta: 28 days, 17:17:15, time: 23.870, data_time: 0.074, loss_cls: 0.0000, loss_bbox: 0.0000, loss_iou: 0.0000, d0.loss_cls: 0.0000, d0.loss_bbox: 0.0000, d0.loss_iou: 0.0000, d1.loss_cls: 0.0000, d1.loss_bbox: 0.0000, d1.loss_iou: 0.0000, d2.loss_cls: 0.0000, d2.loss_bbox: 0.0000, d2.loss_iou: 0.0000, d3.loss_cls: 0.0000, d3.loss_bbox: 0.0000, d3.loss_iou: 0.0000, d4.loss_cls: 0.0000, d4.loss_bbox: 0.0000, d4.loss_iou: 0.0000, loss: 0.0000, grad_norm: 0.0000\n",
      "2022-10-13 05:15:20,912 - mmdet - INFO - Epoch [1][7000/8219]\tlr: 1.998e-04, eta: 29 days, 15:43:18, time: 43.019, data_time: 0.068, loss_cls: 0.0000, loss_bbox: 0.0000, loss_iou: 0.0000, d0.loss_cls: 0.0000, d0.loss_bbox: 0.0000, d0.loss_iou: 0.0000, d1.loss_cls: 0.0000, d1.loss_bbox: 0.0000, d1.loss_iou: 0.0000, d2.loss_cls: 0.0000, d2.loss_bbox: 0.0000, d2.loss_iou: 0.0000, d3.loss_cls: 0.0000, d3.loss_bbox: 0.0000, d3.loss_iou: 0.0000, d4.loss_cls: 0.0000, d4.loss_bbox: 0.0000, d4.loss_iou: 0.0000, loss: 0.0000, grad_norm: 0.0000\n",
      "2022-10-13 05:19:59,649 - mmdet - INFO - Epoch [1][7050/8219]\tlr: 1.998e-04, eta: 29 days, 14:05:51, time: 5.575, data_time: 0.081, loss_cls: 0.0000, loss_bbox: 0.0000, loss_iou: 0.0000, d0.loss_cls: 0.0000, d0.loss_bbox: 0.0000, d0.loss_iou: 0.0000, d1.loss_cls: 0.0000, d1.loss_bbox: 0.0000, d1.loss_iou: 0.0000, d2.loss_cls: 0.0000, d2.loss_bbox: 0.0000, d2.loss_iou: 0.0000, d3.loss_cls: 0.0000, d3.loss_bbox: 0.0000, d3.loss_iou: 0.0000, d4.loss_cls: 0.0000, d4.loss_bbox: 0.0000, d4.loss_iou: 0.0000, loss: 0.0000, grad_norm: 0.0000\n",
      "2022-10-13 05:24:40,216 - mmdet - INFO - Epoch [1][7100/8219]\tlr: 1.998e-04, eta: 29 days, 12:31:05, time: 5.611, data_time: 0.074, loss_cls: 0.0000, loss_bbox: 0.0000, loss_iou: 0.0000, d0.loss_cls: 0.0000, d0.loss_bbox: 0.0000, d0.loss_iou: 0.0000, d1.loss_cls: 0.0000, d1.loss_bbox: 0.0000, d1.loss_iou: 0.0000, d2.loss_cls: 0.0000, d2.loss_bbox: 0.0000, d2.loss_iou: 0.0000, d3.loss_cls: 0.0000, d3.loss_bbox: 0.0000, d3.loss_iou: 0.0000, d4.loss_cls: 0.0000, d4.loss_bbox: 0.0000, d4.loss_iou: 0.0000, loss: 0.0000, grad_norm: 0.0000\n",
      "2022-10-13 05:29:34,416 - mmdet - INFO - Epoch [1][7150/8219]\tlr: 1.998e-04, eta: 29 days, 11:07:48, time: 5.884, data_time: 0.073, loss_cls: 0.0000, loss_bbox: 0.0000, loss_iou: 0.0000, d0.loss_cls: 0.0000, d0.loss_bbox: 0.0000, d0.loss_iou: 0.0000, d1.loss_cls: 0.0000, d1.loss_bbox: 0.0000, d1.loss_iou: 0.0000, d2.loss_cls: 0.0000, d2.loss_bbox: 0.0000, d2.loss_iou: 0.0000, d3.loss_cls: 0.0000, d3.loss_bbox: 0.0000, d3.loss_iou: 0.0000, d4.loss_cls: 0.0000, d4.loss_bbox: 0.0000, d4.loss_iou: 0.0000, loss: 0.0000, grad_norm: 0.0000\n",
      "2022-10-13 05:34:17,785 - mmdet - INFO - Epoch [1][7200/8219]\tlr: 1.998e-04, eta: 29 days, 9:37:32, time: 5.667, data_time: 0.070, loss_cls: 0.0000, loss_bbox: 0.0000, loss_iou: 0.0000, d0.loss_cls: 0.0000, d0.loss_bbox: 0.0000, d0.loss_iou: 0.0000, d1.loss_cls: 0.0000, d1.loss_bbox: 0.0000, d1.loss_iou: 0.0000, d2.loss_cls: 0.0000, d2.loss_bbox: 0.0000, d2.loss_iou: 0.0000, d3.loss_cls: 0.0000, d3.loss_bbox: 0.0000, d3.loss_iou: 0.0000, d4.loss_cls: 0.0000, d4.loss_bbox: 0.0000, d4.loss_iou: 0.0000, loss: 0.0000, grad_norm: 0.0000\n",
      "2022-10-13 05:39:15,096 - mmdet - INFO - Epoch [1][7250/8219]\tlr: 1.998e-04, eta: 29 days, 8:18:45, time: 5.946, data_time: 0.082, loss_cls: 0.0000, loss_bbox: 0.0000, loss_iou: 0.0000, d0.loss_cls: 0.0000, d0.loss_bbox: 0.0000, d0.loss_iou: 0.0000, d1.loss_cls: 0.0000, d1.loss_bbox: 0.0000, d1.loss_iou: 0.0000, d2.loss_cls: 0.0000, d2.loss_bbox: 0.0000, d2.loss_iou: 0.0000, d3.loss_cls: 0.0000, d3.loss_bbox: 0.0000, d3.loss_iou: 0.0000, d4.loss_cls: 0.0000, d4.loss_bbox: 0.0000, d4.loss_iou: 0.0000, loss: 0.0000, grad_norm: 0.0000\n",
      "2022-10-13 05:44:07,310 - mmdet - INFO - Epoch [1][7300/8219]\tlr: 1.998e-04, eta: 29 days, 6:57:15, time: 5.844, data_time: 0.073, loss_cls: 0.0000, loss_bbox: 0.0000, loss_iou: 0.0000, d0.loss_cls: 0.0000, d0.loss_bbox: 0.0000, d0.loss_iou: 0.0000, d1.loss_cls: 0.0000, d1.loss_bbox: 0.0000, d1.loss_iou: 0.0000, d2.loss_cls: 0.0000, d2.loss_bbox: 0.0000, d2.loss_iou: 0.0000, d3.loss_cls: 0.0000, d3.loss_bbox: 0.0000, d3.loss_iou: 0.0000, d4.loss_cls: 0.0000, d4.loss_bbox: 0.0000, d4.loss_iou: 0.0000, loss: 0.0000, grad_norm: 0.0000\n",
      "2022-10-13 05:49:04,426 - mmdet - INFO - Epoch [1][7350/8219]\tlr: 1.998e-04, eta: 29 days, 5:40:21, time: 5.942, data_time: 0.075, loss_cls: 0.0000, loss_bbox: 0.0000, loss_iou: 0.0000, d0.loss_cls: 0.0000, d0.loss_bbox: 0.0000, d0.loss_iou: 0.0000, d1.loss_cls: 0.0000, d1.loss_bbox: 0.0000, d1.loss_iou: 0.0000, d2.loss_cls: 0.0000, d2.loss_bbox: 0.0000, d2.loss_iou: 0.0000, d3.loss_cls: 0.0000, d3.loss_bbox: 0.0000, d3.loss_iou: 0.0000, d4.loss_cls: 0.0000, d4.loss_bbox: 0.0000, d4.loss_iou: 0.0000, loss: 0.0000, grad_norm: 0.0000\n",
      "2022-10-13 05:53:40,255 - mmdet - INFO - Epoch [1][7400/8219]\tlr: 1.998e-04, eta: 29 days, 4:09:02, time: 5.517, data_time: 0.083, loss_cls: 0.0000, loss_bbox: 0.0000, loss_iou: 0.0000, d0.loss_cls: 0.0000, d0.loss_bbox: 0.0000, d0.loss_iou: 0.0000, d1.loss_cls: 0.0000, d1.loss_bbox: 0.0000, d1.loss_iou: 0.0000, d2.loss_cls: 0.0000, d2.loss_bbox: 0.0000, d2.loss_iou: 0.0000, d3.loss_cls: 0.0000, d3.loss_bbox: 0.0000, d3.loss_iou: 0.0000, d4.loss_cls: 0.0000, d4.loss_bbox: 0.0000, d4.loss_iou: 0.0000, loss: 0.0000, grad_norm: 0.0000\n",
      "2022-10-13 05:58:44,450 - mmdet - INFO - Epoch [1][7450/8219]\tlr: 1.997e-04, eta: 29 days, 2:59:15, time: 6.084, data_time: 0.073, loss_cls: 0.0000, loss_bbox: 0.0000, loss_iou: 0.0000, d0.loss_cls: 0.0000, d0.loss_bbox: 0.0000, d0.loss_iou: 0.0000, d1.loss_cls: 0.0000, d1.loss_bbox: 0.0000, d1.loss_iou: 0.0000, d2.loss_cls: 0.0000, d2.loss_bbox: 0.0000, d2.loss_iou: 0.0000, d3.loss_cls: 0.0000, d3.loss_bbox: 0.0000, d3.loss_iou: 0.0000, d4.loss_cls: 0.0000, d4.loss_bbox: 0.0000, d4.loss_iou: 0.0000, loss: 0.0000, grad_norm: 0.0000\n",
      "2022-10-13 06:03:14,061 - mmdet - INFO - Epoch [1][7500/8219]\tlr: 1.997e-04, eta: 29 days, 1:25:39, time: 5.392, data_time: 0.070, loss_cls: 0.0000, loss_bbox: 0.0000, loss_iou: 0.0000, d0.loss_cls: 0.0000, d0.loss_bbox: 0.0000, d0.loss_iou: 0.0000, d1.loss_cls: 0.0000, d1.loss_bbox: 0.0000, d1.loss_iou: 0.0000, d2.loss_cls: 0.0000, d2.loss_bbox: 0.0000, d2.loss_iou: 0.0000, d3.loss_cls: 0.0000, d3.loss_bbox: 0.0000, d3.loss_iou: 0.0000, d4.loss_cls: 0.0000, d4.loss_bbox: 0.0000, d4.loss_iou: 0.0000, loss: 0.0000, grad_norm: 0.0000\n",
      "2022-10-13 06:08:10,069 - mmdet - INFO - Epoch [1][7550/8219]\tlr: 1.997e-04, eta: 29 days, 0:11:57, time: 5.920, data_time: 0.075, loss_cls: 0.0000, loss_bbox: 0.0000, loss_iou: 0.0000, d0.loss_cls: 0.0000, d0.loss_bbox: 0.0000, d0.loss_iou: 0.0000, d1.loss_cls: 0.0000, d1.loss_bbox: 0.0000, d1.loss_iou: 0.0000, d2.loss_cls: 0.0000, d2.loss_bbox: 0.0000, d2.loss_iou: 0.0000, d3.loss_cls: 0.0000, d3.loss_bbox: 0.0000, d3.loss_iou: 0.0000, d4.loss_cls: 0.0000, d4.loss_bbox: 0.0000, d4.loss_iou: 0.0000, loss: 0.0000, grad_norm: 0.0000\n",
      "2022-10-13 06:12:25,704 - mmdet - INFO - Epoch [1][7600/8219]\tlr: 1.997e-04, eta: 28 days, 22:30:43, time: 5.113, data_time: 0.072, loss_cls: 0.0000, loss_bbox: 0.0000, loss_iou: 0.0000, d0.loss_cls: 0.0000, d0.loss_bbox: 0.0000, d0.loss_iou: 0.0000, d1.loss_cls: 0.0000, d1.loss_bbox: 0.0000, d1.loss_iou: 0.0000, d2.loss_cls: 0.0000, d2.loss_bbox: 0.0000, d2.loss_iou: 0.0000, d3.loss_cls: 0.0000, d3.loss_bbox: 0.0000, d3.loss_iou: 0.0000, d4.loss_cls: 0.0000, d4.loss_bbox: 0.0000, d4.loss_iou: 0.0000, loss: 0.0000, grad_norm: 0.0000\n"
     ]
    },
    {
     "name": "stderr",
     "output_type": "stream",
     "text": [
      "2022-10-13 07:05:54,781 - mmdet - INFO - Epoch [1][7650/8219]\tlr: 1.997e-04, eta: 30 days, 7:16:57, time: 64.182, data_time: 0.076, loss_cls: 0.0000, loss_bbox: 0.0000, loss_iou: 0.0000, d0.loss_cls: 0.0000, d0.loss_bbox: 0.0000, d0.loss_iou: 0.0000, d1.loss_cls: 0.0000, d1.loss_bbox: 0.0000, d1.loss_iou: 0.0000, d2.loss_cls: 0.0000, d2.loss_bbox: 0.0000, d2.loss_iou: 0.0000, d3.loss_cls: 0.0000, d3.loss_bbox: 0.0000, d3.loss_iou: 0.0000, d4.loss_cls: 0.0000, d4.loss_bbox: 0.0000, d4.loss_iou: 0.0000, loss: 0.0000, grad_norm: 0.0000\n",
      "Corrupt JPEG data: 10773 extraneous bytes before marker 0xd9\n",
      "2022-10-13 07:10:01,456 - mmdet - INFO - Epoch [1][7700/8219]\tlr: 1.997e-04, eta: 30 days, 5:18:16, time: 4.934, data_time: 0.069, loss_cls: 0.0000, loss_bbox: 0.0000, loss_iou: 0.0000, d0.loss_cls: 0.0000, d0.loss_bbox: 0.0000, d0.loss_iou: 0.0000, d1.loss_cls: 0.0000, d1.loss_bbox: 0.0000, d1.loss_iou: 0.0000, d2.loss_cls: 0.0000, d2.loss_bbox: 0.0000, d2.loss_iou: 0.0000, d3.loss_cls: 0.0000, d3.loss_bbox: 0.0000, d3.loss_iou: 0.0000, d4.loss_cls: 0.0000, d4.loss_bbox: 0.0000, d4.loss_iou: 0.0000, loss: 0.0000, grad_norm: 0.0000\n",
      "2022-10-13 07:15:04,878 - mmdet - INFO - Epoch [1][7750/8219]\tlr: 1.997e-04, eta: 30 days, 4:00:14, time: 6.068, data_time: 0.083, loss_cls: 0.0000, loss_bbox: 0.0000, loss_iou: 0.0000, d0.loss_cls: 0.0000, d0.loss_bbox: 0.0000, d0.loss_iou: 0.0000, d1.loss_cls: 0.0000, d1.loss_bbox: 0.0000, d1.loss_iou: 0.0000, d2.loss_cls: 0.0000, d2.loss_bbox: 0.0000, d2.loss_iou: 0.0000, d3.loss_cls: 0.0000, d3.loss_bbox: 0.0000, d3.loss_iou: 0.0000, d4.loss_cls: 0.0000, d4.loss_bbox: 0.0000, d4.loss_iou: 0.0000, loss: 0.0000, grad_norm: 0.0000\n",
      "2022-10-13 07:19:43,630 - mmdet - INFO - Epoch [1][7800/8219]\tlr: 1.997e-04, eta: 30 days, 2:26:13, time: 5.575, data_time: 0.069, loss_cls: 0.0000, loss_bbox: 0.0000, loss_iou: 0.0000, d0.loss_cls: 0.0000, d0.loss_bbox: 0.0000, d0.loss_iou: 0.0000, d1.loss_cls: 0.0000, d1.loss_bbox: 0.0000, d1.loss_iou: 0.0000, d2.loss_cls: 0.0000, d2.loss_bbox: 0.0000, d2.loss_iou: 0.0000, d3.loss_cls: 0.0000, d3.loss_bbox: 0.0000, d3.loss_iou: 0.0000, d4.loss_cls: 0.0000, d4.loss_bbox: 0.0000, d4.loss_iou: 0.0000, loss: 0.0000, grad_norm: 0.0000\n",
      "2022-10-13 07:24:21,379 - mmdet - INFO - Epoch [1][7850/8219]\tlr: 1.997e-04, eta: 30 days, 0:52:39, time: 5.555, data_time: 0.071, loss_cls: 0.0000, loss_bbox: 0.0000, loss_iou: 0.0000, d0.loss_cls: 0.0000, d0.loss_bbox: 0.0000, d0.loss_iou: 0.0000, d1.loss_cls: 0.0000, d1.loss_bbox: 0.0000, d1.loss_iou: 0.0000, d2.loss_cls: 0.0000, d2.loss_bbox: 0.0000, d2.loss_iou: 0.0000, d3.loss_cls: 0.0000, d3.loss_bbox: 0.0000, d3.loss_iou: 0.0000, d4.loss_cls: 0.0000, d4.loss_bbox: 0.0000, d4.loss_iou: 0.0000, loss: 0.0000, grad_norm: 0.0000\n",
      "Corrupt JPEG data: premature end of data segment\n",
      "Corrupt JPEG data: premature end of data segment\n",
      "2022-10-13 07:29:13,149 - mmdet - INFO - Epoch [1][7900/8219]\tlr: 1.997e-04, eta: 29 days, 23:29:43, time: 5.835, data_time: 0.074, loss_cls: 0.0000, loss_bbox: 0.0000, loss_iou: 0.0000, d0.loss_cls: 0.0000, d0.loss_bbox: 0.0000, d0.loss_iou: 0.0000, d1.loss_cls: 0.0000, d1.loss_bbox: 0.0000, d1.loss_iou: 0.0000, d2.loss_cls: 0.0000, d2.loss_bbox: 0.0000, d2.loss_iou: 0.0000, d3.loss_cls: 0.0000, d3.loss_bbox: 0.0000, d3.loss_iou: 0.0000, d4.loss_cls: 0.0000, d4.loss_bbox: 0.0000, d4.loss_iou: 0.0000, loss: 0.0000, grad_norm: 0.0000\n",
      "2022-10-13 07:33:45,966 - mmdet - INFO - Epoch [1][7950/8219]\tlr: 1.997e-04, eta: 29 days, 21:55:00, time: 5.456, data_time: 0.070, loss_cls: 0.0000, loss_bbox: 0.0000, loss_iou: 0.0000, d0.loss_cls: 0.0000, d0.loss_bbox: 0.0000, d0.loss_iou: 0.0000, d1.loss_cls: 0.0000, d1.loss_bbox: 0.0000, d1.loss_iou: 0.0000, d2.loss_cls: 0.0000, d2.loss_bbox: 0.0000, d2.loss_iou: 0.0000, d3.loss_cls: 0.0000, d3.loss_bbox: 0.0000, d3.loss_iou: 0.0000, d4.loss_cls: 0.0000, d4.loss_bbox: 0.0000, d4.loss_iou: 0.0000, loss: 0.0000, grad_norm: 0.0000\n",
      "2022-10-13 07:38:31,681 - mmdet - INFO - Epoch [1][8000/8219]\tlr: 1.997e-04, eta: 29 days, 20:30:03, time: 5.714, data_time: 0.071, loss_cls: 0.0000, loss_bbox: 0.0000, loss_iou: 0.0000, d0.loss_cls: 0.0000, d0.loss_bbox: 0.0000, d0.loss_iou: 0.0000, d1.loss_cls: 0.0000, d1.loss_bbox: 0.0000, d1.loss_iou: 0.0000, d2.loss_cls: 0.0000, d2.loss_bbox: 0.0000, d2.loss_iou: 0.0000, d3.loss_cls: 0.0000, d3.loss_bbox: 0.0000, d3.loss_iou: 0.0000, d4.loss_cls: 0.0000, d4.loss_bbox: 0.0000, d4.loss_iou: 0.0000, loss: 0.0000, grad_norm: 0.0000\n",
      "2022-10-13 07:43:08,629 - mmdet - INFO - Epoch [1][8050/8219]\tlr: 1.997e-04, eta: 29 days, 19:00:15, time: 5.539, data_time: 0.068, loss_cls: 0.0000, loss_bbox: 0.0000, loss_iou: 0.0000, d0.loss_cls: 0.0000, d0.loss_bbox: 0.0000, d0.loss_iou: 0.0000, d1.loss_cls: 0.0000, d1.loss_bbox: 0.0000, d1.loss_iou: 0.0000, d2.loss_cls: 0.0000, d2.loss_bbox: 0.0000, d2.loss_iou: 0.0000, d3.loss_cls: 0.0000, d3.loss_bbox: 0.0000, d3.loss_iou: 0.0000, d4.loss_cls: 0.0000, d4.loss_bbox: 0.0000, d4.loss_iou: 0.0000, loss: 0.0000, grad_norm: 0.0000\n",
      "2022-10-13 07:47:20,970 - mmdet - INFO - Epoch [1][8100/8219]\tlr: 1.997e-04, eta: 29 days, 17:15:17, time: 5.047, data_time: 0.070, loss_cls: 0.0000, loss_bbox: 0.0000, loss_iou: 0.0000, d0.loss_cls: 0.0000, d0.loss_bbox: 0.0000, d0.loss_iou: 0.0000, d1.loss_cls: 0.0000, d1.loss_bbox: 0.0000, d1.loss_iou: 0.0000, d2.loss_cls: 0.0000, d2.loss_bbox: 0.0000, d2.loss_iou: 0.0000, d3.loss_cls: 0.0000, d3.loss_bbox: 0.0000, d3.loss_iou: 0.0000, d4.loss_cls: 0.0000, d4.loss_bbox: 0.0000, d4.loss_iou: 0.0000, loss: 0.0000, grad_norm: 0.0000\n",
      "2022-10-13 07:52:33,355 - mmdet - INFO - Epoch [1][8150/8219]\tlr: 1.997e-04, eta: 29 days, 16:10:55, time: 6.248, data_time: 0.066, loss_cls: 0.0000, loss_bbox: 0.0000, loss_iou: 0.0000, d0.loss_cls: 0.0000, d0.loss_bbox: 0.0000, d0.loss_iou: 0.0000, d1.loss_cls: 0.0000, d1.loss_bbox: 0.0000, d1.loss_iou: 0.0000, d2.loss_cls: 0.0000, d2.loss_bbox: 0.0000, d2.loss_iou: 0.0000, d3.loss_cls: 0.0000, d3.loss_bbox: 0.0000, d3.loss_iou: 0.0000, d4.loss_cls: 0.0000, d4.loss_bbox: 0.0000, d4.loss_iou: 0.0000, loss: 0.0000, grad_norm: 0.0000\n",
      "2022-10-13 07:57:17,150 - mmdet - INFO - Epoch [1][8200/8219]\tlr: 1.997e-04, eta: 29 days, 14:48:39, time: 5.676, data_time: 0.077, loss_cls: 0.0000, loss_bbox: 0.0000, loss_iou: 0.0000, d0.loss_cls: 0.0000, d0.loss_bbox: 0.0000, d0.loss_iou: 0.0000, d1.loss_cls: 0.0000, d1.loss_bbox: 0.0000, d1.loss_iou: 0.0000, d2.loss_cls: 0.0000, d2.loss_bbox: 0.0000, d2.loss_iou: 0.0000, d3.loss_cls: 0.0000, d3.loss_bbox: 0.0000, d3.loss_iou: 0.0000, d4.loss_cls: 0.0000, d4.loss_bbox: 0.0000, d4.loss_iou: 0.0000, loss: 0.0000, grad_norm: 0.0000\n"
     ]
    },
    {
     "name": "stdout",
     "output_type": "stream",
     "text": [
      "[>>                            ] 54/588, 0.3 task/s, elapsed: 163s, ETA:  1611s"
     ]
    },
    {
     "name": "stderr",
     "output_type": "stream",
     "text": [
      "Corrupt JPEG data: 786 extraneous bytes before marker 0xd9\n"
     ]
    },
    {
     "name": "stdout",
     "output_type": "stream",
     "text": [
      "[>>>>>>>>>                   ] 208/588, 0.1 task/s, elapsed: 2842s, ETA:  5191s"
     ]
    },
    {
     "name": "stderr",
     "output_type": "stream",
     "text": [
      "Corrupt JPEG data: 305 extraneous bytes before marker 0xd9\n"
     ]
    },
    {
     "name": "stdout",
     "output_type": "stream",
     "text": [
      "[>>>>>>>>>>                  ] 219/588, 0.1 task/s, elapsed: 2870s, ETA:  4836s"
     ]
    },
    {
     "name": "stderr",
     "output_type": "stream",
     "text": [
      "Corrupt JPEG data: premature end of data segment\n"
     ]
    },
    {
     "name": "stdout",
     "output_type": "stream",
     "text": [
      "[>>>>>>>>>>>>>>>             ] 319/588, 0.1 task/s, elapsed: 3149s, ETA:  2656s"
     ]
    },
    {
     "name": "stderr",
     "output_type": "stream",
     "text": [
      "Corrupt JPEG data: 366 extraneous bytes before marker 0xd9\n"
     ]
    },
    {
     "name": "stdout",
     "output_type": "stream",
     "text": [
      "[>>>>>>>>>>>>>>>>>>>>>>>>>>>>] 588/588, 0.2 task/s, elapsed: 3884s, ETA:     0s"
     ]
    },
    {
     "ename": "IndexError",
     "evalue": "list index out of range",
     "output_type": "error",
     "traceback": [
      "\u001b[0;31m---------------------------------------------------------------------------\u001b[0m",
      "\u001b[0;31mIndexError\u001b[0m                                Traceback (most recent call last)",
      "Input \u001b[0;32mIn [26]\u001b[0m, in \u001b[0;36m<cell line: 12>\u001b[0;34m()\u001b[0m\n\u001b[1;32m     10\u001b[0m model\u001b[38;5;241m.\u001b[39mCLASSES \u001b[38;5;241m=\u001b[39m datasets[\u001b[38;5;241m0\u001b[39m]\u001b[38;5;241m.\u001b[39mCLASSES\n\u001b[1;32m     11\u001b[0m \u001b[38;5;66;03m# 훈련\u001b[39;00m\n\u001b[0;32m---> 12\u001b[0m \u001b[43mtrain_detector\u001b[49m\u001b[43m(\u001b[49m\u001b[43mmodel\u001b[49m\u001b[43m,\u001b[49m\u001b[43m \u001b[49m\u001b[43mdatasets\u001b[49m\u001b[43m,\u001b[49m\u001b[43m \u001b[49m\u001b[43mcfg\u001b[49m\u001b[43m,\u001b[49m\u001b[43m \u001b[49m\u001b[43mdistributed\u001b[49m\u001b[38;5;241;43m=\u001b[39;49m\u001b[38;5;28;43;01mFalse\u001b[39;49;00m\u001b[43m,\u001b[49m\u001b[43m \u001b[49m\u001b[43mvalidate\u001b[49m\u001b[38;5;241;43m=\u001b[39;49m\u001b[38;5;28;43;01mTrue\u001b[39;49;00m\u001b[43m)\u001b[49m\n",
      "File \u001b[0;32m~/Documents/retail/mmdetection/mmdet/apis/train.py:244\u001b[0m, in \u001b[0;36mtrain_detector\u001b[0;34m(model, dataset, cfg, distributed, validate, timestamp, meta)\u001b[0m\n\u001b[1;32m    242\u001b[0m \u001b[38;5;28;01melif\u001b[39;00m cfg\u001b[38;5;241m.\u001b[39mload_from:\n\u001b[1;32m    243\u001b[0m     runner\u001b[38;5;241m.\u001b[39mload_checkpoint(cfg\u001b[38;5;241m.\u001b[39mload_from)\n\u001b[0;32m--> 244\u001b[0m \u001b[43mrunner\u001b[49m\u001b[38;5;241;43m.\u001b[39;49m\u001b[43mrun\u001b[49m\u001b[43m(\u001b[49m\u001b[43mdata_loaders\u001b[49m\u001b[43m,\u001b[49m\u001b[43m \u001b[49m\u001b[43mcfg\u001b[49m\u001b[38;5;241;43m.\u001b[39;49m\u001b[43mworkflow\u001b[49m\u001b[43m)\u001b[49m\n",
      "File \u001b[0;32m~/miniforge3/envs/pytorch/lib/python3.8/site-packages/mmcv/runner/epoch_based_runner.py:136\u001b[0m, in \u001b[0;36mEpochBasedRunner.run\u001b[0;34m(self, data_loaders, workflow, max_epochs, **kwargs)\u001b[0m\n\u001b[1;32m    134\u001b[0m             \u001b[38;5;28;01mif\u001b[39;00m mode \u001b[38;5;241m==\u001b[39m \u001b[38;5;124m'\u001b[39m\u001b[38;5;124mtrain\u001b[39m\u001b[38;5;124m'\u001b[39m \u001b[38;5;129;01mand\u001b[39;00m \u001b[38;5;28mself\u001b[39m\u001b[38;5;241m.\u001b[39mepoch \u001b[38;5;241m>\u001b[39m\u001b[38;5;241m=\u001b[39m \u001b[38;5;28mself\u001b[39m\u001b[38;5;241m.\u001b[39m_max_epochs:\n\u001b[1;32m    135\u001b[0m                 \u001b[38;5;28;01mbreak\u001b[39;00m\n\u001b[0;32m--> 136\u001b[0m             \u001b[43mepoch_runner\u001b[49m\u001b[43m(\u001b[49m\u001b[43mdata_loaders\u001b[49m\u001b[43m[\u001b[49m\u001b[43mi\u001b[49m\u001b[43m]\u001b[49m\u001b[43m,\u001b[49m\u001b[43m \u001b[49m\u001b[38;5;241;43m*\u001b[39;49m\u001b[38;5;241;43m*\u001b[39;49m\u001b[43mkwargs\u001b[49m\u001b[43m)\u001b[49m\n\u001b[1;32m    138\u001b[0m time\u001b[38;5;241m.\u001b[39msleep(\u001b[38;5;241m1\u001b[39m)  \u001b[38;5;66;03m# wait for some hooks like loggers to finish\u001b[39;00m\n\u001b[1;32m    139\u001b[0m \u001b[38;5;28mself\u001b[39m\u001b[38;5;241m.\u001b[39mcall_hook(\u001b[38;5;124m'\u001b[39m\u001b[38;5;124mafter_run\u001b[39m\u001b[38;5;124m'\u001b[39m)\n",
      "File \u001b[0;32m~/miniforge3/envs/pytorch/lib/python3.8/site-packages/mmcv/runner/epoch_based_runner.py:58\u001b[0m, in \u001b[0;36mEpochBasedRunner.train\u001b[0;34m(self, data_loader, **kwargs)\u001b[0m\n\u001b[1;32m     55\u001b[0m     \u001b[38;5;28;01mdel\u001b[39;00m \u001b[38;5;28mself\u001b[39m\u001b[38;5;241m.\u001b[39mdata_batch\n\u001b[1;32m     56\u001b[0m     \u001b[38;5;28mself\u001b[39m\u001b[38;5;241m.\u001b[39m_iter \u001b[38;5;241m+\u001b[39m\u001b[38;5;241m=\u001b[39m \u001b[38;5;241m1\u001b[39m\n\u001b[0;32m---> 58\u001b[0m \u001b[38;5;28;43mself\u001b[39;49m\u001b[38;5;241;43m.\u001b[39;49m\u001b[43mcall_hook\u001b[49m\u001b[43m(\u001b[49m\u001b[38;5;124;43m'\u001b[39;49m\u001b[38;5;124;43mafter_train_epoch\u001b[39;49m\u001b[38;5;124;43m'\u001b[39;49m\u001b[43m)\u001b[49m\n\u001b[1;32m     59\u001b[0m \u001b[38;5;28mself\u001b[39m\u001b[38;5;241m.\u001b[39m_epoch \u001b[38;5;241m+\u001b[39m\u001b[38;5;241m=\u001b[39m \u001b[38;5;241m1\u001b[39m\n",
      "File \u001b[0;32m~/miniforge3/envs/pytorch/lib/python3.8/site-packages/mmcv/runner/base_runner.py:317\u001b[0m, in \u001b[0;36mBaseRunner.call_hook\u001b[0;34m(self, fn_name)\u001b[0m\n\u001b[1;32m    310\u001b[0m \u001b[38;5;124;03m\"\"\"Call all hooks.\u001b[39;00m\n\u001b[1;32m    311\u001b[0m \n\u001b[1;32m    312\u001b[0m \u001b[38;5;124;03mArgs:\u001b[39;00m\n\u001b[1;32m    313\u001b[0m \u001b[38;5;124;03m    fn_name (str): The function name in each hook to be called, such as\u001b[39;00m\n\u001b[1;32m    314\u001b[0m \u001b[38;5;124;03m        \"before_train_epoch\".\u001b[39;00m\n\u001b[1;32m    315\u001b[0m \u001b[38;5;124;03m\"\"\"\u001b[39;00m\n\u001b[1;32m    316\u001b[0m \u001b[38;5;28;01mfor\u001b[39;00m hook \u001b[38;5;129;01min\u001b[39;00m \u001b[38;5;28mself\u001b[39m\u001b[38;5;241m.\u001b[39m_hooks:\n\u001b[0;32m--> 317\u001b[0m     \u001b[38;5;28;43mgetattr\u001b[39;49m\u001b[43m(\u001b[49m\u001b[43mhook\u001b[49m\u001b[43m,\u001b[49m\u001b[43m \u001b[49m\u001b[43mfn_name\u001b[49m\u001b[43m)\u001b[49m\u001b[43m(\u001b[49m\u001b[38;5;28;43mself\u001b[39;49m\u001b[43m)\u001b[49m\n",
      "File \u001b[0;32m~/miniforge3/envs/pytorch/lib/python3.8/site-packages/mmcv/runner/hooks/evaluation.py:271\u001b[0m, in \u001b[0;36mEvalHook.after_train_epoch\u001b[0;34m(self, runner)\u001b[0m\n\u001b[1;32m    269\u001b[0m \u001b[38;5;124;03m\"\"\"Called after every training epoch to evaluate the results.\"\"\"\u001b[39;00m\n\u001b[1;32m    270\u001b[0m \u001b[38;5;28;01mif\u001b[39;00m \u001b[38;5;28mself\u001b[39m\u001b[38;5;241m.\u001b[39mby_epoch \u001b[38;5;129;01mand\u001b[39;00m \u001b[38;5;28mself\u001b[39m\u001b[38;5;241m.\u001b[39m_should_evaluate(runner):\n\u001b[0;32m--> 271\u001b[0m     \u001b[38;5;28;43mself\u001b[39;49m\u001b[38;5;241;43m.\u001b[39;49m\u001b[43m_do_evaluate\u001b[49m\u001b[43m(\u001b[49m\u001b[43mrunner\u001b[49m\u001b[43m)\u001b[49m\n",
      "File \u001b[0;32m~/Documents/retail/mmdetection/mmdet/core/evaluation/eval_hooks.py:63\u001b[0m, in \u001b[0;36mEvalHook._do_evaluate\u001b[0;34m(self, runner)\u001b[0m\n\u001b[1;32m     61\u001b[0m \u001b[38;5;28mself\u001b[39m\u001b[38;5;241m.\u001b[39mlatest_results \u001b[38;5;241m=\u001b[39m results\n\u001b[1;32m     62\u001b[0m runner\u001b[38;5;241m.\u001b[39mlog_buffer\u001b[38;5;241m.\u001b[39moutput[\u001b[38;5;124m'\u001b[39m\u001b[38;5;124meval_iter_num\u001b[39m\u001b[38;5;124m'\u001b[39m] \u001b[38;5;241m=\u001b[39m \u001b[38;5;28mlen\u001b[39m(\u001b[38;5;28mself\u001b[39m\u001b[38;5;241m.\u001b[39mdataloader)\n\u001b[0;32m---> 63\u001b[0m key_score \u001b[38;5;241m=\u001b[39m \u001b[38;5;28;43mself\u001b[39;49m\u001b[38;5;241;43m.\u001b[39;49m\u001b[43mevaluate\u001b[49m\u001b[43m(\u001b[49m\u001b[43mrunner\u001b[49m\u001b[43m,\u001b[49m\u001b[43m \u001b[49m\u001b[43mresults\u001b[49m\u001b[43m)\u001b[49m\n\u001b[1;32m     64\u001b[0m \u001b[38;5;66;03m# the key_score may be `None` so it needs to skip the action to save\u001b[39;00m\n\u001b[1;32m     65\u001b[0m \u001b[38;5;66;03m# the best checkpoint\u001b[39;00m\n\u001b[1;32m     66\u001b[0m \u001b[38;5;28;01mif\u001b[39;00m \u001b[38;5;28mself\u001b[39m\u001b[38;5;241m.\u001b[39msave_best \u001b[38;5;129;01mand\u001b[39;00m key_score:\n",
      "File \u001b[0;32m~/miniforge3/envs/pytorch/lib/python3.8/site-packages/mmcv/runner/hooks/evaluation.py:367\u001b[0m, in \u001b[0;36mEvalHook.evaluate\u001b[0;34m(self, runner, results)\u001b[0m\n\u001b[1;32m    360\u001b[0m \u001b[38;5;28;01mdef\u001b[39;00m \u001b[38;5;21mevaluate\u001b[39m(\u001b[38;5;28mself\u001b[39m, runner, results):\n\u001b[1;32m    361\u001b[0m     \u001b[38;5;124;03m\"\"\"Evaluate the results.\u001b[39;00m\n\u001b[1;32m    362\u001b[0m \n\u001b[1;32m    363\u001b[0m \u001b[38;5;124;03m    Args:\u001b[39;00m\n\u001b[1;32m    364\u001b[0m \u001b[38;5;124;03m        runner (:obj:`mmcv.Runner`): The underlined training runner.\u001b[39;00m\n\u001b[1;32m    365\u001b[0m \u001b[38;5;124;03m        results (list): Output results.\u001b[39;00m\n\u001b[1;32m    366\u001b[0m \u001b[38;5;124;03m    \"\"\"\u001b[39;00m\n\u001b[0;32m--> 367\u001b[0m     eval_res \u001b[38;5;241m=\u001b[39m \u001b[38;5;28;43mself\u001b[39;49m\u001b[38;5;241;43m.\u001b[39;49m\u001b[43mdataloader\u001b[49m\u001b[38;5;241;43m.\u001b[39;49m\u001b[43mdataset\u001b[49m\u001b[38;5;241;43m.\u001b[39;49m\u001b[43mevaluate\u001b[49m\u001b[43m(\u001b[49m\n\u001b[1;32m    368\u001b[0m \u001b[43m        \u001b[49m\u001b[43mresults\u001b[49m\u001b[43m,\u001b[49m\u001b[43m \u001b[49m\u001b[43mlogger\u001b[49m\u001b[38;5;241;43m=\u001b[39;49m\u001b[43mrunner\u001b[49m\u001b[38;5;241;43m.\u001b[39;49m\u001b[43mlogger\u001b[49m\u001b[43m,\u001b[49m\u001b[43m \u001b[49m\u001b[38;5;241;43m*\u001b[39;49m\u001b[38;5;241;43m*\u001b[39;49m\u001b[38;5;28;43mself\u001b[39;49m\u001b[38;5;241;43m.\u001b[39;49m\u001b[43meval_kwargs\u001b[49m\u001b[43m)\u001b[49m\n\u001b[1;32m    370\u001b[0m     \u001b[38;5;28;01mfor\u001b[39;00m name, val \u001b[38;5;129;01min\u001b[39;00m eval_res\u001b[38;5;241m.\u001b[39mitems():\n\u001b[1;32m    371\u001b[0m         runner\u001b[38;5;241m.\u001b[39mlog_buffer\u001b[38;5;241m.\u001b[39moutput[name] \u001b[38;5;241m=\u001b[39m val\n",
      "File \u001b[0;32m~/Documents/retail/mmdetection/mmdet/datasets/coco.py:641\u001b[0m, in \u001b[0;36mCocoDataset.evaluate\u001b[0;34m(self, results, metric, logger, jsonfile_prefix, classwise, proposal_nums, iou_thrs, metric_items)\u001b[0m\n\u001b[1;32m    638\u001b[0m coco_gt \u001b[38;5;241m=\u001b[39m \u001b[38;5;28mself\u001b[39m\u001b[38;5;241m.\u001b[39mcoco\n\u001b[1;32m    639\u001b[0m \u001b[38;5;28mself\u001b[39m\u001b[38;5;241m.\u001b[39mcat_ids \u001b[38;5;241m=\u001b[39m coco_gt\u001b[38;5;241m.\u001b[39mget_cat_ids(cat_names\u001b[38;5;241m=\u001b[39m\u001b[38;5;28mself\u001b[39m\u001b[38;5;241m.\u001b[39mCLASSES)\n\u001b[0;32m--> 641\u001b[0m result_files, tmp_dir \u001b[38;5;241m=\u001b[39m \u001b[38;5;28;43mself\u001b[39;49m\u001b[38;5;241;43m.\u001b[39;49m\u001b[43mformat_results\u001b[49m\u001b[43m(\u001b[49m\u001b[43mresults\u001b[49m\u001b[43m,\u001b[49m\u001b[43m \u001b[49m\u001b[43mjsonfile_prefix\u001b[49m\u001b[43m)\u001b[49m\n\u001b[1;32m    642\u001b[0m eval_results \u001b[38;5;241m=\u001b[39m \u001b[38;5;28mself\u001b[39m\u001b[38;5;241m.\u001b[39mevaluate_det_segm(results, result_files, coco_gt,\n\u001b[1;32m    643\u001b[0m                                       metrics, logger, classwise,\n\u001b[1;32m    644\u001b[0m                                       proposal_nums, iou_thrs,\n\u001b[1;32m    645\u001b[0m                                       metric_items)\n\u001b[1;32m    647\u001b[0m \u001b[38;5;28;01mif\u001b[39;00m tmp_dir \u001b[38;5;129;01mis\u001b[39;00m \u001b[38;5;129;01mnot\u001b[39;00m \u001b[38;5;28;01mNone\u001b[39;00m:\n",
      "File \u001b[0;32m~/Documents/retail/mmdetection/mmdet/datasets/coco.py:383\u001b[0m, in \u001b[0;36mCocoDataset.format_results\u001b[0;34m(self, results, jsonfile_prefix, **kwargs)\u001b[0m\n\u001b[1;32m    381\u001b[0m \u001b[38;5;28;01melse\u001b[39;00m:\n\u001b[1;32m    382\u001b[0m     tmp_dir \u001b[38;5;241m=\u001b[39m \u001b[38;5;28;01mNone\u001b[39;00m\n\u001b[0;32m--> 383\u001b[0m result_files \u001b[38;5;241m=\u001b[39m \u001b[38;5;28;43mself\u001b[39;49m\u001b[38;5;241;43m.\u001b[39;49m\u001b[43mresults2json\u001b[49m\u001b[43m(\u001b[49m\u001b[43mresults\u001b[49m\u001b[43m,\u001b[49m\u001b[43m \u001b[49m\u001b[43mjsonfile_prefix\u001b[49m\u001b[43m)\u001b[49m\n\u001b[1;32m    384\u001b[0m \u001b[38;5;28;01mreturn\u001b[39;00m result_files, tmp_dir\n",
      "File \u001b[0;32m~/Documents/retail/mmdetection/mmdet/datasets/coco.py:315\u001b[0m, in \u001b[0;36mCocoDataset.results2json\u001b[0;34m(self, results, outfile_prefix)\u001b[0m\n\u001b[1;32m    313\u001b[0m result_files \u001b[38;5;241m=\u001b[39m \u001b[38;5;28mdict\u001b[39m()\n\u001b[1;32m    314\u001b[0m \u001b[38;5;28;01mif\u001b[39;00m \u001b[38;5;28misinstance\u001b[39m(results[\u001b[38;5;241m0\u001b[39m], \u001b[38;5;28mlist\u001b[39m):\n\u001b[0;32m--> 315\u001b[0m     json_results \u001b[38;5;241m=\u001b[39m \u001b[38;5;28;43mself\u001b[39;49m\u001b[38;5;241;43m.\u001b[39;49m\u001b[43m_det2json\u001b[49m\u001b[43m(\u001b[49m\u001b[43mresults\u001b[49m\u001b[43m)\u001b[49m\n\u001b[1;32m    316\u001b[0m     result_files[\u001b[38;5;124m'\u001b[39m\u001b[38;5;124mbbox\u001b[39m\u001b[38;5;124m'\u001b[39m] \u001b[38;5;241m=\u001b[39m \u001b[38;5;124mf\u001b[39m\u001b[38;5;124m'\u001b[39m\u001b[38;5;132;01m{\u001b[39;00moutfile_prefix\u001b[38;5;132;01m}\u001b[39;00m\u001b[38;5;124m.bbox.json\u001b[39m\u001b[38;5;124m'\u001b[39m\n\u001b[1;32m    317\u001b[0m     result_files[\u001b[38;5;124m'\u001b[39m\u001b[38;5;124mproposal\u001b[39m\u001b[38;5;124m'\u001b[39m] \u001b[38;5;241m=\u001b[39m \u001b[38;5;124mf\u001b[39m\u001b[38;5;124m'\u001b[39m\u001b[38;5;132;01m{\u001b[39;00moutfile_prefix\u001b[38;5;132;01m}\u001b[39;00m\u001b[38;5;124m.bbox.json\u001b[39m\u001b[38;5;124m'\u001b[39m\n",
      "File \u001b[0;32m~/Documents/retail/mmdetection/mmdet/datasets/coco.py:252\u001b[0m, in \u001b[0;36mCocoDataset._det2json\u001b[0;34m(self, results)\u001b[0m\n\u001b[1;32m    250\u001b[0m             data[\u001b[38;5;124m'\u001b[39m\u001b[38;5;124mbbox\u001b[39m\u001b[38;5;124m'\u001b[39m] \u001b[38;5;241m=\u001b[39m \u001b[38;5;28mself\u001b[39m\u001b[38;5;241m.\u001b[39mxyxy2xywh(bboxes[i])\n\u001b[1;32m    251\u001b[0m             data[\u001b[38;5;124m'\u001b[39m\u001b[38;5;124mscore\u001b[39m\u001b[38;5;124m'\u001b[39m] \u001b[38;5;241m=\u001b[39m \u001b[38;5;28mfloat\u001b[39m(bboxes[i][\u001b[38;5;241m4\u001b[39m])\n\u001b[0;32m--> 252\u001b[0m             data[\u001b[38;5;124m'\u001b[39m\u001b[38;5;124mcategory_id\u001b[39m\u001b[38;5;124m'\u001b[39m] \u001b[38;5;241m=\u001b[39m \u001b[38;5;28;43mself\u001b[39;49m\u001b[38;5;241;43m.\u001b[39;49m\u001b[43mcat_ids\u001b[49m\u001b[43m[\u001b[49m\u001b[43mlabel\u001b[49m\u001b[43m]\u001b[49m\n\u001b[1;32m    253\u001b[0m             json_results\u001b[38;5;241m.\u001b[39mappend(data)\n\u001b[1;32m    254\u001b[0m \u001b[38;5;28;01mreturn\u001b[39;00m json_results\n",
      "\u001b[0;31mIndexError\u001b[0m: list index out of range"
     ]
    }
   ],
   "source": [
    "from mmdet.datasets import build_dataset\n",
    "from mmdet.models import build_detector\n",
    "from mmdet.apis import train_detector\n",
    "\n",
    "\n",
    "# dataset 생성 및 model 설정\n",
    "\n",
    "datasets = [build_dataset(cfg.data.train)]\n",
    "model = build_detector(cfg.model)\n",
    "model.CLASSES = datasets[0].CLASSES\n",
    "# 훈련\n",
    "train_detector(model, datasets, cfg, distributed=False, validate=True)\n",
    "\n"
   ]
  },
  {
   "cell_type": "code",
   "execution_count": null,
   "id": "4024796a",
   "metadata": {},
   "outputs": [],
   "source": [
    "# visulization \n",
    "\n",
    "img = mmcv.imread(mm_path+'/data/dataset/test/0088.jpg')\n",
    "\n",
    "model.cfg = cfg\n",
    "result = inference_detector(model, img)\n",
    "show_result_pyplot(model, img, result)"
   ]
  },
  {
   "cell_type": "markdown",
   "id": "5635141f",
   "metadata": {},
   "source": [
    "## model test & out json "
   ]
  },
  {
   "cell_type": "code",
   "execution_count": 22,
   "id": "6e8d1977",
   "metadata": {},
   "outputs": [
    {
     "name": "stdout",
     "output_type": "stream",
     "text": [
      "{'exp_name': 'deformable_detr_r50_16x2_50e_coco.py'}\n"
     ]
    }
   ],
   "source": [
    "cfg = set_config()"
   ]
  },
  {
   "cell_type": "code",
   "execution_count": null,
   "id": "bcb7f598",
   "metadata": {},
   "outputs": [],
   "source": [
    "import argparse\n",
    "import os\n",
    "import os.path as osp\n",
    "import time\n",
    "import warnings\n",
    "\n",
    "import mmcv\n",
    "import torch\n",
    "from mmcv import Config, DictAction\n",
    "from mmcv.cnn import fuse_conv_bn\n",
    "from mmcv.runner import (get_dist_info, init_dist, load_checkpoint,\n",
    "                         wrap_fp16_model)\n",
    "\n",
    "from mmdet.apis import multi_gpu_test, single_gpu_test\n",
    "from mmdet.datasets import (build_dataloader, build_dataset,\n",
    "                            replace_ImageToTensor)\n",
    "from mmdet.models import build_detector\n",
    "from mmdet.utils import (build_ddp, build_dp, compat_cfg, get_device,\n",
    "                         replace_cfg_vals, setup_multi_processes,\n",
    "                         update_data_root)\n",
    "\n",
    "\n",
    "\n",
    "\n",
    "\n",
    "# 필요한 파라미터 설정\n",
    "checkpoint='work_dirs/lg_mask/lg_0801/latest.pth' # 훈련시킨 모델 가중치\n",
    "show=False\n",
    "show_dir=None\n",
    "show_score_thr=0.3\n",
    "eval_options={'jsonfile_prefix': './work_dirs/out_json/predict'} # json 출력 저장위치\n",
    "format_only = True\n",
    "out = None\n",
    "\n",
    "\n",
    "\n",
    "\n",
    "\n",
    "## 여기서 부터 기존의 mmdetection/tools/test.py 를 변경한 코드 ##\n",
    "\n",
    "cfg = replace_cfg_vals(cfg)\n",
    "update_data_root(cfg)\n",
    "cfg = compat_cfg(cfg)\n",
    "setup_multi_processes(cfg)\n",
    "\n",
    "\n",
    "\n",
    "# set cudnn_benchmark\n",
    "if cfg.get('cudnn_benchmark', False):\n",
    "    torch.backends.cudnn.benchmark = True\n",
    "\n",
    "if 'pretrained' in cfg.model:\n",
    "    cfg.model.pretrained = None\n",
    "elif 'init_cfg' in cfg.model.backbone:\n",
    "    cfg.model.backbone.init_cfg = None\n",
    "\n",
    "if cfg.model.get('neck'):\n",
    "    if isinstance(cfg.model.neck, list):\n",
    "        for neck_cfg in cfg.model.neck:\n",
    "            if neck_cfg.get('rfp_backbone'):\n",
    "                if neck_cfg.rfp_backbone.get('pretrained'):\n",
    "                    neck_cfg.rfp_backbone.pretrained = None\n",
    "    elif cfg.model.neck.get('rfp_backbone'):\n",
    "        if cfg.model.neck.rfp_backbone.get('pretrained'):\n",
    "            cfg.model.neck.rfp_backbone.pretrained = None\n",
    "\n",
    "\n",
    "\n",
    "cfg.gpu_ids = [cfg.gpu_ids]\n",
    "cfg.device = get_device()\n",
    "\n",
    "\n",
    "distributed = False\n",
    "\n",
    "\n",
    "test_dataloader_default_args = dict(\n",
    "    samples_per_gpu=1, workers_per_gpu=2, dist=distributed, shuffle=False)\n",
    "\n",
    "# in case the test dataset is concatenated\n",
    "if isinstance(cfg.data.test, dict):\n",
    "    cfg.data.test.test_mode = True\n",
    "    if cfg.data.test_dataloader.get('samples_per_gpu', 1) > 1:\n",
    "        # Replace 'ImageToTensor' to 'DefaultFormatBundle'\n",
    "        cfg.data.test.pipeline = replace_ImageToTensor(\n",
    "            cfg.data.test.pipeline)\n",
    "elif isinstance(cfg.data.test, list):\n",
    "    for ds_cfg in cfg.data.test:\n",
    "        ds_cfg.test_mode = True\n",
    "    if cfg.data.test_dataloader.get('samples_per_gpu', 1) > 1:\n",
    "        for ds_cfg in cfg.data.test:\n",
    "            ds_cfg.pipeline = replace_ImageToTensor(ds_cfg.pipeline)\n",
    "\n",
    "test_loader_cfg = {\n",
    "    **test_dataloader_default_args,\n",
    "    **cfg.data.get('test_dataloader', {})\n",
    "}\n",
    "\n",
    "rank, _ = get_dist_info()\n",
    "\n",
    "\n",
    "# build the dataloader\n",
    "dataset = build_dataset(cfg.data.test)\n",
    "data_loader = build_dataloader(dataset, **test_loader_cfg)\n",
    "\n",
    "# build the model and load checkpoint\n",
    "cfg.model.train_cfg = None\n",
    "model = build_detector(cfg.model, test_cfg=cfg.get('test_cfg'))\n",
    "\n",
    "fp16_cfg = cfg.get('fp16', None)\n",
    "if fp16_cfg is not None:\n",
    "    wrap_fp16_model(model)\n",
    "checkpoint = load_checkpoint(model, checkpoint, map_location='cpu')\n",
    "\n",
    "\n",
    "if 'CLASSES' in checkpoint.get('meta', {}):\n",
    "    model.CLASSES = checkpoint['meta']['CLASSES']\n",
    "else:\n",
    "    model.CLASSES = dataset.CLASSES\n",
    "\n",
    "if not distributed:\n",
    "    model = build_dp(model, cfg.device, device_ids=cfg.gpu_ids)\n",
    "    outputs = single_gpu_test(model, data_loader, show, show_dir,\n",
    "                              show_score_thr)\n",
    "\n",
    "\n",
    "rank, _ = get_dist_info()\n",
    "if rank == 0:\n",
    "    if out:\n",
    "        print(f'\\nwriting results to {out}')\n",
    "        mmcv.dump(outputs, out)\n",
    "    kwargs = {} if eval_options is None else eval_options\n",
    "    if format_only:\n",
    "        dataset.format_results(outputs, **kwargs)"
   ]
  },
  {
   "cell_type": "code",
   "execution_count": null,
   "id": "7af8dad7",
   "metadata": {},
   "outputs": [],
   "source": [
    "import json\n",
    "from datetime import datetime\n",
    "\n",
    "with open(mm_path+f\"/work_dirs/out_json/predict.bbox.json\") as f:\n",
    "    out_data1 = json.load(f)\n",
    "\n",
    "with open(mm_path+ f\"/work_dirs/out_json/predict.segm.json\") as f:\n",
    "    out_data2 = json.load(f)"
   ]
  }
 ],
 "metadata": {
  "kernelspec": {
   "display_name": "Python 3 (ipykernel)",
   "language": "python",
   "name": "python3"
  },
  "language_info": {
   "codemirror_mode": {
    "name": "ipython",
    "version": 3
   },
   "file_extension": ".py",
   "mimetype": "text/x-python",
   "name": "python",
   "nbconvert_exporter": "python",
   "pygments_lexer": "ipython3",
   "version": "3.8.13"
  },
  "toc": {
   "base_numbering": 1,
   "nav_menu": {},
   "number_sections": true,
   "sideBar": true,
   "skip_h1_title": false,
   "title_cell": "Table of Contents",
   "title_sidebar": "Contents",
   "toc_cell": false,
   "toc_position": {},
   "toc_section_display": true,
   "toc_window_display": false
  }
 },
 "nbformat": 4,
 "nbformat_minor": 5
}
