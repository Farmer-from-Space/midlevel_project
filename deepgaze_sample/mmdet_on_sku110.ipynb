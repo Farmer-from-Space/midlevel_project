{
 "cells": [
  {
   "cell_type": "markdown",
   "id": "049b33eb",
   "metadata": {},
   "source": [
    "# purpose : New pretrained file for DeepgazeIIE model "
   ]
  },
  {
   "cell_type": "markdown",
   "id": "96ece426",
   "metadata": {},
   "source": [
    "## data & frame 준비 "
   ]
  },
  {
   "cell_type": "code",
   "execution_count": 1,
   "id": "da572c8d",
   "metadata": {},
   "outputs": [],
   "source": [
    "# data path\n",
    "base_path = '/Users/krc/Documents/retail/'"
   ]
  },
  {
   "cell_type": "code",
   "execution_count": 2,
   "id": "e7aca1fa",
   "metadata": {},
   "outputs": [
    {
     "data": {
      "text/plain": [
       "'1.13.0.dev20220623'"
      ]
     },
     "execution_count": 2,
     "metadata": {},
     "output_type": "execute_result"
    }
   ],
   "source": [
    "# install check \n",
    "import torch\n",
    "import os\n",
    "import csv\n",
    "torch.__version__"
   ]
  },
  {
   "cell_type": "code",
   "execution_count": 3,
   "id": "b1f1e3ae",
   "metadata": {},
   "outputs": [
    {
     "data": {
      "text/plain": [
       "'/Users/krc/Documents/retail/retail_gh/deepgaze_sample'"
      ]
     },
     "execution_count": 3,
     "metadata": {},
     "output_type": "execute_result"
    }
   ],
   "source": [
    "os.getcwd()"
   ]
  },
  {
   "cell_type": "code",
   "execution_count": 4,
   "id": "33464ba0",
   "metadata": {},
   "outputs": [
    {
     "name": "stdout",
     "output_type": "stream",
     "text": [
      "/Users/krc/Documents/retail\n"
     ]
    }
   ],
   "source": [
    "%cd ../../"
   ]
  },
  {
   "cell_type": "code",
   "execution_count": 10,
   "id": "e53b388e",
   "metadata": {},
   "outputs": [
    {
     "name": "stdout",
     "output_type": "stream",
     "text": [
      "Looking in links: https://download.openmmlab.com/mmcv/dist/cu113/torch1.12.0/index.html\n",
      "Requirement already satisfied: mmcv-full in /Users/krc/miniforge3/envs/pytorch/lib/python3.8/site-packages (1.6.0)\n",
      "Requirement already satisfied: addict in /Users/krc/miniforge3/envs/pytorch/lib/python3.8/site-packages (from mmcv-full) (2.4.0)\n",
      "Requirement already satisfied: Pillow in /Users/krc/miniforge3/envs/pytorch/lib/python3.8/site-packages (from mmcv-full) (9.0.1)\n",
      "Requirement already satisfied: pyyaml in /Users/krc/miniforge3/envs/pytorch/lib/python3.8/site-packages (from mmcv-full) (6.0)\n",
      "Requirement already satisfied: numpy in /Users/krc/miniforge3/envs/pytorch/lib/python3.8/site-packages (from mmcv-full) (1.22.3)\n",
      "Requirement already satisfied: packaging in /Users/krc/miniforge3/envs/pytorch/lib/python3.8/site-packages (from mmcv-full) (21.3)\n",
      "Requirement already satisfied: yapf in /Users/krc/miniforge3/envs/pytorch/lib/python3.8/site-packages (from mmcv-full) (0.32.0)\n",
      "Requirement already satisfied: pyparsing!=3.0.5,>=2.0.2 in /Users/krc/miniforge3/envs/pytorch/lib/python3.8/site-packages (from packaging->mmcv-full) (3.0.4)\n",
      "Cloning into 'mmdetection'...\n",
      "remote: Enumerating objects: 31884, done.\u001b[K\n",
      "remote: Counting objects: 100% (13/13), done.\u001b[K\n",
      "remote: Compressing objects: 100% (13/13), done.\u001b[K\n",
      "remote: Total 31884 (delta 0), reused 4 (delta 0), pack-reused 31871\u001b[K\n",
      "Receiving objects: 100% (31884/31884), 40.80 MiB | 16.91 MiB/s, done.\n",
      "Resolving deltas: 100% (22972/22972), done.\n",
      "/Users/krc/Documents/retail/mmdetection\n",
      "Requirement already satisfied: cython in /Users/krc/miniforge3/envs/pytorch/lib/python3.8/site-packages (from -r requirements/build.txt (line 2)) (0.29.30)\n",
      "Requirement already satisfied: numpy in /Users/krc/miniforge3/envs/pytorch/lib/python3.8/site-packages (from -r requirements/build.txt (line 3)) (1.22.3)\n",
      "Using pip 22.1.2 from /Users/krc/miniforge3/envs/pytorch/lib/python3.8/site-packages/pip (python 3.8)\n",
      "Obtaining file:///Users/krc/Documents/retail/mmdetection\n",
      "  Running command python setup.py egg_info\n",
      "  running egg_info\n",
      "  creating /private/var/folders/5m/j1nv4tbn34l6v5n5hjqzx0c40000gn/T/pip-pip-egg-info-g383yw8b/mmdet.egg-info\n",
      "  writing /private/var/folders/5m/j1nv4tbn34l6v5n5hjqzx0c40000gn/T/pip-pip-egg-info-g383yw8b/mmdet.egg-info/PKG-INFO\n",
      "  writing dependency_links to /private/var/folders/5m/j1nv4tbn34l6v5n5hjqzx0c40000gn/T/pip-pip-egg-info-g383yw8b/mmdet.egg-info/dependency_links.txt\n",
      "  writing requirements to /private/var/folders/5m/j1nv4tbn34l6v5n5hjqzx0c40000gn/T/pip-pip-egg-info-g383yw8b/mmdet.egg-info/requires.txt\n",
      "  writing top-level names to /private/var/folders/5m/j1nv4tbn34l6v5n5hjqzx0c40000gn/T/pip-pip-egg-info-g383yw8b/mmdet.egg-info/top_level.txt\n",
      "  writing manifest file '/private/var/folders/5m/j1nv4tbn34l6v5n5hjqzx0c40000gn/T/pip-pip-egg-info-g383yw8b/mmdet.egg-info/SOURCES.txt'\n",
      "  reading manifest file '/private/var/folders/5m/j1nv4tbn34l6v5n5hjqzx0c40000gn/T/pip-pip-egg-info-g383yw8b/mmdet.egg-info/SOURCES.txt'\n",
      "  reading manifest template 'MANIFEST.in'\n",
      "  warning: no files found matching 'mmdet/VERSION'\n",
      "  warning: no files found matching 'mmdet/.mim/model-index.yml'\n",
      "  warning: no files found matching 'mmdet/.mim/demo/*/*'\n",
      "  warning: no files found matching '*.py' under directory 'mmdet/.mim/configs'\n",
      "  warning: no files found matching '*.yml' under directory 'mmdet/.mim/configs'\n",
      "  warning: no files found matching '*.sh' under directory 'mmdet/.mim/tools'\n",
      "  warning: no files found matching '*.py' under directory 'mmdet/.mim/tools'\n",
      "  adding license file 'LICENSE'\n",
      "  writing manifest file '/private/var/folders/5m/j1nv4tbn34l6v5n5hjqzx0c40000gn/T/pip-pip-egg-info-g383yw8b/mmdet.egg-info/SOURCES.txt'\n",
      "  Preparing metadata (setup.py) ... \u001b[?25l\u001b[?25hdone\n",
      "Requirement already satisfied: matplotlib in /Users/krc/miniforge3/envs/pytorch/lib/python3.8/site-packages (from mmdet==2.25.2) (3.5.1)\n",
      "Requirement already satisfied: numpy in /Users/krc/miniforge3/envs/pytorch/lib/python3.8/site-packages (from mmdet==2.25.2) (1.22.3)\n",
      "Requirement already satisfied: pycocotools in /Users/krc/miniforge3/envs/pytorch/lib/python3.8/site-packages (from mmdet==2.25.2) (2.0.4)\n",
      "Requirement already satisfied: six in /Users/krc/miniforge3/envs/pytorch/lib/python3.8/site-packages (from mmdet==2.25.2) (1.16.0)\n",
      "Requirement already satisfied: terminaltables in /Users/krc/miniforge3/envs/pytorch/lib/python3.8/site-packages (from mmdet==2.25.2) (3.1.10)\n",
      "Requirement already satisfied: kiwisolver>=1.0.1 in /Users/krc/miniforge3/envs/pytorch/lib/python3.8/site-packages (from matplotlib->mmdet==2.25.2) (1.4.2)\n",
      "Requirement already satisfied: pillow>=6.2.0 in /Users/krc/miniforge3/envs/pytorch/lib/python3.8/site-packages (from matplotlib->mmdet==2.25.2) (9.0.1)\n",
      "Requirement already satisfied: fonttools>=4.22.0 in /Users/krc/miniforge3/envs/pytorch/lib/python3.8/site-packages (from matplotlib->mmdet==2.25.2) (4.25.0)\n",
      "Requirement already satisfied: python-dateutil>=2.7 in /Users/krc/miniforge3/envs/pytorch/lib/python3.8/site-packages (from matplotlib->mmdet==2.25.2) (2.8.2)\n",
      "Requirement already satisfied: pyparsing>=2.2.1 in /Users/krc/miniforge3/envs/pytorch/lib/python3.8/site-packages (from matplotlib->mmdet==2.25.2) (3.0.4)\n",
      "Requirement already satisfied: cycler>=0.10 in /Users/krc/miniforge3/envs/pytorch/lib/python3.8/site-packages (from matplotlib->mmdet==2.25.2) (0.11.0)\n",
      "Requirement already satisfied: packaging>=20.0 in /Users/krc/miniforge3/envs/pytorch/lib/python3.8/site-packages (from matplotlib->mmdet==2.25.2) (21.3)\n",
      "Installing collected packages: mmdet\n",
      "  Running setup.py develop for mmdet\n",
      "    Running command python setup.py develop\n",
      "    running develop\n",
      "    running egg_info\n",
      "    creating mmdet.egg-info\n",
      "    writing mmdet.egg-info/PKG-INFO\n",
      "    writing dependency_links to mmdet.egg-info/dependency_links.txt\n",
      "    writing requirements to mmdet.egg-info/requires.txt\n",
      "    writing top-level names to mmdet.egg-info/top_level.txt\n",
      "    writing manifest file 'mmdet.egg-info/SOURCES.txt'\n",
      "    reading manifest file 'mmdet.egg-info/SOURCES.txt'\n",
      "    reading manifest template 'MANIFEST.in'\n",
      "    /Users/krc/miniforge3/envs/pytorch/lib/python3.8/site-packages/setuptools/command/easy_install.py:144: EasyInstallDeprecationWarning: easy_install command is deprecated. Use build and pip and other standards-based tools.\n",
      "      warnings.warn(\n",
      "    /Users/krc/miniforge3/envs/pytorch/lib/python3.8/site-packages/setuptools/command/install.py:34: SetuptoolsDeprecationWarning: setup.py install is deprecated. Use build and pip and other standards-based tools.\n",
      "      warnings.warn(\n",
      "    warning: no files found matching 'mmdet/VERSION'\n",
      "    warning: no files found matching 'mmdet/.mim/demo/*/*'\n",
      "    adding license file 'LICENSE'\n",
      "    writing manifest file 'mmdet.egg-info/SOURCES.txt'\n",
      "    running build_ext\n",
      "    Creating /Users/krc/miniforge3/envs/pytorch/lib/python3.8/site-packages/mmdet.egg-link (link to .)\n",
      "    Adding mmdet 2.25.2 to easy-install.pth file\n",
      "\n",
      "    Installed /Users/krc/Documents/retail/mmdetection\n",
      "Successfully installed mmdet-2.25.2\n",
      "Requirement already satisfied: mmdet in /Users/krc/Documents/retail/mmdetection (2.25.2)\n",
      "Requirement already satisfied: matplotlib in /Users/krc/miniforge3/envs/pytorch/lib/python3.8/site-packages (from mmdet) (3.5.1)\n",
      "Requirement already satisfied: numpy in /Users/krc/miniforge3/envs/pytorch/lib/python3.8/site-packages (from mmdet) (1.22.3)\n",
      "Requirement already satisfied: pycocotools in /Users/krc/miniforge3/envs/pytorch/lib/python3.8/site-packages (from mmdet) (2.0.4)\n",
      "Requirement already satisfied: six in /Users/krc/miniforge3/envs/pytorch/lib/python3.8/site-packages (from mmdet) (1.16.0)\n",
      "Requirement already satisfied: terminaltables in /Users/krc/miniforge3/envs/pytorch/lib/python3.8/site-packages (from mmdet) (3.1.10)\n",
      "Requirement already satisfied: python-dateutil>=2.7 in /Users/krc/miniforge3/envs/pytorch/lib/python3.8/site-packages (from matplotlib->mmdet) (2.8.2)\n",
      "Requirement already satisfied: pyparsing>=2.2.1 in /Users/krc/miniforge3/envs/pytorch/lib/python3.8/site-packages (from matplotlib->mmdet) (3.0.4)\n",
      "Requirement already satisfied: cycler>=0.10 in /Users/krc/miniforge3/envs/pytorch/lib/python3.8/site-packages (from matplotlib->mmdet) (0.11.0)\n",
      "Requirement already satisfied: kiwisolver>=1.0.1 in /Users/krc/miniforge3/envs/pytorch/lib/python3.8/site-packages (from matplotlib->mmdet) (1.4.2)\n",
      "Requirement already satisfied: packaging>=20.0 in /Users/krc/miniforge3/envs/pytorch/lib/python3.8/site-packages (from matplotlib->mmdet) (21.3)\n",
      "Requirement already satisfied: pillow>=6.2.0 in /Users/krc/miniforge3/envs/pytorch/lib/python3.8/site-packages (from matplotlib->mmdet) (9.0.1)\n",
      "Requirement already satisfied: fonttools>=4.22.0 in /Users/krc/miniforge3/envs/pytorch/lib/python3.8/site-packages (from matplotlib->mmdet) (4.25.0)\n"
     ]
    }
   ],
   "source": [
    "# #mmdetection installation \n",
    "# !pip install mmcv-full -f https://download.openmmlab.com/mmcv/dist/cu113/torch1.12.0/index.html\n",
    "# !git clone https://github.com/open-mmlab/mmdetection.git\n",
    "# %cd mmdetection\n",
    "# !pip install -r requirements/build.txt\n",
    "# !pip install -v -e .\n",
    "# !pip install mmdet"
   ]
  },
  {
   "cell_type": "code",
   "execution_count": 11,
   "id": "77a8d88f",
   "metadata": {},
   "outputs": [
    {
     "data": {
      "text/plain": [
       "['demo',\n",
       " 'tools',\n",
       " 'docker',\n",
       " 'pytest.ini',\n",
       " 'LICENSE',\n",
       " 'requirements.txt',\n",
       " '.pre-commit-config.yaml',\n",
       " 'CITATION.cff',\n",
       " '.owners.yml',\n",
       " 'resources',\n",
       " 'tests',\n",
       " 'MANIFEST.in',\n",
       " 'requirements',\n",
       " 'docs',\n",
       " 'README_zh-CN.md',\n",
       " '.readthedocs.yml',\n",
       " 'README.md',\n",
       " 'setup.py',\n",
       " '.gitignore',\n",
       " 'mmdet.egg-info',\n",
       " 'configs',\n",
       " '.github',\n",
       " '.dev_scripts',\n",
       " 'setup.cfg',\n",
       " '.git',\n",
       " 'model-index.yml',\n",
       " '.circleci',\n",
       " 'mmdet']"
      ]
     },
     "execution_count": 11,
     "metadata": {},
     "output_type": "execute_result"
    }
   ],
   "source": [
    "os.listdir()"
   ]
  },
  {
   "cell_type": "code",
   "execution_count": 5,
   "id": "5a47b138",
   "metadata": {
    "scrolled": true
   },
   "outputs": [
    {
     "name": "stderr",
     "output_type": "stream",
     "text": [
      "IOPub data rate exceeded.\n",
      "The notebook server will temporarily stop sending output\n",
      "to the client in order to avoid crashing it.\n",
      "To change this limit, set the config variable\n",
      "`--NotebookApp.iopub_data_rate_limit`.\n",
      "\n",
      "Current values:\n",
      "NotebookApp.iopub_data_rate_limit=1000000.0 (bytes/sec)\n",
      "NotebookApp.rate_limit_window=3.0 (secs)\n",
      "\n"
     ]
    }
   ],
   "source": [
    "# annotation by csv \n",
    "f =open('/Users/krc/Documents/retail/data/SKU110K_fixed/annotations/annotations_train.csv','r')\n",
    "annotation = csv.reader(f)\n",
    "# image_name,x1,y1,x2,y2,class,image_width,image_height\n",
    "ls_ann = list(annotation)\n",
    "print(ls_ann)\n",
    "f.close()"
   ]
  },
  {
   "cell_type": "code",
   "execution_count": 6,
   "id": "a22fc5ce",
   "metadata": {},
   "outputs": [
    {
     "name": "stdout",
     "output_type": "stream",
     "text": [
      "['image_name', 'x1', 'y1', 'x2', 'y2', 'class', 'image_width', 'image_height']\n",
      "['train_999.jpg', '905', '1589', '1144', '1712', 'object', '2336', '4160']\n",
      "train_999.jpg\n"
     ]
    }
   ],
   "source": [
    "index = ['image_name','x1','y1','x2','y2','class','image_width','image_height']\n",
    "print(index)\n",
    "print(ls_ann[-1])\n",
    "print(ls_ann[-1][0])\n"
   ]
  },
  {
   "cell_type": "code",
   "execution_count": 7,
   "id": "c86d7c97",
   "metadata": {},
   "outputs": [
    {
     "name": "stdout",
     "output_type": "stream",
     "text": [
      "Requirement already satisfied: PyYAML in /Users/krc/miniforge3/envs/pytorch/lib/python3.8/site-packages (6.0)\r\n"
     ]
    }
   ],
   "source": [
    "!pip install PyYAML"
   ]
  },
  {
   "cell_type": "code",
   "execution_count": 43,
   "id": "ac31d22a",
   "metadata": {},
   "outputs": [],
   "source": [
    "# annotation 생성\n",
    "import copy\n",
    "import os.path as osp\n",
    "import cv2\n",
    "import yaml\n",
    "\n",
    "import mmcv\n",
    "import numpy as np\n",
    "\n",
    "from mmdet.datasets.builder import DATASETS\n",
    "from mmdet.datasets.custom import CustomDataset\n",
    "\n",
    "CLASSES = ('object')\n",
    "# cat2label = {k:i for i, k in enumerate(CLASSES)}\n",
    "\n",
    "# 반드시 아래 Decorator 설정 할것.@DATASETS.register_module() 설정 시 force=True를 입력하지 않으면 Dataset 재등록 불가. \n",
    "# @DATASETS.register_module(force=True)\n",
    "# class SKIKU110K(CustomDataset):\n",
    "#   CLASSES = ('object')\n",
    "  \n",
    "  ##### self.data_root: ./kitti_tiny/ self.ann_file: ./kitti_tiny/train.txt self.img_prefix: ./kitti_tiny/training/image_2\n",
    "  #### ann_file: ./kitti_tiny/train.txt\n",
    "  # annotation에 대한 모든 파일명을 가지고 있는 텍스트 파일을 __init__(self, ann_file)로 입력 받고, 이 self.ann_file이 load_annotations()의 인자로 입력\n",
    "def load_annotations(self, ann_file):\n",
    "#     print('##### self.data_root:', self.data_root, 'self.ann_file:', self.ann_file, 'self.img_prefix:', self.img_prefix)\n",
    "#     print('#### ann_file:', ann_file)\n",
    "#    cat2label = {k:i for i, k in enumerate(self.CLASSES)}\n",
    "    # 포맷 중립 데이터를 담을 list 객체\n",
    "    data_infos = []\n",
    "    \n",
    "    for label in ann_file:\n",
    "      filename = label[0]\n",
    "      height, width = label[6],label[7]\n",
    "      # 개별 image의 annotation 정보 저장용 Dict 생성. key값 filename 에는 image의 파일명만 들어감(디렉토리는 제외)\n",
    "      data_info = {'filename': str(filename),\n",
    "                   'width': width, 'height': height}\n",
    "\n",
    "      # 오브젝트의 클래스명은 bbox_names로 저장. \n",
    "      bbox_names = label[5]\n",
    "      # bbox 좌표를 저장\n",
    "      bboxes = [int(label[1]),int(label[2]), int(label[3]) -int(label[1]), int(label[4])-int(label[2])]\n",
    "\n",
    "# 굳이? \n",
    "#       # 클래스명이 해당 사항이 없는 대상 Filtering out, 'DontCare'sms ignore로 별도 저장.\n",
    "#       gt_bboxes = []\n",
    "#       gt_labels = []\n",
    "#       gt_bboxes_ignore = []\n",
    "#       gt_labels_ignore = []\n",
    "\n",
    "#       for bbox_name, bbox in zip(bbox_names, bboxes):\n",
    "#         # 만약 bbox_name이 클래스명에 해당 되면, gt_bboxes와 gt_labels에 추가, 그렇지 않으면 gt_bboxes_ignore, gt_labels_ignore에 추가\n",
    "#         if bbox_name in cat2label:\n",
    "#           gt_bboxes.append(bbox)\n",
    "#           # gt_labels에는 class id를 입력\n",
    "#           gt_labels.append(cat2label[bbox_name])\n",
    "#         else:\n",
    "#           gt_bboxes_ignore.append(bbox)\n",
    "#           gt_labels_ignore.append(-1)\n",
    "      # 개별 image별 annotation 정보를 가지는 Dict 생성. 해당 Dict의 value값은 모두 np.array임. \n",
    "      data_anno = {\n",
    "          'bboxes': np.array(bboxes, dtype=np.float32).reshape(-1, 4).tolist(),\n",
    "          'labels':bbox_names,\n",
    "      }\n",
    "      # image에 대한 메타 정보를 가지는 data_info Dict에 'ann' key값으로 data_anno를 value로 저장. \n",
    "      data_info.update(ann=data_anno)\n",
    "      # 전체 annotation 파일들에 대한 정보를 가지는 data_infos에 data_info Dict를 추가\n",
    "      data_infos.append(data_info)\n",
    "\n",
    "    return data_infos"
   ]
  },
  {
   "cell_type": "code",
   "execution_count": 44,
   "id": "a051da7a",
   "metadata": {},
   "outputs": [
    {
     "name": "stderr",
     "output_type": "stream",
     "text": [
      "IOPub data rate exceeded.\n",
      "The notebook server will temporarily stop sending output\n",
      "to the client in order to avoid crashing it.\n",
      "To change this limit, set the config variable\n",
      "`--NotebookApp.iopub_data_rate_limit`.\n",
      "\n",
      "Current values:\n",
      "NotebookApp.iopub_data_rate_limit=1000000.0 (bytes/sec)\n",
      "NotebookApp.rate_limit_window=3.0 (secs)\n",
      "\n"
     ]
    }
   ],
   "source": [
    "\n",
    "new_ann = load_annotations(CustomDataset,ann_file=ls_ann)\n",
    "print(new_ann)"
   ]
  },
  {
   "cell_type": "code",
   "execution_count": 52,
   "id": "9e784b57",
   "metadata": {},
   "outputs": [
    {
     "data": {
      "text/plain": [
       "{'bboxes': [[208.0, 537.0, 214.0, 277.0]], 'labels': 'object'}"
      ]
     },
     "execution_count": 52,
     "metadata": {},
     "output_type": "execute_result"
    }
   ],
   "source": [
    "new_ann[0]['ann']"
   ]
  },
  {
   "cell_type": "code",
   "execution_count": 53,
   "id": "dd432742",
   "metadata": {},
   "outputs": [],
   "source": [
    "import json\n",
    "\n",
    "with open('new_ann.json', 'w') as f:\n",
    "    json.dump(new_ann, f)"
   ]
  },
  {
   "cell_type": "code",
   "execution_count": 54,
   "id": "2b620cdc",
   "metadata": {},
   "outputs": [
    {
     "data": {
      "text/plain": [
       "'/Users/krc/Documents/retail'"
      ]
     },
     "execution_count": 54,
     "metadata": {},
     "output_type": "execute_result"
    }
   ],
   "source": [
    "os.getcwd()"
   ]
  },
  {
   "cell_type": "code",
   "execution_count": null,
   "id": "082917e8",
   "metadata": {},
   "outputs": [],
   "source": []
  }
 ],
 "metadata": {
  "kernelspec": {
   "display_name": "Python 3 (ipykernel)",
   "language": "python",
   "name": "python3"
  },
  "language_info": {
   "codemirror_mode": {
    "name": "ipython",
    "version": 3
   },
   "file_extension": ".py",
   "mimetype": "text/x-python",
   "name": "python",
   "nbconvert_exporter": "python",
   "pygments_lexer": "ipython3",
   "version": "3.8.13"
  },
  "toc": {
   "base_numbering": 1,
   "nav_menu": {},
   "number_sections": true,
   "sideBar": true,
   "skip_h1_title": false,
   "title_cell": "Table of Contents",
   "title_sidebar": "Contents",
   "toc_cell": false,
   "toc_position": {},
   "toc_section_display": true,
   "toc_window_display": false
  }
 },
 "nbformat": 4,
 "nbformat_minor": 5
}
